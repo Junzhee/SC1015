{
 "cells": [
  {
   "cell_type": "markdown",
   "metadata": {},
   "source": [
    "# Data Science Job Postings and Salaries Analysis\n",
    "\n",
    "The two datasets used in the mini-project are\n",
    "- title_location_company_salary.xls\n",
    "- Job_skills_qualifications.xls"
   ]
  },
  {
   "cell_type": "markdown",
   "metadata": {},
   "source": [
    "---\n",
    "\n",
    "## 1.  Problem Definition\n",
    "\n",
    "Predict the **`salary`** of staffs using features in the two datasets.\n",
    "- Analyze the `importance` of features that can be of help in increasing the salary.\n",
    "- Find the `anomalies` of salary among the staffs."
   ]
  },
  {
   "cell_type": "markdown",
   "metadata": {},
   "source": [
    "---"
   ]
  },
  {
   "cell_type": "markdown",
   "metadata": {},
   "source": [
    "## 2. Dataset Preview"
   ]
  },
  {
   "cell_type": "markdown",
   "metadata": {},
   "source": [
    " "
   ]
  },
  {
   "cell_type": "code",
   "execution_count": 1,
   "metadata": {},
   "outputs": [],
   "source": [
    "import pandas as pd\n",
    "import numpy as np\n",
    "import matplotlib.pyplot as plt\n",
    "import seaborn as sns"
   ]
  },
  {
   "cell_type": "code",
   "execution_count": 2,
   "metadata": {},
   "outputs": [],
   "source": [
    "df_salary = pd.read_excel(\"title_location_company_salary.xls\", converters = {'Salary' : int})\n",
    "df_skills = pd.read_excel(\"Job_skills_qualifications.xls\")"
   ]
  },
  {
   "cell_type": "code",
   "execution_count": 3,
   "metadata": {},
   "outputs": [
    {
     "name": "stdout",
     "output_type": "stream",
     "text": [
      "<class 'pandas.core.frame.DataFrame'>\n",
      "RangeIndex: 1287 entries, 0 to 1286\n",
      "Data columns (total 7 columns):\n",
      " #   Column   Non-Null Count  Dtype \n",
      "---  ------   --------------  ----- \n",
      " 0   Job_ID   1287 non-null   int64 \n",
      " 1   Title    1287 non-null   object\n",
      " 2   Company  1285 non-null   object\n",
      " 3   City     1116 non-null   object\n",
      " 4   State    1287 non-null   object\n",
      " 5   Salary   1209 non-null   object\n",
      " 6   Levels   1287 non-null   object\n",
      "dtypes: int64(1), object(6)\n",
      "memory usage: 70.5+ KB\n"
     ]
    }
   ],
   "source": [
    "df_salary.info()"
   ]
  },
  {
   "cell_type": "code",
   "execution_count": 4,
   "metadata": {},
   "outputs": [
    {
     "data": {
      "text/html": [
       "<div>\n",
       "<style scoped>\n",
       "    .dataframe tbody tr th:only-of-type {\n",
       "        vertical-align: middle;\n",
       "    }\n",
       "\n",
       "    .dataframe tbody tr th {\n",
       "        vertical-align: top;\n",
       "    }\n",
       "\n",
       "    .dataframe thead th {\n",
       "        text-align: right;\n",
       "    }\n",
       "</style>\n",
       "<table border=\"1\" class=\"dataframe\">\n",
       "  <thead>\n",
       "    <tr style=\"text-align: right;\">\n",
       "      <th></th>\n",
       "      <th>Job_ID</th>\n",
       "      <th>Title</th>\n",
       "      <th>Company</th>\n",
       "      <th>City</th>\n",
       "      <th>State</th>\n",
       "      <th>Salary</th>\n",
       "      <th>Levels</th>\n",
       "    </tr>\n",
       "  </thead>\n",
       "  <tbody>\n",
       "    <tr>\n",
       "      <th>0</th>\n",
       "      <td>0</td>\n",
       "      <td>Data Scientist</td>\n",
       "      <td>Numerdox</td>\n",
       "      <td>Sacramento</td>\n",
       "      <td>California</td>\n",
       "      <td>110000</td>\n",
       "      <td>Jr.</td>\n",
       "    </tr>\n",
       "    <tr>\n",
       "      <th>1</th>\n",
       "      <td>1</td>\n",
       "      <td>Data Analyst</td>\n",
       "      <td>Cepheid</td>\n",
       "      <td>Lodi</td>\n",
       "      <td>California</td>\n",
       "      <td>120000</td>\n",
       "      <td>Unknown</td>\n",
       "    </tr>\n",
       "    <tr>\n",
       "      <th>2</th>\n",
       "      <td>2</td>\n",
       "      <td>Data Scientist</td>\n",
       "      <td>Cepheid</td>\n",
       "      <td>Sunnyvale</td>\n",
       "      <td>California</td>\n",
       "      <td>150000</td>\n",
       "      <td>Staff</td>\n",
       "    </tr>\n",
       "    <tr>\n",
       "      <th>3</th>\n",
       "      <td>3</td>\n",
       "      <td>Data Scientist</td>\n",
       "      <td>Verana Health</td>\n",
       "      <td>San Francisco</td>\n",
       "      <td>California</td>\n",
       "      <td>150000</td>\n",
       "      <td>Unknown</td>\n",
       "    </tr>\n",
       "    <tr>\n",
       "      <th>4</th>\n",
       "      <td>4</td>\n",
       "      <td>Data Scientist</td>\n",
       "      <td>Tinder</td>\n",
       "      <td>San Francisco</td>\n",
       "      <td>California</td>\n",
       "      <td>130000</td>\n",
       "      <td>Jr.</td>\n",
       "    </tr>\n",
       "    <tr>\n",
       "      <th>5</th>\n",
       "      <td>5</td>\n",
       "      <td>Data Scientist</td>\n",
       "      <td>JPL/NASA</td>\n",
       "      <td>Pasadena</td>\n",
       "      <td>California</td>\n",
       "      <td>100000</td>\n",
       "      <td>Jr.</td>\n",
       "    </tr>\n",
       "    <tr>\n",
       "      <th>6</th>\n",
       "      <td>6</td>\n",
       "      <td>Data Scientist</td>\n",
       "      <td>IBM</td>\n",
       "      <td>San Jose</td>\n",
       "      <td>California</td>\n",
       "      <td>120000</td>\n",
       "      <td>Unknown</td>\n",
       "    </tr>\n",
       "    <tr>\n",
       "      <th>7</th>\n",
       "      <td>7</td>\n",
       "      <td>Data Scientist</td>\n",
       "      <td>Indeed</td>\n",
       "      <td>San Francisco</td>\n",
       "      <td>California</td>\n",
       "      <td>223000</td>\n",
       "      <td>Sr.</td>\n",
       "    </tr>\n",
       "    <tr>\n",
       "      <th>8</th>\n",
       "      <td>8</td>\n",
       "      <td>Data Scientist</td>\n",
       "      <td>Ezoic</td>\n",
       "      <td>Carlsbad</td>\n",
       "      <td>California</td>\n",
       "      <td>100000</td>\n",
       "      <td>Unknown</td>\n",
       "    </tr>\n",
       "    <tr>\n",
       "      <th>9</th>\n",
       "      <td>9</td>\n",
       "      <td>Data Scientist</td>\n",
       "      <td>City of Hope</td>\n",
       "      <td>NaN</td>\n",
       "      <td>California</td>\n",
       "      <td>NaN</td>\n",
       "      <td>Unknown</td>\n",
       "    </tr>\n",
       "  </tbody>\n",
       "</table>\n",
       "</div>"
      ],
      "text/plain": [
       "   Job_ID           Title        Company           City       State  Salary  \\\n",
       "0       0  Data Scientist       Numerdox     Sacramento  California  110000   \n",
       "1       1    Data Analyst        Cepheid           Lodi  California  120000   \n",
       "2       2  Data Scientist        Cepheid      Sunnyvale  California  150000   \n",
       "3       3  Data Scientist  Verana Health  San Francisco  California  150000   \n",
       "4       4  Data Scientist         Tinder  San Francisco  California  130000   \n",
       "5       5  Data Scientist       JPL/NASA       Pasadena  California  100000   \n",
       "6       6  Data Scientist            IBM       San Jose  California  120000   \n",
       "7       7  Data Scientist         Indeed  San Francisco  California  223000   \n",
       "8       8  Data Scientist          Ezoic       Carlsbad  California  100000   \n",
       "9       9  Data Scientist   City of Hope            NaN  California     NaN   \n",
       "\n",
       "    Levels  \n",
       "0      Jr.  \n",
       "1  Unknown  \n",
       "2    Staff  \n",
       "3  Unknown  \n",
       "4      Jr.  \n",
       "5      Jr.  \n",
       "6  Unknown  \n",
       "7      Sr.  \n",
       "8  Unknown  \n",
       "9  Unknown  "
      ]
     },
     "execution_count": 4,
     "metadata": {},
     "output_type": "execute_result"
    }
   ],
   "source": [
    "df_salary.head(10)"
   ]
  },
  {
   "cell_type": "markdown",
   "metadata": {},
   "source": [
    "- The **`df_salary`** table shows the index, job title, company, city, state, salary and level for each staff."
   ]
  },
  {
   "cell_type": "code",
   "execution_count": 5,
   "metadata": {},
   "outputs": [
    {
     "name": "stdout",
     "output_type": "stream",
     "text": [
      "<class 'pandas.core.frame.DataFrame'>\n",
      "RangeIndex: 1287 entries, 0 to 1286\n",
      "Columns: 256 entries, Job_ID to Calibration\n",
      "dtypes: float64(255), int64(1)\n",
      "memory usage: 2.5 MB\n"
     ]
    }
   ],
   "source": [
    "df_skills.info()"
   ]
  },
  {
   "cell_type": "code",
   "execution_count": 6,
   "metadata": {},
   "outputs": [
    {
     "data": {
      "text/html": [
       "<div>\n",
       "<style scoped>\n",
       "    .dataframe tbody tr th:only-of-type {\n",
       "        vertical-align: middle;\n",
       "    }\n",
       "\n",
       "    .dataframe tbody tr th {\n",
       "        vertical-align: top;\n",
       "    }\n",
       "\n",
       "    .dataframe thead th {\n",
       "        text-align: right;\n",
       "    }\n",
       "</style>\n",
       "<table border=\"1\" class=\"dataframe\">\n",
       "  <thead>\n",
       "    <tr style=\"text-align: right;\">\n",
       "      <th></th>\n",
       "      <th>Job_ID</th>\n",
       "      <th>Analysis skills</th>\n",
       "      <th>Communication skills</th>\n",
       "      <th>Research</th>\n",
       "      <th>R</th>\n",
       "      <th>Machine learning</th>\n",
       "      <th>Bachelor's degree</th>\n",
       "      <th>Master's degree</th>\n",
       "      <th>Doctoral degree</th>\n",
       "      <th>Doctor of Philosophy</th>\n",
       "      <th>...</th>\n",
       "      <th>Scrum</th>\n",
       "      <th>VBA</th>\n",
       "      <th>Ceridian</th>\n",
       "      <th>MTA</th>\n",
       "      <th>New Relic</th>\n",
       "      <th>Sailpoint</th>\n",
       "      <th>DevOps</th>\n",
       "      <th>Backbone.js</th>\n",
       "      <th>Computer networking</th>\n",
       "      <th>Calibration</th>\n",
       "    </tr>\n",
       "  </thead>\n",
       "  <tbody>\n",
       "    <tr>\n",
       "      <th>0</th>\n",
       "      <td>0</td>\n",
       "      <td>1.0</td>\n",
       "      <td>1.0</td>\n",
       "      <td>1.0</td>\n",
       "      <td>1.0</td>\n",
       "      <td>1.0</td>\n",
       "      <td>1.0</td>\n",
       "      <td>1.0</td>\n",
       "      <td>1.0</td>\n",
       "      <td>1.0</td>\n",
       "      <td>...</td>\n",
       "      <td>0.0</td>\n",
       "      <td>0.0</td>\n",
       "      <td>0.0</td>\n",
       "      <td>0.0</td>\n",
       "      <td>0.0</td>\n",
       "      <td>0.0</td>\n",
       "      <td>0.0</td>\n",
       "      <td>0.0</td>\n",
       "      <td>0.0</td>\n",
       "      <td>0.0</td>\n",
       "    </tr>\n",
       "    <tr>\n",
       "      <th>1</th>\n",
       "      <td>1</td>\n",
       "      <td>0.0</td>\n",
       "      <td>0.0</td>\n",
       "      <td>0.0</td>\n",
       "      <td>1.0</td>\n",
       "      <td>0.0</td>\n",
       "      <td>1.0</td>\n",
       "      <td>1.0</td>\n",
       "      <td>0.0</td>\n",
       "      <td>0.0</td>\n",
       "      <td>...</td>\n",
       "      <td>0.0</td>\n",
       "      <td>0.0</td>\n",
       "      <td>0.0</td>\n",
       "      <td>0.0</td>\n",
       "      <td>0.0</td>\n",
       "      <td>0.0</td>\n",
       "      <td>0.0</td>\n",
       "      <td>0.0</td>\n",
       "      <td>0.0</td>\n",
       "      <td>0.0</td>\n",
       "    </tr>\n",
       "    <tr>\n",
       "      <th>2</th>\n",
       "      <td>2</td>\n",
       "      <td>0.0</td>\n",
       "      <td>0.0</td>\n",
       "      <td>0.0</td>\n",
       "      <td>0.0</td>\n",
       "      <td>1.0</td>\n",
       "      <td>1.0</td>\n",
       "      <td>1.0</td>\n",
       "      <td>1.0</td>\n",
       "      <td>0.0</td>\n",
       "      <td>...</td>\n",
       "      <td>0.0</td>\n",
       "      <td>0.0</td>\n",
       "      <td>0.0</td>\n",
       "      <td>0.0</td>\n",
       "      <td>0.0</td>\n",
       "      <td>0.0</td>\n",
       "      <td>0.0</td>\n",
       "      <td>0.0</td>\n",
       "      <td>0.0</td>\n",
       "      <td>0.0</td>\n",
       "    </tr>\n",
       "    <tr>\n",
       "      <th>3</th>\n",
       "      <td>3</td>\n",
       "      <td>0.0</td>\n",
       "      <td>1.0</td>\n",
       "      <td>0.0</td>\n",
       "      <td>1.0</td>\n",
       "      <td>0.0</td>\n",
       "      <td>0.0</td>\n",
       "      <td>1.0</td>\n",
       "      <td>0.0</td>\n",
       "      <td>0.0</td>\n",
       "      <td>...</td>\n",
       "      <td>0.0</td>\n",
       "      <td>0.0</td>\n",
       "      <td>0.0</td>\n",
       "      <td>0.0</td>\n",
       "      <td>0.0</td>\n",
       "      <td>0.0</td>\n",
       "      <td>0.0</td>\n",
       "      <td>0.0</td>\n",
       "      <td>0.0</td>\n",
       "      <td>0.0</td>\n",
       "    </tr>\n",
       "    <tr>\n",
       "      <th>4</th>\n",
       "      <td>4</td>\n",
       "      <td>0.0</td>\n",
       "      <td>0.0</td>\n",
       "      <td>0.0</td>\n",
       "      <td>0.0</td>\n",
       "      <td>0.0</td>\n",
       "      <td>0.0</td>\n",
       "      <td>0.0</td>\n",
       "      <td>1.0</td>\n",
       "      <td>1.0</td>\n",
       "      <td>...</td>\n",
       "      <td>0.0</td>\n",
       "      <td>0.0</td>\n",
       "      <td>0.0</td>\n",
       "      <td>0.0</td>\n",
       "      <td>0.0</td>\n",
       "      <td>0.0</td>\n",
       "      <td>0.0</td>\n",
       "      <td>0.0</td>\n",
       "      <td>0.0</td>\n",
       "      <td>0.0</td>\n",
       "    </tr>\n",
       "  </tbody>\n",
       "</table>\n",
       "<p>5 rows × 256 columns</p>\n",
       "</div>"
      ],
      "text/plain": [
       "   Job_ID  Analysis skills  Communication skills  Research    R  \\\n",
       "0       0              1.0                   1.0       1.0  1.0   \n",
       "1       1              0.0                   0.0       0.0  1.0   \n",
       "2       2              0.0                   0.0       0.0  0.0   \n",
       "3       3              0.0                   1.0       0.0  1.0   \n",
       "4       4              0.0                   0.0       0.0  0.0   \n",
       "\n",
       "   Machine learning  Bachelor's degree  Master's degree  Doctoral degree  \\\n",
       "0               1.0                1.0              1.0              1.0   \n",
       "1               0.0                1.0              1.0              0.0   \n",
       "2               1.0                1.0              1.0              1.0   \n",
       "3               0.0                0.0              1.0              0.0   \n",
       "4               0.0                0.0              0.0              1.0   \n",
       "\n",
       "   Doctor of Philosophy  ...  Scrum  VBA  Ceridian  MTA  New Relic  Sailpoint  \\\n",
       "0                   1.0  ...    0.0  0.0       0.0  0.0        0.0        0.0   \n",
       "1                   0.0  ...    0.0  0.0       0.0  0.0        0.0        0.0   \n",
       "2                   0.0  ...    0.0  0.0       0.0  0.0        0.0        0.0   \n",
       "3                   0.0  ...    0.0  0.0       0.0  0.0        0.0        0.0   \n",
       "4                   1.0  ...    0.0  0.0       0.0  0.0        0.0        0.0   \n",
       "\n",
       "   DevOps  Backbone.js  Computer networking  Calibration  \n",
       "0     0.0          0.0                  0.0          0.0  \n",
       "1     0.0          0.0                  0.0          0.0  \n",
       "2     0.0          0.0                  0.0          0.0  \n",
       "3     0.0          0.0                  0.0          0.0  \n",
       "4     0.0          0.0                  0.0          0.0  \n",
       "\n",
       "[5 rows x 256 columns]"
      ]
     },
     "execution_count": 6,
     "metadata": {},
     "output_type": "execute_result"
    }
   ],
   "source": [
    "df_skills.head(5)"
   ]
  },
  {
   "cell_type": "markdown",
   "metadata": {},
   "source": [
    "- The **`df_skills`** table shows the skills status for each staff. `1` means `have` and `0` means `dont have`."
   ]
  },
  {
   "cell_type": "markdown",
   "metadata": {},
   "source": [
    " "
   ]
  },
  {
   "cell_type": "markdown",
   "metadata": {},
   "source": [
    "---\n",
    "\n",
    "## 3. Data Cleaning / Preparation\n"
   ]
  },
  {
   "cell_type": "markdown",
   "metadata": {},
   "source": [
    " "
   ]
  },
  {
   "cell_type": "markdown",
   "metadata": {},
   "source": [
    "### 1. Delete the **`State`** column in the **`df_salary`** table, as `state` is always California."
   ]
  },
  {
   "cell_type": "code",
   "execution_count": 7,
   "metadata": {},
   "outputs": [],
   "source": [
    "df_salary = df_salary.drop(columns = ['State'])"
   ]
  },
  {
   "cell_type": "markdown",
   "metadata": {},
   "source": [
    " "
   ]
  },
  {
   "cell_type": "markdown",
   "metadata": {},
   "source": [
    "### 2. Drop the rows in which the `Salary` cell in **`df_salary`** table is empty or skills info is missing in **`df_skills`** table."
   ]
  },
  {
   "cell_type": "code",
   "execution_count": 8,
   "metadata": {},
   "outputs": [],
   "source": [
    "df_salary['Salary'].fillna(-1, inplace = True)\n",
    "df_skills.fillna(-1, inplace = True)\n",
    "drop_rows = []\n",
    "count = df_salary.shape[0]\n",
    "for i in range(0, count) :\n",
    "    if (df_salary['Salary'][i] < 0) | (df_skills['R'][i] < 0) :\n",
    "        drop_rows.append(i)\n",
    "df_salary = df_salary.drop(drop_rows)\n",
    "df_skills = df_skills.drop(drop_rows)"
   ]
  },
  {
   "cell_type": "code",
   "execution_count": 9,
   "metadata": {},
   "outputs": [
    {
     "data": {
      "text/html": [
       "<div>\n",
       "<style scoped>\n",
       "    .dataframe tbody tr th:only-of-type {\n",
       "        vertical-align: middle;\n",
       "    }\n",
       "\n",
       "    .dataframe tbody tr th {\n",
       "        vertical-align: top;\n",
       "    }\n",
       "\n",
       "    .dataframe thead th {\n",
       "        text-align: right;\n",
       "    }\n",
       "</style>\n",
       "<table border=\"1\" class=\"dataframe\">\n",
       "  <thead>\n",
       "    <tr style=\"text-align: right;\">\n",
       "      <th></th>\n",
       "      <th>Job_ID</th>\n",
       "      <th>Title</th>\n",
       "      <th>Company</th>\n",
       "      <th>City</th>\n",
       "      <th>Salary</th>\n",
       "      <th>Levels</th>\n",
       "    </tr>\n",
       "  </thead>\n",
       "  <tbody>\n",
       "    <tr>\n",
       "      <th>0</th>\n",
       "      <td>0</td>\n",
       "      <td>Data Scientist</td>\n",
       "      <td>Numerdox</td>\n",
       "      <td>Sacramento</td>\n",
       "      <td>110000</td>\n",
       "      <td>Jr.</td>\n",
       "    </tr>\n",
       "    <tr>\n",
       "      <th>1</th>\n",
       "      <td>1</td>\n",
       "      <td>Data Analyst</td>\n",
       "      <td>Cepheid</td>\n",
       "      <td>Lodi</td>\n",
       "      <td>120000</td>\n",
       "      <td>Unknown</td>\n",
       "    </tr>\n",
       "    <tr>\n",
       "      <th>2</th>\n",
       "      <td>2</td>\n",
       "      <td>Data Scientist</td>\n",
       "      <td>Cepheid</td>\n",
       "      <td>Sunnyvale</td>\n",
       "      <td>150000</td>\n",
       "      <td>Staff</td>\n",
       "    </tr>\n",
       "    <tr>\n",
       "      <th>3</th>\n",
       "      <td>3</td>\n",
       "      <td>Data Scientist</td>\n",
       "      <td>Verana Health</td>\n",
       "      <td>San Francisco</td>\n",
       "      <td>150000</td>\n",
       "      <td>Unknown</td>\n",
       "    </tr>\n",
       "    <tr>\n",
       "      <th>4</th>\n",
       "      <td>4</td>\n",
       "      <td>Data Scientist</td>\n",
       "      <td>Tinder</td>\n",
       "      <td>San Francisco</td>\n",
       "      <td>130000</td>\n",
       "      <td>Jr.</td>\n",
       "    </tr>\n",
       "    <tr>\n",
       "      <th>5</th>\n",
       "      <td>5</td>\n",
       "      <td>Data Scientist</td>\n",
       "      <td>JPL/NASA</td>\n",
       "      <td>Pasadena</td>\n",
       "      <td>100000</td>\n",
       "      <td>Jr.</td>\n",
       "    </tr>\n",
       "    <tr>\n",
       "      <th>6</th>\n",
       "      <td>6</td>\n",
       "      <td>Data Scientist</td>\n",
       "      <td>IBM</td>\n",
       "      <td>San Jose</td>\n",
       "      <td>120000</td>\n",
       "      <td>Unknown</td>\n",
       "    </tr>\n",
       "    <tr>\n",
       "      <th>7</th>\n",
       "      <td>7</td>\n",
       "      <td>Data Scientist</td>\n",
       "      <td>Indeed</td>\n",
       "      <td>San Francisco</td>\n",
       "      <td>223000</td>\n",
       "      <td>Sr.</td>\n",
       "    </tr>\n",
       "    <tr>\n",
       "      <th>8</th>\n",
       "      <td>8</td>\n",
       "      <td>Data Scientist</td>\n",
       "      <td>Ezoic</td>\n",
       "      <td>Carlsbad</td>\n",
       "      <td>100000</td>\n",
       "      <td>Unknown</td>\n",
       "    </tr>\n",
       "    <tr>\n",
       "      <th>10</th>\n",
       "      <td>10</td>\n",
       "      <td>Data Scientist</td>\n",
       "      <td>Airtable</td>\n",
       "      <td>San Francisco</td>\n",
       "      <td>130000</td>\n",
       "      <td>Unknown</td>\n",
       "    </tr>\n",
       "  </tbody>\n",
       "</table>\n",
       "</div>"
      ],
      "text/plain": [
       "    Job_ID           Title        Company           City  Salary   Levels\n",
       "0        0  Data Scientist       Numerdox     Sacramento  110000      Jr.\n",
       "1        1    Data Analyst        Cepheid           Lodi  120000  Unknown\n",
       "2        2  Data Scientist        Cepheid      Sunnyvale  150000    Staff\n",
       "3        3  Data Scientist  Verana Health  San Francisco  150000  Unknown\n",
       "4        4  Data Scientist         Tinder  San Francisco  130000      Jr.\n",
       "5        5  Data Scientist       JPL/NASA       Pasadena  100000      Jr.\n",
       "6        6  Data Scientist            IBM       San Jose  120000  Unknown\n",
       "7        7  Data Scientist         Indeed  San Francisco  223000      Sr.\n",
       "8        8  Data Scientist          Ezoic       Carlsbad  100000  Unknown\n",
       "10      10  Data Scientist       Airtable  San Francisco  130000  Unknown"
      ]
     },
     "execution_count": 9,
     "metadata": {},
     "output_type": "execute_result"
    }
   ],
   "source": [
    "df_salary.head(10)"
   ]
  },
  {
   "cell_type": "markdown",
   "metadata": {},
   "source": [
    " "
   ]
  },
  {
   "cell_type": "markdown",
   "metadata": {},
   "source": [
    "### 3. As some company and city cells in **`df_salary`** table are also empty, instead of dropping them, we replace them into `Unknown`."
   ]
  },
  {
   "cell_type": "code",
   "execution_count": 10,
   "metadata": {},
   "outputs": [],
   "source": [
    "df_salary['Company'].fillna('Unknown', inplace = True)\n",
    "df_salary['City'].fillna('Unknown', inplace = True)"
   ]
  },
  {
   "cell_type": "markdown",
   "metadata": {},
   "source": [
    " "
   ]
  },
  {
   "cell_type": "markdown",
   "metadata": {},
   "source": [
    "### 4. As there're too many skills listed in the **`df_skills`** table, so we decide to select some skills instead of all. \n",
    "* To achieve the target, we build **`df_count`** table for each skill with its total count of all staffs."
   ]
  },
  {
   "cell_type": "code",
   "execution_count": 11,
   "metadata": {},
   "outputs": [
    {
     "name": "stdout",
     "output_type": "stream",
     "text": [
      "<class 'pandas.core.frame.DataFrame'>\n",
      "Int64Index: 1205 entries, 0 to 1286\n",
      "Columns: 256 entries, Job_ID to Calibration\n",
      "dtypes: float64(255), int64(1)\n",
      "memory usage: 2.4 MB\n"
     ]
    }
   ],
   "source": [
    "df_skills.info()"
   ]
  },
  {
   "cell_type": "code",
   "execution_count": 12,
   "metadata": {},
   "outputs": [],
   "source": [
    "skills = df_skills.columns[1:]"
   ]
  },
  {
   "cell_type": "code",
   "execution_count": 13,
   "metadata": {},
   "outputs": [],
   "source": [
    "sum_count = []\n",
    "for i in skills:\n",
    "    sum_count.append(sum(df_skills[i]))"
   ]
  },
  {
   "cell_type": "code",
   "execution_count": 14,
   "metadata": {},
   "outputs": [
    {
     "data": {
      "text/html": [
       "<div>\n",
       "<style scoped>\n",
       "    .dataframe tbody tr th:only-of-type {\n",
       "        vertical-align: middle;\n",
       "    }\n",
       "\n",
       "    .dataframe tbody tr th {\n",
       "        vertical-align: top;\n",
       "    }\n",
       "\n",
       "    .dataframe thead th {\n",
       "        text-align: right;\n",
       "    }\n",
       "</style>\n",
       "<table border=\"1\" class=\"dataframe\">\n",
       "  <thead>\n",
       "    <tr style=\"text-align: right;\">\n",
       "      <th></th>\n",
       "      <th>skills_count</th>\n",
       "    </tr>\n",
       "  </thead>\n",
       "  <tbody>\n",
       "    <tr>\n",
       "      <th>count</th>\n",
       "      <td>255.000000</td>\n",
       "    </tr>\n",
       "    <tr>\n",
       "      <th>mean</th>\n",
       "      <td>35.658824</td>\n",
       "    </tr>\n",
       "    <tr>\n",
       "      <th>std</th>\n",
       "      <td>95.830997</td>\n",
       "    </tr>\n",
       "    <tr>\n",
       "      <th>min</th>\n",
       "      <td>0.000000</td>\n",
       "    </tr>\n",
       "    <tr>\n",
       "      <th>25%</th>\n",
       "      <td>2.000000</td>\n",
       "    </tr>\n",
       "    <tr>\n",
       "      <th>50%</th>\n",
       "      <td>5.000000</td>\n",
       "    </tr>\n",
       "    <tr>\n",
       "      <th>75%</th>\n",
       "      <td>23.500000</td>\n",
       "    </tr>\n",
       "    <tr>\n",
       "      <th>max</th>\n",
       "      <td>655.000000</td>\n",
       "    </tr>\n",
       "  </tbody>\n",
       "</table>\n",
       "</div>"
      ],
      "text/plain": [
       "       skills_count\n",
       "count    255.000000\n",
       "mean      35.658824\n",
       "std       95.830997\n",
       "min        0.000000\n",
       "25%        2.000000\n",
       "50%        5.000000\n",
       "75%       23.500000\n",
       "max      655.000000"
      ]
     },
     "execution_count": 14,
     "metadata": {},
     "output_type": "execute_result"
    }
   ],
   "source": [
    "df_count = pd.DataFrame()\n",
    "df_count['skill'] = skills\n",
    "df_count['skills_count'] = sum_count\n",
    "df_count.describe()"
   ]
  },
  {
   "cell_type": "code",
   "execution_count": 15,
   "metadata": {},
   "outputs": [
    {
     "data": {
      "text/plain": [
       "<AxesSubplot:xlabel='skills_count', ylabel='Count'>"
      ]
     },
     "execution_count": 15,
     "metadata": {},
     "output_type": "execute_result"
    },
    {
     "data": {
      "image/png": "[encoded data removed]",
      "text/plain": [
       "<Figure size 432x288 with 1 Axes>"
      ]
     },
     "metadata": {
      "needs_background": "light"
     },
     "output_type": "display_data"
    }
   ],
   "source": [
    "sns.histplot(data = df_count['skills_count'])"
   ]
  },
  {
   "cell_type": "markdown",
   "metadata": {},
   "source": [
    "- Through the description and histogram of **`df_count`** table, we notice that the majority of skills' total count are less than `23.5` (75th percentile). Hence, we drop such skills and save the rest skills info into **`df_skills2`**."
   ]
  },
  {
   "cell_type": "code",
   "execution_count": 16,
   "metadata": {},
   "outputs": [],
   "source": [
    "df_count = df_count[df_count['skills_count'] > 23.5]"
   ]
  },
  {
   "cell_type": "code",
   "execution_count": 17,
   "metadata": {},
   "outputs": [
    {
     "data": {
      "text/plain": [
       "<AxesSubplot:ylabel='Count'>"
      ]
     },
     "execution_count": 17,
     "metadata": {},
     "output_type": "execute_result"
    },
    {
     "data": {
      "image/png": "[encoded data removed]",
      "text/plain": [
       "<Figure size 432x288 with 1 Axes>"
      ]
     },
     "metadata": {
      "needs_background": "light"
     },
     "output_type": "display_data"
    }
   ],
   "source": [
    "sns.histplot(data = df_count, binwidth = 50)"
   ]
  },
  {
   "cell_type": "markdown",
   "metadata": {},
   "source": [
    " "
   ]
  },
  {
   "cell_type": "code",
   "execution_count": 18,
   "metadata": {},
   "outputs": [
    {
     "data": {
      "text/plain": [
       "['Analysis skills',\n",
       " 'Communication skills',\n",
       " 'Research',\n",
       " 'R',\n",
       " 'Machine learning',\n",
       " \"Bachelor's degree\",\n",
       " \"Master's degree\",\n",
       " 'Doctoral degree',\n",
       " 'Doctor of Philosophy',\n",
       " 'Relational databases',\n",
       " 'Microsoft Excel',\n",
       " 'Product management',\n",
       " 'Natural language processing',\n",
       " 'Python',\n",
       " 'SQL',\n",
       " 'Statistical analysis',\n",
       " 'Data visualization',\n",
       " 'Writing skills',\n",
       " 'C++',\n",
       " 'Leadership',\n",
       " 'Computer vision',\n",
       " 'C',\n",
       " 'MATLAB',\n",
       " 'Scala',\n",
       " 'Hadoop',\n",
       " 'Bachelor of Science',\n",
       " 'PyTorch',\n",
       " 'TensorFlow',\n",
       " 'Data collection',\n",
       " 'Data analytics',\n",
       " 'Project management',\n",
       " 'Analytics',\n",
       " 'SAS',\n",
       " 'Spark',\n",
       " 'Shell Scripting',\n",
       " 'Apache Hive',\n",
       " 'Go',\n",
       " 'US work authorization',\n",
       " 'Signal processing',\n",
       " 'Predictive analytics',\n",
       " 'Deep learning',\n",
       " 'Marketing automation',\n",
       " 'System design',\n",
       " 'E-commerce',\n",
       " 'NumPy',\n",
       " 'SciPy',\n",
       " 'Elasticsearch',\n",
       " 'Data modeling',\n",
       " 'A/B testing',\n",
       " 'Pandas',\n",
       " 'Keras',\n",
       " 'Apache',\n",
       " 'Fraud',\n",
       " 'Git',\n",
       " 'Torch',\n",
       " 'Azure',\n",
       " 'NoSQL',\n",
       " 'Master of Science',\n",
       " 'Windows',\n",
       " 'Scripting',\n",
       " 'Marketing',\n",
       " 'New Relic',\n",
       " 'DevOps',\n",
       " 'Computer networking']"
      ]
     },
     "execution_count": 18,
     "metadata": {},
     "output_type": "execute_result"
    }
   ],
   "source": [
    "skills2 = list(df_count['skill'])\n",
    "df_skills2 = df_skills[skills2].astype(int)\n",
    "df_skills2['Job_ID'] = df_skills['Job_ID']\n",
    "skills2"
   ]
  },
  {
   "cell_type": "markdown",
   "metadata": {},
   "source": [
    " "
   ]
  },
  {
   "cell_type": "markdown",
   "metadata": {},
   "source": [
    "### 5. Combine two tables **`df_salary`** and **`df_skills2`** based on `Job_ID` into our final table **`df_staff`**."
   ]
  },
  {
   "cell_type": "code",
   "execution_count": 19,
   "metadata": {},
   "outputs": [
    {
     "data": {
      "text/html": [
       "<div>\n",
       "<style scoped>\n",
       "    .dataframe tbody tr th:only-of-type {\n",
       "        vertical-align: middle;\n",
       "    }\n",
       "\n",
       "    .dataframe tbody tr th {\n",
       "        vertical-align: top;\n",
       "    }\n",
       "\n",
       "    .dataframe thead th {\n",
       "        text-align: right;\n",
       "    }\n",
       "</style>\n",
       "<table border=\"1\" class=\"dataframe\">\n",
       "  <thead>\n",
       "    <tr style=\"text-align: right;\">\n",
       "      <th></th>\n",
       "      <th>Job_ID</th>\n",
       "      <th>Title</th>\n",
       "      <th>Company</th>\n",
       "      <th>City</th>\n",
       "      <th>Salary</th>\n",
       "      <th>Levels</th>\n",
       "      <th>Analysis skills</th>\n",
       "      <th>Communication skills</th>\n",
       "      <th>Research</th>\n",
       "      <th>R</th>\n",
       "      <th>...</th>\n",
       "      <th>Torch</th>\n",
       "      <th>Azure</th>\n",
       "      <th>NoSQL</th>\n",
       "      <th>Master of Science</th>\n",
       "      <th>Windows</th>\n",
       "      <th>Scripting</th>\n",
       "      <th>Marketing</th>\n",
       "      <th>New Relic</th>\n",
       "      <th>DevOps</th>\n",
       "      <th>Computer networking</th>\n",
       "    </tr>\n",
       "  </thead>\n",
       "  <tbody>\n",
       "    <tr>\n",
       "      <th>0</th>\n",
       "      <td>0</td>\n",
       "      <td>Data Scientist</td>\n",
       "      <td>Numerdox</td>\n",
       "      <td>Sacramento</td>\n",
       "      <td>110000</td>\n",
       "      <td>Jr.</td>\n",
       "      <td>1</td>\n",
       "      <td>1</td>\n",
       "      <td>1</td>\n",
       "      <td>1</td>\n",
       "      <td>...</td>\n",
       "      <td>0</td>\n",
       "      <td>0</td>\n",
       "      <td>0</td>\n",
       "      <td>0</td>\n",
       "      <td>0</td>\n",
       "      <td>0</td>\n",
       "      <td>0</td>\n",
       "      <td>0</td>\n",
       "      <td>0</td>\n",
       "      <td>0</td>\n",
       "    </tr>\n",
       "    <tr>\n",
       "      <th>1</th>\n",
       "      <td>1</td>\n",
       "      <td>Data Analyst</td>\n",
       "      <td>Cepheid</td>\n",
       "      <td>Lodi</td>\n",
       "      <td>120000</td>\n",
       "      <td>Unknown</td>\n",
       "      <td>0</td>\n",
       "      <td>0</td>\n",
       "      <td>0</td>\n",
       "      <td>1</td>\n",
       "      <td>...</td>\n",
       "      <td>0</td>\n",
       "      <td>0</td>\n",
       "      <td>0</td>\n",
       "      <td>0</td>\n",
       "      <td>0</td>\n",
       "      <td>0</td>\n",
       "      <td>0</td>\n",
       "      <td>0</td>\n",
       "      <td>0</td>\n",
       "      <td>0</td>\n",
       "    </tr>\n",
       "    <tr>\n",
       "      <th>2</th>\n",
       "      <td>2</td>\n",
       "      <td>Data Scientist</td>\n",
       "      <td>Cepheid</td>\n",
       "      <td>Sunnyvale</td>\n",
       "      <td>150000</td>\n",
       "      <td>Staff</td>\n",
       "      <td>0</td>\n",
       "      <td>0</td>\n",
       "      <td>0</td>\n",
       "      <td>0</td>\n",
       "      <td>...</td>\n",
       "      <td>0</td>\n",
       "      <td>0</td>\n",
       "      <td>0</td>\n",
       "      <td>0</td>\n",
       "      <td>0</td>\n",
       "      <td>0</td>\n",
       "      <td>0</td>\n",
       "      <td>0</td>\n",
       "      <td>0</td>\n",
       "      <td>0</td>\n",
       "    </tr>\n",
       "    <tr>\n",
       "      <th>3</th>\n",
       "      <td>3</td>\n",
       "      <td>Data Scientist</td>\n",
       "      <td>Verana Health</td>\n",
       "      <td>San Francisco</td>\n",
       "      <td>150000</td>\n",
       "      <td>Unknown</td>\n",
       "      <td>0</td>\n",
       "      <td>1</td>\n",
       "      <td>0</td>\n",
       "      <td>1</td>\n",
       "      <td>...</td>\n",
       "      <td>0</td>\n",
       "      <td>0</td>\n",
       "      <td>0</td>\n",
       "      <td>0</td>\n",
       "      <td>0</td>\n",
       "      <td>0</td>\n",
       "      <td>0</td>\n",
       "      <td>0</td>\n",
       "      <td>0</td>\n",
       "      <td>0</td>\n",
       "    </tr>\n",
       "    <tr>\n",
       "      <th>4</th>\n",
       "      <td>4</td>\n",
       "      <td>Data Scientist</td>\n",
       "      <td>Tinder</td>\n",
       "      <td>San Francisco</td>\n",
       "      <td>130000</td>\n",
       "      <td>Jr.</td>\n",
       "      <td>0</td>\n",
       "      <td>0</td>\n",
       "      <td>0</td>\n",
       "      <td>0</td>\n",
       "      <td>...</td>\n",
       "      <td>0</td>\n",
       "      <td>0</td>\n",
       "      <td>0</td>\n",
       "      <td>0</td>\n",
       "      <td>0</td>\n",
       "      <td>0</td>\n",
       "      <td>0</td>\n",
       "      <td>0</td>\n",
       "      <td>0</td>\n",
       "      <td>0</td>\n",
       "    </tr>\n",
       "  </tbody>\n",
       "</table>\n",
       "<p>5 rows × 70 columns</p>\n",
       "</div>"
      ],
      "text/plain": [
       "   Job_ID           Title        Company           City  Salary   Levels  \\\n",
       "0       0  Data Scientist       Numerdox     Sacramento  110000      Jr.   \n",
       "1       1    Data Analyst        Cepheid           Lodi  120000  Unknown   \n",
       "2       2  Data Scientist        Cepheid      Sunnyvale  150000    Staff   \n",
       "3       3  Data Scientist  Verana Health  San Francisco  150000  Unknown   \n",
       "4       4  Data Scientist         Tinder  San Francisco  130000      Jr.   \n",
       "\n",
       "   Analysis skills  Communication skills  Research  R  ...  Torch  Azure  \\\n",
       "0                1                     1         1  1  ...      0      0   \n",
       "1                0                     0         0  1  ...      0      0   \n",
       "2                0                     0         0  0  ...      0      0   \n",
       "3                0                     1         0  1  ...      0      0   \n",
       "4                0                     0         0  0  ...      0      0   \n",
       "\n",
       "   NoSQL  Master of Science  Windows  Scripting  Marketing  New Relic  DevOps  \\\n",
       "0      0                  0        0          0          0          0       0   \n",
       "1      0                  0        0          0          0          0       0   \n",
       "2      0                  0        0          0          0          0       0   \n",
       "3      0                  0        0          0          0          0       0   \n",
       "4      0                  0        0          0          0          0       0   \n",
       "\n",
       "   Computer networking  \n",
       "0                    0  \n",
       "1                    0  \n",
       "2                    0  \n",
       "3                    0  \n",
       "4                    0  \n",
       "\n",
       "[5 rows x 70 columns]"
      ]
     },
     "execution_count": 19,
     "metadata": {},
     "output_type": "execute_result"
    }
   ],
   "source": [
    "df_staff = df_salary.merge(df_skills2)\n",
    "df_staff.head(5)"
   ]
  },
  {
   "cell_type": "markdown",
   "metadata": {},
   "source": [
    "  "
   ]
  },
  {
   "cell_type": "markdown",
   "metadata": {},
   "source": [
    "### 6. Save the tables into excel files."
   ]
  },
  {
   "cell_type": "code",
   "execution_count": 20,
   "metadata": {},
   "outputs": [],
   "source": [
    "df_salary.to_excel('Salary.xlsx', index = False)\n",
    "df_skills2.to_excel('Skills.xlsx', index = False)\n",
    "df_staff.to_excel('Staff.xlsx', index = False)"
   ]
  },
  {
   "cell_type": "markdown",
   "metadata": {},
   "source": [
    " "
   ]
  },
  {
   "cell_type": "markdown",
   "metadata": {},
   "source": [
    "---\n",
    "\n",
    "## 4. Data Analysis / Visualization"
   ]
  },
  {
   "cell_type": "markdown",
   "metadata": {},
   "source": [
    " "
   ]
  },
  {
   "cell_type": "markdown",
   "metadata": {},
   "source": [
    "### 1. Check the number of unique levels for categorical data to determine suitable visualisation tool"
   ]
  },
  {
   "cell_type": "code",
   "execution_count": 21,
   "metadata": {},
   "outputs": [
    {
     "name": "stdout",
     "output_type": "stream",
     "text": [
      "Number of unqiue classes in Title : 13\n",
      "Number of unqiue classes in Company : 501\n",
      "Number of unqiue classes in City : 77\n",
      "Number of unqiue classes in Levels : 7\n"
     ]
    }
   ],
   "source": [
    "print(\"Number of unqiue classes in Title :\", len(df_staff[\"Title\"].unique()))\n",
    "print(\"Number of unqiue classes in Company :\", len(df_staff[\"Company\"].unique()))\n",
    "print(\"Number of unqiue classes in City :\", len(df_staff[\"City\"].unique()))\n",
    "print(\"Number of unqiue classes in Levels :\", len(df_staff[\"Levels\"].unique()))"
   ]
  },
  {
   "cell_type": "markdown",
   "metadata": {},
   "source": [
    " "
   ]
  },
  {
   "cell_type": "markdown",
   "metadata": {},
   "source": [
    "### 2. Visualisation for **`Job Titles`**"
   ]
  },
  {
   "cell_type": "code",
   "execution_count": 22,
   "metadata": {},
   "outputs": [
    {
     "data": {
      "image/png": "[encoded data removed]",
      "text/plain": [
       "<Figure size 1296x1080 with 1 Axes>"
      ]
     },
     "metadata": {
      "needs_background": "light"
     },
     "output_type": "display_data"
    }
   ],
   "source": [
    "title_count = pd.DataFrame()\n",
    "title_count = df_staff.loc[:,'Title'].value_counts()\n",
    "title_count = title_count.to_frame()\n",
    "title_count['Job Title'] = title_count.index\n",
    "title_count = title_count.rename(columns = {'Title' : 'Count'})\n",
    "\n",
    "plt.figure(figsize=(18, 15))\n",
    "sns.set(font_scale = 1)\n",
    "sns.barplot(data = title_count, x = 'Count', y = 'Job Title')\n",
    "plt.show()"
   ]
  },
  {
   "cell_type": "markdown",
   "metadata": {},
   "source": [
    "- In the countplot, the `Data Scientist` group is the most common occupation for our dataset by a significant margin, followed by `Machine Learning Engineer` and `Machine Learning Scientist`.\n",
    "- Below, we have the boxplot of salary for each title."
   ]
  },
  {
   "cell_type": "code",
   "execution_count": 23,
   "metadata": {},
   "outputs": [
    {
     "data": {
      "text/plain": [
       "<AxesSubplot:xlabel='Salary', ylabel='Title'>"
      ]
     },
     "execution_count": 23,
     "metadata": {},
     "output_type": "execute_result"
    },
    {
     "data": {
      "image/png": "[encoded data removed]",
      "text/plain": [
       "<Figure size 1440x1080 with 1 Axes>"
      ]
     },
     "metadata": {},
     "output_type": "display_data"
    }
   ],
   "source": [
    "f, axes = plt.subplots(figsize=(20, 15))\n",
    "sns.boxplot(x = 'Salary', y = 'Title', data = df_staff)"
   ]
  },
  {
   "cell_type": "markdown",
   "metadata": {},
   "source": [
    " "
   ]
  },
  {
   "cell_type": "markdown",
   "metadata": {},
   "source": [
    "### 3. Visualisation for **`Company`**"
   ]
  },
  {
   "cell_type": "code",
   "execution_count": 24,
   "metadata": {},
   "outputs": [
    {
     "data": {
      "text/html": [
       "<div>\n",
       "<style scoped>\n",
       "    .dataframe tbody tr th:only-of-type {\n",
       "        vertical-align: middle;\n",
       "    }\n",
       "\n",
       "    .dataframe tbody tr th {\n",
       "        vertical-align: top;\n",
       "    }\n",
       "\n",
       "    .dataframe thead th {\n",
       "        text-align: right;\n",
       "    }\n",
       "</style>\n",
       "<table border=\"1\" class=\"dataframe\">\n",
       "  <thead>\n",
       "    <tr style=\"text-align: right;\">\n",
       "      <th></th>\n",
       "      <th>Company</th>\n",
       "    </tr>\n",
       "  </thead>\n",
       "  <tbody>\n",
       "    <tr>\n",
       "      <th>count</th>\n",
       "      <td>501.000000</td>\n",
       "    </tr>\n",
       "    <tr>\n",
       "      <th>mean</th>\n",
       "      <td>2.405190</td>\n",
       "    </tr>\n",
       "    <tr>\n",
       "      <th>std</th>\n",
       "      <td>6.262387</td>\n",
       "    </tr>\n",
       "    <tr>\n",
       "      <th>min</th>\n",
       "      <td>1.000000</td>\n",
       "    </tr>\n",
       "    <tr>\n",
       "      <th>25%</th>\n",
       "      <td>1.000000</td>\n",
       "    </tr>\n",
       "    <tr>\n",
       "      <th>50%</th>\n",
       "      <td>1.000000</td>\n",
       "    </tr>\n",
       "    <tr>\n",
       "      <th>75%</th>\n",
       "      <td>2.000000</td>\n",
       "    </tr>\n",
       "    <tr>\n",
       "      <th>max</th>\n",
       "      <td>103.000000</td>\n",
       "    </tr>\n",
       "  </tbody>\n",
       "</table>\n",
       "</div>"
      ],
      "text/plain": [
       "          Company\n",
       "count  501.000000\n",
       "mean     2.405190\n",
       "std      6.262387\n",
       "min      1.000000\n",
       "25%      1.000000\n",
       "50%      1.000000\n",
       "75%      2.000000\n",
       "max    103.000000"
      ]
     },
     "execution_count": 24,
     "metadata": {},
     "output_type": "execute_result"
    }
   ],
   "source": [
    "company = pd.DataFrame(df_staff[\"Company\"].value_counts())\n",
    "company.describe()"
   ]
  },
  {
   "cell_type": "markdown",
   "metadata": {},
   "source": [
    "- Every company has a mean of only 1 employee, with 75% of companies having 2 or fewer employees.\n",
    "- Due to the low sample size, company is not a suitable predictor for our model. It will be ignored."
   ]
  },
  {
   "cell_type": "code",
   "execution_count": 25,
   "metadata": {},
   "outputs": [
    {
     "data": {
      "image/png": "[encoded data removed]",
      "text/plain": [
       "<Figure size 1296x720 with 1 Axes>"
      ]
     },
     "metadata": {},
     "output_type": "display_data"
    }
   ],
   "source": [
    "company_count = pd.DataFrame()\n",
    "company_count = df_staff.loc[:,'Company'].value_counts()\n",
    "company_count = company_count.to_frame()\n",
    "company_count['Company Name'] = company_count.index\n",
    "company_count = company_count.iloc[0:10 , :]\n",
    "company_count = company_count.rename(columns = {'Company' : 'Count'})\n",
    "\n",
    "plt.figure(figsize=(18, 10))\n",
    "sns.set(font_scale = 1)\n",
    "sns.barplot(data = company_count, x = 'Company Name', y = 'Count')\n",
    "plt.show()"
   ]
  },
  {
   "cell_type": "markdown",
   "metadata": {},
   "source": [
    "- Here, we show the `top-10` companies with largest count of staffs."
   ]
  },
  {
   "cell_type": "markdown",
   "metadata": {},
   "source": [
    " "
   ]
  },
  {
   "cell_type": "markdown",
   "metadata": {},
   "source": [
    "### 4. Visualisation for **`City`**"
   ]
  },
  {
   "cell_type": "code",
   "execution_count": 26,
   "metadata": {},
   "outputs": [
    {
     "data": {
      "text/html": [
       "<div>\n",
       "<style scoped>\n",
       "    .dataframe tbody tr th:only-of-type {\n",
       "        vertical-align: middle;\n",
       "    }\n",
       "\n",
       "    .dataframe tbody tr th {\n",
       "        vertical-align: top;\n",
       "    }\n",
       "\n",
       "    .dataframe thead th {\n",
       "        text-align: right;\n",
       "    }\n",
       "</style>\n",
       "<table border=\"1\" class=\"dataframe\">\n",
       "  <thead>\n",
       "    <tr style=\"text-align: right;\">\n",
       "      <th></th>\n",
       "      <th>City</th>\n",
       "    </tr>\n",
       "  </thead>\n",
       "  <tbody>\n",
       "    <tr>\n",
       "      <th>count</th>\n",
       "      <td>77.000000</td>\n",
       "    </tr>\n",
       "    <tr>\n",
       "      <th>mean</th>\n",
       "      <td>15.649351</td>\n",
       "    </tr>\n",
       "    <tr>\n",
       "      <th>std</th>\n",
       "      <td>46.309532</td>\n",
       "    </tr>\n",
       "    <tr>\n",
       "      <th>min</th>\n",
       "      <td>1.000000</td>\n",
       "    </tr>\n",
       "    <tr>\n",
       "      <th>25%</th>\n",
       "      <td>1.000000</td>\n",
       "    </tr>\n",
       "    <tr>\n",
       "      <th>50%</th>\n",
       "      <td>3.000000</td>\n",
       "    </tr>\n",
       "    <tr>\n",
       "      <th>75%</th>\n",
       "      <td>6.000000</td>\n",
       "    </tr>\n",
       "    <tr>\n",
       "      <th>max</th>\n",
       "      <td>334.000000</td>\n",
       "    </tr>\n",
       "  </tbody>\n",
       "</table>\n",
       "</div>"
      ],
      "text/plain": [
       "             City\n",
       "count   77.000000\n",
       "mean    15.649351\n",
       "std     46.309532\n",
       "min      1.000000\n",
       "25%      1.000000\n",
       "50%      3.000000\n",
       "75%      6.000000\n",
       "max    334.000000"
      ]
     },
     "execution_count": 26,
     "metadata": {},
     "output_type": "execute_result"
    }
   ],
   "source": [
    "city = pd.DataFrame(df_staff[\"City\"].value_counts())\n",
    "city.describe()"
   ]
  },
  {
   "cell_type": "markdown",
   "metadata": {},
   "source": [
    "- Similary, every city has a mean of only 2 employees, with 75% of cities having 6 or fewer employees. \n",
    "- Due to the low sample size, company is not a suitable predictor for our model. It will be ignored."
   ]
  },
  {
   "cell_type": "code",
   "execution_count": 27,
   "metadata": {},
   "outputs": [
    {
     "data": {
      "image/png": "[encoded data removed]",
      "text/plain": [
       "<Figure size 1296x720 with 1 Axes>"
      ]
     },
     "metadata": {},
     "output_type": "display_data"
    }
   ],
   "source": [
    "city_count = pd.DataFrame()\n",
    "city_count = df_staff.loc[:,'City'].value_counts()\n",
    "city_count = city_count.to_frame()\n",
    "city_count['City Name'] = city_count.index\n",
    "city_count = city_count.iloc[0:10 , :]\n",
    "city_count = city_count.rename(columns = {'City' : 'Count'})\n",
    "\n",
    "plt.figure(figsize=(18, 10))\n",
    "sns.set(font_scale = 1)\n",
    "sns.barplot(data = city_count, x = 'City Name', y = 'Count')\n",
    "plt.show()"
   ]
  },
  {
   "cell_type": "markdown",
   "metadata": {},
   "source": [
    "- Here, we show the `top-10` cities with largest count of workers."
   ]
  },
  {
   "cell_type": "markdown",
   "metadata": {},
   "source": [
    " "
   ]
  },
  {
   "cell_type": "markdown",
   "metadata": {},
   "source": [
    "### 5. Visualisation for **`Levels`**"
   ]
  },
  {
   "cell_type": "code",
   "execution_count": 28,
   "metadata": {},
   "outputs": [
    {
     "data": {
      "image/png": "[encoded data removed]",
      "text/plain": [
       "<Figure size 1440x720 with 1 Axes>"
      ]
     },
     "metadata": {},
     "output_type": "display_data"
    }
   ],
   "source": [
    "level_count = pd.DataFrame()\n",
    "level_count = df_staff.loc[:,'Levels'].value_counts()\n",
    "level_count = level_count.to_frame()\n",
    "level_count['Level Name'] = level_count.index\n",
    "level_count = level_count.rename(columns = {'Levels' : 'Count'})\n",
    "\n",
    "plt.figure(figsize=(20, 10))\n",
    "sns.set(font_scale = 1)\n",
    "sns.barplot(data = level_count, x = 'Level Name', y = 'Count')\n",
    "plt.show()"
   ]
  },
  {
   "cell_type": "markdown",
   "metadata": {},
   "source": [
    "- The majority of levels are `Unknown`, which will then be predicted.\n",
    "- Except `Unknown`, the level `Sr.` is the most common experience level for our dataset by a significant margin."
   ]
  },
  {
   "cell_type": "code",
   "execution_count": 29,
   "metadata": {},
   "outputs": [
    {
     "data": {
      "image/png": "[encoded data removed]",
      "text/plain": [
       "<Figure size 1296x720 with 1 Axes>"
      ]
     },
     "metadata": {},
     "output_type": "display_data"
    }
   ],
   "source": [
    "plt.figure(figsize=(18, 10))\n",
    "sns.set(font_scale = 2)\n",
    "sns.boxplot(y = 'Levels', x = 'Salary', data = df_staff, width = 0.5, palette=\"Reds\")\n",
    "plt.show()"
   ]
  },
  {
   "cell_type": "markdown",
   "metadata": {},
   "source": [
    " "
   ]
  },
  {
   "cell_type": "markdown",
   "metadata": {},
   "source": [
    "### 6. Visualisation for **`Salary`**"
   ]
  },
  {
   "cell_type": "code",
   "execution_count": 30,
   "metadata": {},
   "outputs": [
    {
     "data": {
      "text/plain": [
       "<AxesSubplot:>"
      ]
     },
     "execution_count": 30,
     "metadata": {},
     "output_type": "execute_result"
    },
    {
     "data": {
      "image/png": "[encoded data removed]",
      "text/plain": [
       "<Figure size 1440x360 with 1 Axes>"
      ]
     },
     "metadata": {},
     "output_type": "display_data"
    }
   ],
   "source": [
    "f, axes = plt.subplots(figsize=(20, 5))\n",
    "sns.boxplot(data = df_staff[\"Salary\"], orient = \"h\")"
   ]
  },
  {
   "cell_type": "markdown",
   "metadata": {},
   "source": [
    "- The vast majority of data points fall within `[130000, 170000]`, and mean is `150000`.\n",
    "- However, there are 12 outliers which deviate significantly from the mean."
   ]
  },
  {
   "cell_type": "markdown",
   "metadata": {},
   "source": [
    " "
   ]
  },
  {
   "cell_type": "markdown",
   "metadata": {},
   "source": [
    "### 7. Visualisation for **`Skills`**"
   ]
  },
  {
   "cell_type": "code",
   "execution_count": 31,
   "metadata": {},
   "outputs": [
    {
     "data": {
      "image/png": "[encoded data removed]",
      "text/plain": [
       "<Figure size 1296x576 with 1 Axes>"
      ]
     },
     "metadata": {},
     "output_type": "display_data"
    }
   ],
   "source": [
    "df_factors = df_staff\n",
    "df_factors['count'] = df_factors.iloc[:,6:].sum(axis=1)\n",
    "plt.figure(figsize=(18, 8))\n",
    "sns.set(font_scale = 1)\n",
    "sns.boxplot(x = \"count\", y = \"Salary\", data=df_factors, showfliers = False)\n",
    "plt.show()"
   ]
  },
  {
   "cell_type": "markdown",
   "metadata": {},
   "source": [
    "- Overall, with the increase of the count of skills, the salary of workers increases."
   ]
  },
  {
   "cell_type": "markdown",
   "metadata": {},
   "source": [
    " "
   ]
  },
  {
   "cell_type": "markdown",
   "metadata": {},
   "source": [
    "---\n",
    "\n",
    "## 5. Preparation for Machine Learning"
   ]
  },
  {
   "cell_type": "markdown",
   "metadata": {},
   "source": [
    " "
   ]
  },
  {
   "cell_type": "markdown",
   "metadata": {},
   "source": [
    "### 1. Drop the **`Company`** and **`City`** which are not suitable predictors for our model."
   ]
  },
  {
   "cell_type": "code",
   "execution_count": 32,
   "metadata": {
    "scrolled": true
   },
   "outputs": [
    {
     "data": {
      "text/html": [
       "<div>\n",
       "<style scoped>\n",
       "    .dataframe tbody tr th:only-of-type {\n",
       "        vertical-align: middle;\n",
       "    }\n",
       "\n",
       "    .dataframe tbody tr th {\n",
       "        vertical-align: top;\n",
       "    }\n",
       "\n",
       "    .dataframe thead th {\n",
       "        text-align: right;\n",
       "    }\n",
       "</style>\n",
       "<table border=\"1\" class=\"dataframe\">\n",
       "  <thead>\n",
       "    <tr style=\"text-align: right;\">\n",
       "      <th></th>\n",
       "      <th>Job_ID</th>\n",
       "      <th>Title</th>\n",
       "      <th>Salary</th>\n",
       "      <th>Levels</th>\n",
       "      <th>Analysis skills</th>\n",
       "      <th>Communication skills</th>\n",
       "      <th>Research</th>\n",
       "      <th>R</th>\n",
       "      <th>Machine learning</th>\n",
       "      <th>Bachelor's degree</th>\n",
       "      <th>...</th>\n",
       "      <th>Azure</th>\n",
       "      <th>NoSQL</th>\n",
       "      <th>Master of Science</th>\n",
       "      <th>Windows</th>\n",
       "      <th>Scripting</th>\n",
       "      <th>Marketing</th>\n",
       "      <th>New Relic</th>\n",
       "      <th>DevOps</th>\n",
       "      <th>Computer networking</th>\n",
       "      <th>count</th>\n",
       "    </tr>\n",
       "  </thead>\n",
       "  <tbody>\n",
       "    <tr>\n",
       "      <th>0</th>\n",
       "      <td>0</td>\n",
       "      <td>Data Scientist</td>\n",
       "      <td>110000</td>\n",
       "      <td>Jr.</td>\n",
       "      <td>1</td>\n",
       "      <td>1</td>\n",
       "      <td>1</td>\n",
       "      <td>1</td>\n",
       "      <td>1</td>\n",
       "      <td>1</td>\n",
       "      <td>...</td>\n",
       "      <td>0</td>\n",
       "      <td>0</td>\n",
       "      <td>0</td>\n",
       "      <td>0</td>\n",
       "      <td>0</td>\n",
       "      <td>0</td>\n",
       "      <td>0</td>\n",
       "      <td>0</td>\n",
       "      <td>0</td>\n",
       "      <td>10</td>\n",
       "    </tr>\n",
       "    <tr>\n",
       "      <th>1</th>\n",
       "      <td>1</td>\n",
       "      <td>Data Analyst</td>\n",
       "      <td>120000</td>\n",
       "      <td>Unknown</td>\n",
       "      <td>0</td>\n",
       "      <td>0</td>\n",
       "      <td>0</td>\n",
       "      <td>1</td>\n",
       "      <td>0</td>\n",
       "      <td>1</td>\n",
       "      <td>...</td>\n",
       "      <td>0</td>\n",
       "      <td>0</td>\n",
       "      <td>0</td>\n",
       "      <td>0</td>\n",
       "      <td>0</td>\n",
       "      <td>0</td>\n",
       "      <td>0</td>\n",
       "      <td>0</td>\n",
       "      <td>0</td>\n",
       "      <td>5</td>\n",
       "    </tr>\n",
       "    <tr>\n",
       "      <th>2</th>\n",
       "      <td>2</td>\n",
       "      <td>Data Scientist</td>\n",
       "      <td>150000</td>\n",
       "      <td>Staff</td>\n",
       "      <td>0</td>\n",
       "      <td>0</td>\n",
       "      <td>0</td>\n",
       "      <td>0</td>\n",
       "      <td>1</td>\n",
       "      <td>1</td>\n",
       "      <td>...</td>\n",
       "      <td>0</td>\n",
       "      <td>0</td>\n",
       "      <td>0</td>\n",
       "      <td>0</td>\n",
       "      <td>0</td>\n",
       "      <td>0</td>\n",
       "      <td>0</td>\n",
       "      <td>0</td>\n",
       "      <td>0</td>\n",
       "      <td>7</td>\n",
       "    </tr>\n",
       "    <tr>\n",
       "      <th>3</th>\n",
       "      <td>3</td>\n",
       "      <td>Data Scientist</td>\n",
       "      <td>150000</td>\n",
       "      <td>Unknown</td>\n",
       "      <td>0</td>\n",
       "      <td>1</td>\n",
       "      <td>0</td>\n",
       "      <td>1</td>\n",
       "      <td>0</td>\n",
       "      <td>0</td>\n",
       "      <td>...</td>\n",
       "      <td>0</td>\n",
       "      <td>0</td>\n",
       "      <td>0</td>\n",
       "      <td>0</td>\n",
       "      <td>0</td>\n",
       "      <td>0</td>\n",
       "      <td>0</td>\n",
       "      <td>0</td>\n",
       "      <td>0</td>\n",
       "      <td>6</td>\n",
       "    </tr>\n",
       "    <tr>\n",
       "      <th>4</th>\n",
       "      <td>4</td>\n",
       "      <td>Data Scientist</td>\n",
       "      <td>130000</td>\n",
       "      <td>Jr.</td>\n",
       "      <td>0</td>\n",
       "      <td>0</td>\n",
       "      <td>0</td>\n",
       "      <td>0</td>\n",
       "      <td>0</td>\n",
       "      <td>0</td>\n",
       "      <td>...</td>\n",
       "      <td>0</td>\n",
       "      <td>0</td>\n",
       "      <td>0</td>\n",
       "      <td>0</td>\n",
       "      <td>0</td>\n",
       "      <td>0</td>\n",
       "      <td>0</td>\n",
       "      <td>0</td>\n",
       "      <td>0</td>\n",
       "      <td>5</td>\n",
       "    </tr>\n",
       "  </tbody>\n",
       "</table>\n",
       "<p>5 rows × 69 columns</p>\n",
       "</div>"
      ],
      "text/plain": [
       "   Job_ID           Title  Salary   Levels  Analysis skills  \\\n",
       "0       0  Data Scientist  110000      Jr.                1   \n",
       "1       1    Data Analyst  120000  Unknown                0   \n",
       "2       2  Data Scientist  150000    Staff                0   \n",
       "3       3  Data Scientist  150000  Unknown                0   \n",
       "4       4  Data Scientist  130000      Jr.                0   \n",
       "\n",
       "   Communication skills  Research  R  Machine learning  Bachelor's degree  \\\n",
       "0                     1         1  1                 1                  1   \n",
       "1                     0         0  1                 0                  1   \n",
       "2                     0         0  0                 1                  1   \n",
       "3                     1         0  1                 0                  0   \n",
       "4                     0         0  0                 0                  0   \n",
       "\n",
       "   ...  Azure  NoSQL  Master of Science  Windows  Scripting  Marketing  \\\n",
       "0  ...      0      0                  0        0          0          0   \n",
       "1  ...      0      0                  0        0          0          0   \n",
       "2  ...      0      0                  0        0          0          0   \n",
       "3  ...      0      0                  0        0          0          0   \n",
       "4  ...      0      0                  0        0          0          0   \n",
       "\n",
       "   New Relic  DevOps  Computer networking  count  \n",
       "0          0       0                    0     10  \n",
       "1          0       0                    0      5  \n",
       "2          0       0                    0      7  \n",
       "3          0       0                    0      6  \n",
       "4          0       0                    0      5  \n",
       "\n",
       "[5 rows x 69 columns]"
      ]
     },
     "execution_count": 32,
     "metadata": {},
     "output_type": "execute_result"
    }
   ],
   "source": [
    "df = df_staff\n",
    "df = df.drop(columns = ['Company', 'City'])\n",
    "df.head(5)"
   ]
  },
  {
   "cell_type": "markdown",
   "metadata": {},
   "source": [
    " "
   ]
  },
  {
   "cell_type": "markdown",
   "metadata": {},
   "source": [
    "### 2. Convert the **`Title`** and **`Levels`** from object to numeric data."
   ]
  },
  {
   "cell_type": "code",
   "execution_count": 33,
   "metadata": {},
   "outputs": [],
   "source": [
    "def change_obj_cols(se):\n",
    "    value = se.unique().tolist()\n",
    "    return se.map(pd.Series(range(len(value)), index = value)).values\n",
    "\n",
    "for col in ['Title', 'Levels']:\n",
    "    df[col] = change_obj_cols(df[col])"
   ]
  },
  {
   "cell_type": "code",
   "execution_count": 34,
   "metadata": {},
   "outputs": [
    {
     "data": {
      "text/html": [
       "<div>\n",
       "<style scoped>\n",
       "    .dataframe tbody tr th:only-of-type {\n",
       "        vertical-align: middle;\n",
       "    }\n",
       "\n",
       "    .dataframe tbody tr th {\n",
       "        vertical-align: top;\n",
       "    }\n",
       "\n",
       "    .dataframe thead th {\n",
       "        text-align: right;\n",
       "    }\n",
       "</style>\n",
       "<table border=\"1\" class=\"dataframe\">\n",
       "  <thead>\n",
       "    <tr style=\"text-align: right;\">\n",
       "      <th></th>\n",
       "      <th>Job_ID</th>\n",
       "      <th>Title</th>\n",
       "      <th>Salary</th>\n",
       "      <th>Levels</th>\n",
       "      <th>Analysis skills</th>\n",
       "      <th>Communication skills</th>\n",
       "      <th>Research</th>\n",
       "      <th>R</th>\n",
       "      <th>Machine learning</th>\n",
       "      <th>Bachelor's degree</th>\n",
       "      <th>...</th>\n",
       "      <th>Azure</th>\n",
       "      <th>NoSQL</th>\n",
       "      <th>Master of Science</th>\n",
       "      <th>Windows</th>\n",
       "      <th>Scripting</th>\n",
       "      <th>Marketing</th>\n",
       "      <th>New Relic</th>\n",
       "      <th>DevOps</th>\n",
       "      <th>Computer networking</th>\n",
       "      <th>count</th>\n",
       "    </tr>\n",
       "  </thead>\n",
       "  <tbody>\n",
       "    <tr>\n",
       "      <th>0</th>\n",
       "      <td>0</td>\n",
       "      <td>0</td>\n",
       "      <td>110000</td>\n",
       "      <td>0</td>\n",
       "      <td>1</td>\n",
       "      <td>1</td>\n",
       "      <td>1</td>\n",
       "      <td>1</td>\n",
       "      <td>1</td>\n",
       "      <td>1</td>\n",
       "      <td>...</td>\n",
       "      <td>0</td>\n",
       "      <td>0</td>\n",
       "      <td>0</td>\n",
       "      <td>0</td>\n",
       "      <td>0</td>\n",
       "      <td>0</td>\n",
       "      <td>0</td>\n",
       "      <td>0</td>\n",
       "      <td>0</td>\n",
       "      <td>10</td>\n",
       "    </tr>\n",
       "    <tr>\n",
       "      <th>1</th>\n",
       "      <td>1</td>\n",
       "      <td>1</td>\n",
       "      <td>120000</td>\n",
       "      <td>1</td>\n",
       "      <td>0</td>\n",
       "      <td>0</td>\n",
       "      <td>0</td>\n",
       "      <td>1</td>\n",
       "      <td>0</td>\n",
       "      <td>1</td>\n",
       "      <td>...</td>\n",
       "      <td>0</td>\n",
       "      <td>0</td>\n",
       "      <td>0</td>\n",
       "      <td>0</td>\n",
       "      <td>0</td>\n",
       "      <td>0</td>\n",
       "      <td>0</td>\n",
       "      <td>0</td>\n",
       "      <td>0</td>\n",
       "      <td>5</td>\n",
       "    </tr>\n",
       "    <tr>\n",
       "      <th>2</th>\n",
       "      <td>2</td>\n",
       "      <td>0</td>\n",
       "      <td>150000</td>\n",
       "      <td>2</td>\n",
       "      <td>0</td>\n",
       "      <td>0</td>\n",
       "      <td>0</td>\n",
       "      <td>0</td>\n",
       "      <td>1</td>\n",
       "      <td>1</td>\n",
       "      <td>...</td>\n",
       "      <td>0</td>\n",
       "      <td>0</td>\n",
       "      <td>0</td>\n",
       "      <td>0</td>\n",
       "      <td>0</td>\n",
       "      <td>0</td>\n",
       "      <td>0</td>\n",
       "      <td>0</td>\n",
       "      <td>0</td>\n",
       "      <td>7</td>\n",
       "    </tr>\n",
       "    <tr>\n",
       "      <th>3</th>\n",
       "      <td>3</td>\n",
       "      <td>0</td>\n",
       "      <td>150000</td>\n",
       "      <td>1</td>\n",
       "      <td>0</td>\n",
       "      <td>1</td>\n",
       "      <td>0</td>\n",
       "      <td>1</td>\n",
       "      <td>0</td>\n",
       "      <td>0</td>\n",
       "      <td>...</td>\n",
       "      <td>0</td>\n",
       "      <td>0</td>\n",
       "      <td>0</td>\n",
       "      <td>0</td>\n",
       "      <td>0</td>\n",
       "      <td>0</td>\n",
       "      <td>0</td>\n",
       "      <td>0</td>\n",
       "      <td>0</td>\n",
       "      <td>6</td>\n",
       "    </tr>\n",
       "    <tr>\n",
       "      <th>4</th>\n",
       "      <td>4</td>\n",
       "      <td>0</td>\n",
       "      <td>130000</td>\n",
       "      <td>0</td>\n",
       "      <td>0</td>\n",
       "      <td>0</td>\n",
       "      <td>0</td>\n",
       "      <td>0</td>\n",
       "      <td>0</td>\n",
       "      <td>0</td>\n",
       "      <td>...</td>\n",
       "      <td>0</td>\n",
       "      <td>0</td>\n",
       "      <td>0</td>\n",
       "      <td>0</td>\n",
       "      <td>0</td>\n",
       "      <td>0</td>\n",
       "      <td>0</td>\n",
       "      <td>0</td>\n",
       "      <td>0</td>\n",
       "      <td>5</td>\n",
       "    </tr>\n",
       "  </tbody>\n",
       "</table>\n",
       "<p>5 rows × 69 columns</p>\n",
       "</div>"
      ],
      "text/plain": [
       "   Job_ID  Title  Salary  Levels  Analysis skills  Communication skills  \\\n",
       "0       0      0  110000       0                1                     1   \n",
       "1       1      1  120000       1                0                     0   \n",
       "2       2      0  150000       2                0                     0   \n",
       "3       3      0  150000       1                0                     1   \n",
       "4       4      0  130000       0                0                     0   \n",
       "\n",
       "   Research  R  Machine learning  Bachelor's degree  ...  Azure  NoSQL  \\\n",
       "0         1  1                 1                  1  ...      0      0   \n",
       "1         0  1                 0                  1  ...      0      0   \n",
       "2         0  0                 1                  1  ...      0      0   \n",
       "3         0  1                 0                  0  ...      0      0   \n",
       "4         0  0                 0                  0  ...      0      0   \n",
       "\n",
       "   Master of Science  Windows  Scripting  Marketing  New Relic  DevOps  \\\n",
       "0                  0        0          0          0          0       0   \n",
       "1                  0        0          0          0          0       0   \n",
       "2                  0        0          0          0          0       0   \n",
       "3                  0        0          0          0          0       0   \n",
       "4                  0        0          0          0          0       0   \n",
       "\n",
       "   Computer networking  count  \n",
       "0                    0     10  \n",
       "1                    0      5  \n",
       "2                    0      7  \n",
       "3                    0      6  \n",
       "4                    0      5  \n",
       "\n",
       "[5 rows x 69 columns]"
      ]
     },
     "execution_count": 34,
     "metadata": {},
     "output_type": "execute_result"
    }
   ],
   "source": [
    "df.head(5)"
   ]
  },
  {
   "cell_type": "markdown",
   "metadata": {},
   "source": [
    " "
   ]
  },
  {
   "cell_type": "markdown",
   "metadata": {},
   "source": [
    "### 3. Split the whole dataset into **`train`** and **`test`** datasets with the ratio 8 : 2."
   ]
  },
  {
   "cell_type": "code",
   "execution_count": 35,
   "metadata": {},
   "outputs": [],
   "source": [
    "from sklearn.model_selection import train_test_split\n",
    "train, test = train_test_split(df, test_size = 0.2, random_state = 42, shuffle = False)"
   ]
  },
  {
   "cell_type": "markdown",
   "metadata": {},
   "source": [
    " "
   ]
  },
  {
   "cell_type": "markdown",
   "metadata": {},
   "source": [
    "### 4. Save the tables into excel files."
   ]
  },
  {
   "cell_type": "code",
   "execution_count": 36,
   "metadata": {},
   "outputs": [],
   "source": [
    "train.to_excel('train.xlsx', index = False)\n",
    "test.to_excel('test.xlsx', index = False)"
   ]
  },
  {
   "cell_type": "markdown",
   "metadata": {},
   "source": [
    " "
   ]
  },
  {
   "cell_type": "markdown",
   "metadata": {},
   "source": [
    "---\n",
    "\n",
    "## 6. Machine Learning Models"
   ]
  },
  {
   "cell_type": "markdown",
   "metadata": {},
   "source": [
    "#### 1. Regression Tree"
   ]
  },
  {
   "cell_type": "markdown",
   "metadata": {},
   "source": [
    "- Regression tree is a model which accepts categorial data as inputs and predicts a numeric output."
   ]
  },
  {
   "cell_type": "code",
   "execution_count": 37,
   "metadata": {},
   "outputs": [],
   "source": [
    "# import regression tree model\n",
    "from sklearn.tree import DecisionTreeRegressor\n",
    "from sklearn.tree import plot_tree\n",
    "from sklearn.metrics import mean_squared_error\n",
    "from sklearn.metrics import mean_absolute_error"
   ]
  },
  {
   "cell_type": "code",
   "execution_count": 38,
   "metadata": {},
   "outputs": [],
   "source": [
    "# import train/test set\n",
    "train = pd.read_excel(\"train.xlsx\")\n",
    "test = pd.read_excel(\"test.xlsx\")\n",
    "\n",
    "# split sets into predictor and reponse sets\n",
    "train_X = train.drop(columns = ['Job_ID','Salary','count'])\n",
    "train_y = pd.DataFrame(train['Salary'])\n",
    "\n",
    "test_X = test.drop(columns = ['Job_ID','Salary','count'])\n",
    "test_y = pd.DataFrame(test['Salary'])"
   ]
  },
  {
   "cell_type": "code",
   "execution_count": 39,
   "metadata": {},
   "outputs": [
    {
     "data": {
      "text/plain": [
       "[Text(0.5959821428571429, 0.9285714285714286, 'Levels <= 1.5\\nsquared_error = 1140854963.451\\nsamples = 964\\nvalue = 150626.604'),\n",
       " Text(0.3125, 0.7857142857142857, 'Title <= 1.5\\nsquared_error = 1307926686.717\\nsamples = 486\\nvalue = 140363.817'),\n",
       " Text(0.20982142857142858, 0.6428571428571429, 'Title <= 0.5\\nsquared_error = 594421596.99\\nsamples = 288\\nvalue = 128730.816'),\n",
       " Text(0.13392857142857142, 0.5, 'Scripting <= 0.5\\nsquared_error = 529581831.253\\nsamples = 278\\nvalue = 129960.701'),\n",
       " Text(0.07142857142857142, 0.35714285714285715, \"Bachelor's degree <= 0.5\\nsquared_error = 407972272.058\\nsamples = 272\\nvalue = 130856.893\"),\n",
       " Text(0.03571428571428571, 0.21428571428571427, 'Doctoral degree <= 0.5\\nsquared_error = 281063315.215\\nsamples = 159\\nvalue = 135907.893'),\n",
       " Text(0.017857142857142856, 0.07142857142857142, 'squared_error = 258130312.428\\nsamples = 103\\nvalue = 132547.136'),\n",
       " Text(0.05357142857142857, 0.07142857142857142, 'squared_error = 264259885.204\\nsamples = 56\\nvalue = 142089.286'),\n",
       " Text(0.10714285714285714, 0.21428571428571427, 'Go <= 0.5\\nsquared_error = 500133317.629\\nsamples = 113\\nvalue = 123749.735'),\n",
       " Text(0.08928571428571429, 0.07142857142857142, 'squared_error = 494914592.214\\nsamples = 103\\nvalue = 121783.689'),\n",
       " Text(0.125, 0.07142857142857142, 'squared_error = 104000000.0\\nsamples = 10\\nvalue = 144000.0'),\n",
       " Text(0.19642857142857142, 0.35714285714285715, 'Master of Science <= 0.5\\nsquared_error = 4355555555.556\\nsamples = 6\\nvalue = 89333.333'),\n",
       " Text(0.17857142857142858, 0.21428571428571427, 'C <= 0.5\\nsquared_error = 548000000.0\\nsamples = 4\\nvalue = 134000.0'),\n",
       " Text(0.16071428571428573, 0.07142857142857142, 'squared_error = 88888888.889\\nsamples = 3\\nvalue = 146666.667'),\n",
       " Text(0.19642857142857142, 0.07142857142857142, 'squared_error = 0.0\\nsamples = 1\\nvalue = 96000.0'),\n",
       " Text(0.21428571428571427, 0.21428571428571427, 'squared_error = 0.0\\nsamples = 2\\nvalue = 0.0'),\n",
       " Text(0.2857142857142857, 0.5, 'US work authorization <= 0.5\\nsquared_error = 1185904400.0\\nsamples = 10\\nvalue = 94540.0'),\n",
       " Text(0.26785714285714285, 0.35714285714285715, 'Research <= 0.5\\nsquared_error = 443654320.988\\nsamples = 9\\nvalue = 103888.889'),\n",
       " Text(0.25, 0.21428571428571427, \"Master's degree <= 0.5\\nsquared_error = 215750000.0\\nsamples = 8\\nvalue = 109500.0\"),\n",
       " Text(0.23214285714285715, 0.07142857142857142, 'squared_error = 61000000.0\\nsamples = 4\\nvalue = 99000.0'),\n",
       " Text(0.26785714285714285, 0.07142857142857142, 'squared_error = 150000000.0\\nsamples = 4\\nvalue = 120000.0'),\n",
       " Text(0.2857142857142857, 0.21428571428571427, 'squared_error = 0.0\\nsamples = 1\\nvalue = 59000.0'),\n",
       " Text(0.30357142857142855, 0.35714285714285715, 'squared_error = 0.0\\nsamples = 1\\nvalue = 10400.0'),\n",
       " Text(0.41517857142857145, 0.6428571428571429, 'Title <= 2.5\\nsquared_error = 1862602365.197\\nsamples = 198\\nvalue = 157284.545'),\n",
       " Text(0.35714285714285715, 0.5, 'Hadoop <= 0.5\\nsquared_error = 6911893333.333\\nsamples = 15\\nvalue = 233200.0'),\n",
       " Text(0.3392857142857143, 0.35714285714285715, 'SAS <= 0.5\\nsquared_error = 817751479.29\\nsamples = 13\\nvalue = 202307.692'),\n",
       " Text(0.32142857142857145, 0.21428571428571427, 'Communication skills <= 0.5\\nsquared_error = 413888888.889\\nsamples = 12\\nvalue = 208333.333'),\n",
       " Text(0.30357142857142855, 0.07142857142857142, 'squared_error = 268750000.0\\nsamples = 8\\nvalue = 217500.0'),\n",
       " Text(0.3392857142857143, 0.07142857142857142, 'squared_error = 200000000.0\\nsamples = 4\\nvalue = 190000.0'),\n",
       " Text(0.35714285714285715, 0.21428571428571427, 'squared_error = 0.0\\nsamples = 1\\nvalue = 130000.0'),\n",
       " Text(0.375, 0.35714285714285715, 'squared_error = 0.0\\nsamples = 2\\nvalue = 434000.0'),\n",
       " Text(0.4732142857142857, 0.5, 'System design <= 0.5\\nsquared_error = 937615720.72\\nsamples = 183\\nvalue = 151061.967'),\n",
       " Text(0.42857142857142855, 0.35714285714285715, 'Doctoral degree <= 0.5\\nsquared_error = 740090789.414\\nsamples = 181\\nvalue = 149581.989'),\n",
       " Text(0.39285714285714285, 0.21428571428571427, 'Title <= 5.5\\nsquared_error = 803933100.0\\nsamples = 100\\nvalue = 142370.0'),\n",
       " Text(0.375, 0.07142857142857142, 'squared_error = 417066326.531\\nsamples = 56\\nvalue = 134428.571'),\n",
       " Text(0.4107142857142857, 0.07142857142857142, 'squared_error = 1113885847.107\\nsamples = 44\\nvalue = 152477.273'),\n",
       " Text(0.4642857142857143, 0.21428571428571427, 'US work authorization <= 0.5\\nsquared_error = 517784110.959\\nsamples = 81\\nvalue = 158485.679'),\n",
       " Text(0.44642857142857145, 0.07142857142857142, 'squared_error = 444061336.818\\nsamples = 78\\nvalue = 157081.282'),\n",
       " Text(0.48214285714285715, 0.07142857142857142, 'squared_error = 1050000000.0\\nsamples = 3\\nvalue = 195000.0'),\n",
       " Text(0.5178571428571429, 0.35714285714285715, 'Deep learning <= 0.5\\nsquared_error = 676000000.0\\nsamples = 2\\nvalue = 285000.0'),\n",
       " Text(0.5, 0.21428571428571427, 'squared_error = 0.0\\nsamples = 1\\nvalue = 259000.0'),\n",
       " Text(0.5357142857142857, 0.21428571428571427, 'squared_error = 0.0\\nsamples = 1\\nvalue = 311000.0'),\n",
       " Text(0.8794642857142857, 0.7857142857142857, 'Windows <= 0.5\\nsquared_error = 755019695.954\\nsamples = 478\\nvalue = 161061.153'),\n",
       " Text(0.7946428571428571, 0.6428571428571429, 'Doctor of Philosophy <= 0.5\\nsquared_error = 736629182.027\\nsamples = 445\\nvalue = 163297.148'),\n",
       " Text(0.6785714285714286, 0.5, 'C++ <= 0.5\\nsquared_error = 924079244.301\\nsamples = 227\\nvalue = 157862.692'),\n",
       " Text(0.6071428571428571, 0.35714285714285715, 'Levels <= 2.5\\nsquared_error = 562362276.249\\nsamples = 202\\nvalue = 153226.886'),\n",
       " Text(0.5714285714285714, 0.21428571428571427, 'Doctoral degree <= 0.5\\nsquared_error = 149514307.748\\nsamples = 20\\nvalue = 132093.05'),\n",
       " Text(0.5535714285714286, 0.07142857142857142, 'squared_error = 102734375.0\\nsamples = 16\\nvalue = 128125.0'),\n",
       " Text(0.5892857142857143, 0.07142857142857142, 'squared_error = 21725622.688\\nsamples = 4\\nvalue = 147965.25'),\n",
       " Text(0.6428571428571429, 0.21428571428571427, 'Analysis skills <= 0.5\\nsquared_error = 553255433.006\\nsamples = 182\\nvalue = 155549.286'),\n",
       " Text(0.625, 0.07142857142857142, 'squared_error = 522694740.731\\nsamples = 164\\nvalue = 157438.841'),\n",
       " Text(0.6607142857142857, 0.07142857142857142, 'squared_error = 502777777.778\\nsamples = 18\\nvalue = 138333.333'),\n",
       " Text(0.75, 0.35714285714285715, 'Microsoft Excel <= 0.5\\nsquared_error = 2270057600.0\\nsamples = 25\\nvalue = 195320.0'),\n",
       " Text(0.7142857142857143, 0.21428571428571427, 'Communication skills <= 0.5\\nsquared_error = 1997897920.605\\nsamples = 23\\nvalue = 201434.783'),\n",
       " Text(0.6964285714285714, 0.07142857142857142, 'squared_error = 1029365079.365\\nsamples = 21\\nvalue = 196333.333'),\n",
       " Text(0.7321428571428571, 0.07142857142857142, 'squared_error = 9025000000.0\\nsamples = 2\\nvalue = 255000.0'),\n",
       " Text(0.7857142857142857, 0.21428571428571427, \"Bachelor's degree <= 0.5\\nsquared_error = 25000000.0\\nsamples = 2\\nvalue = 125000.0\"),\n",
       " Text(0.7678571428571429, 0.07142857142857142, 'squared_error = 0.0\\nsamples = 1\\nvalue = 130000.0'),\n",
       " Text(0.8035714285714286, 0.07142857142857142, 'squared_error = 0.0\\nsamples = 1\\nvalue = 120000.0'),\n",
       " Text(0.9107142857142857, 0.5, 'Elasticsearch <= 0.5\\nsquared_error = 478665583.705\\nsamples = 218\\nvalue = 168955.963'),\n",
       " Text(0.8928571428571429, 0.35714285714285715, 'C <= 0.5\\nsquared_error = 369583717.641\\nsamples = 217\\nvalue = 168241.475'),\n",
       " Text(0.8571428571428571, 0.21428571428571427, 'Git <= 0.5\\nsquared_error = 351610142.332\\nsamples = 103\\nvalue = 174438.835'),\n",
       " Text(0.8392857142857143, 0.07142857142857142, 'squared_error = 312711120.367\\nsamples = 98\\nvalue = 175889.796'),\n",
       " Text(0.875, 0.07142857142857142, 'squared_error = 264000000.0\\nsamples = 5\\nvalue = 146000.0'),\n",
       " Text(0.9285714285714286, 0.21428571428571427, 'Azure <= 0.5\\nsquared_error = 319768753.463\\nsamples = 114\\nvalue = 162642.105'),\n",
       " Text(0.9107142857142857, 0.07142857142857142, 'squared_error = 292655336.417\\nsamples = 111\\nvalue = 161812.613'),\n",
       " Text(0.9464285714285714, 0.07142857142857142, 'squared_error = 355555555.556\\nsamples = 3\\nvalue = 193333.333'),\n",
       " Text(0.9285714285714286, 0.35714285714285715, 'squared_error = 0.0\\nsamples = 1\\nvalue = 324000.0'),\n",
       " Text(0.9642857142857143, 0.6428571428571429, 'Elasticsearch <= 0.5\\nsquared_error = 26446280.992\\nsamples = 33\\nvalue = 130909.091'),\n",
       " Text(0.9464285714285714, 0.5, 'squared_error = 0.0\\nsamples = 1\\nvalue = 160000.0'),\n",
       " Text(0.9821428571428571, 0.5, 'squared_error = 0.0\\nsamples = 32\\nvalue = 130000.0')]"
      ]
     },
     "execution_count": 39,
     "metadata": {},
     "output_type": "execute_result"
    },
    {
     "data": {
      "image/png": "[encoded data removed]",
      "text/plain": [
       "<Figure size 1728x1728 with 1 Axes>"
      ]
     },
     "metadata": {},
     "output_type": "display_data"
    }
   ],
   "source": [
    "# create and fit regression tree\n",
    "dectree = DecisionTreeRegressor(max_depth = 6)\n",
    "dectree.fit(train_X, train_y)\n",
    "\n",
    "# plot the trained decision Tree\n",
    "f = plt.figure(figsize=(24,24))\n",
    "plot_tree(dectree, \n",
    "          filled=True, \n",
    "          rounded=True,\n",
    "          feature_names= test_X.columns)"
   ]
  },
  {
   "cell_type": "code",
   "execution_count": 40,
   "metadata": {},
   "outputs": [
    {
     "name": "stdout",
     "output_type": "stream",
     "text": [
      "Root Mean Squared Error (RMSE) \t: 47643.784472208965\n",
      "Mean Absolute Error (MAE) \t: 17570.194874127\n"
     ]
    }
   ],
   "source": [
    "# predict test_y\n",
    "test_y_pred = dectree.predict(test_X)\n",
    "\n",
    "# evaluate prediction\n",
    "mse = np.mean(np.square(np.array(test_y) - np.array(test_y_pred)))\n",
    "rmse = np.sqrt(mse)\n",
    "\n",
    "print(\"Root Mean Squared Error (RMSE) \\t:\", rmse)\n",
    "print(\"Mean Absolute Error (MAE) \\t:\", mean_absolute_error(test_y, test_y_pred))"
   ]
  },
  {
   "cell_type": "code",
   "execution_count": 41,
   "metadata": {},
   "outputs": [
    {
     "name": "stdout",
     "output_type": "stream",
     "text": [
      "R^2(train) \t:  0.6278336401286195\n",
      "R^2(test) \t:  0.1659114203214781\n"
     ]
    }
   ],
   "source": [
    "# goodness of fit on train set\n",
    "print('R^2(train) \\t: ', dectree.score(train_X, train_y))\n",
    "\n",
    "# goodness of fit on test set\n",
    "print('R^2(test) \\t: ', dectree.score(test_X, test_y))"
   ]
  },
  {
   "cell_type": "markdown",
   "metadata": {},
   "source": [
    "- Regression Tree performs not quite good in the test set, as it overfits the train set."
   ]
  },
  {
   "cell_type": "markdown",
   "metadata": {},
   "source": [
    "#### 2. Neural Network"
   ]
  },
  {
   "cell_type": "markdown",
   "metadata": {},
   "source": [
    "- Neural network is a series of algorithms that endeavors to recognize underlying relationships in a set of data through a process that mimics the way the human brain operates.\n",
    "\n",
    "- Neural networks are flexible and can be used for both classification and regression. So we want to dicover whether it will be better for our prediction."
   ]
  },
  {
   "cell_type": "code",
   "execution_count": 42,
   "metadata": {},
   "outputs": [
    {
     "name": "stderr",
     "output_type": "stream",
     "text": [
      "2022-04-16 18:44:33.030881: W tensorflow/stream_executor/platform/default/dso_loader.cc:55] Could not load dynamic library 'libnvinfer.so.6'; dlerror: libnvinfer.so.6: cannot open shared object file: No such file or directory\n",
      "2022-04-16 18:44:33.030963: W tensorflow/stream_executor/platform/default/dso_loader.cc:55] Could not load dynamic library 'libnvinfer_plugin.so.6'; dlerror: libnvinfer_plugin.so.6: cannot open shared object file: No such file or directory\n",
      "2022-04-16 18:44:33.030968: W tensorflow/compiler/tf2tensorrt/utils/py_utils.cc:30] Cannot dlopen some TensorRT libraries. If you would like to use Nvidia GPU with TensorRT, please make sure the missing libraries mentioned above are installed properly.\n"
     ]
    }
   ],
   "source": [
    "# import tensorflow package\n",
    "from sklearn.metrics import mean_squared_error\n",
    "import tensorflow as tf\n",
    "from tensorflow import keras\n",
    "from tensorflow.keras import layers\n",
    "from tensorflow.keras.models import Sequential\n",
    "from tensorflow.keras.layers import Activation, Dense\n"
   ]
  },
  {
   "cell_type": "code",
   "execution_count": 43,
   "metadata": {},
   "outputs": [],
   "source": [
    "# import the train/test set\n",
    "train = pd.read_excel('train.xlsx')\n",
    "train = train.drop(['Job_ID'], axis = 1)\n",
    "\n",
    "test = pd.read_excel('test.xlsx')\n",
    "test = test.drop(['Job_ID'], axis = 1)\n",
    "\n",
    "train_features = train.copy()\n",
    "test_features = test.copy()\n",
    "\n",
    "train_target = train_features.pop('Salary')\n",
    "test_target = test_features.pop('Salary')"
   ]
  },
  {
   "cell_type": "code",
   "execution_count": 44,
   "metadata": {},
   "outputs": [
    {
     "name": "stderr",
     "output_type": "stream",
     "text": [
      "2022-04-16 18:44:33.997640: I tensorflow/stream_executor/platform/default/dso_loader.cc:44] Successfully opened dynamic library libcuda.so.1\n",
      "2022-04-16 18:44:34.109842: I tensorflow/core/common_runtime/gpu/gpu_device.cc:1555] Found device 0 with properties: \n",
      "pciBusID: 0000:19:00.0 name: NVIDIA GeForce RTX 2080 Ti computeCapability: 7.5\n",
      "coreClock: 1.545GHz coreCount: 68 deviceMemorySize: 10.76GiB deviceMemoryBandwidth: 573.69GiB/s\n",
      "2022-04-16 18:44:34.110534: I tensorflow/core/common_runtime/gpu/gpu_device.cc:1555] Found device 1 with properties: \n",
      "pciBusID: 0000:1a:00.0 name: NVIDIA GeForce RTX 2080 Ti computeCapability: 7.5\n",
      "coreClock: 1.545GHz coreCount: 68 deviceMemorySize: 10.76GiB deviceMemoryBandwidth: 573.69GiB/s\n",
      "2022-04-16 18:44:34.111209: I tensorflow/core/common_runtime/gpu/gpu_device.cc:1555] Found device 2 with properties: \n",
      "pciBusID: 0000:67:00.0 name: NVIDIA GeForce RTX 2080 Ti computeCapability: 7.5\n",
      "coreClock: 1.545GHz coreCount: 68 deviceMemorySize: 10.76GiB deviceMemoryBandwidth: 573.69GiB/s\n",
      "2022-04-16 18:44:34.111866: I tensorflow/core/common_runtime/gpu/gpu_device.cc:1555] Found device 3 with properties: \n",
      "pciBusID: 0000:68:00.0 name: NVIDIA GeForce RTX 2080 Ti computeCapability: 7.5\n",
      "coreClock: 1.545GHz coreCount: 68 deviceMemorySize: 10.76GiB deviceMemoryBandwidth: 573.69GiB/s\n",
      "2022-04-16 18:44:34.112065: I tensorflow/stream_executor/platform/default/dso_loader.cc:44] Successfully opened dynamic library libcudart.so.10.1\n",
      "2022-04-16 18:44:34.113393: I tensorflow/stream_executor/platform/default/dso_loader.cc:44] Successfully opened dynamic library libcublas.so.10\n",
      "2022-04-16 18:44:34.114702: I tensorflow/stream_executor/platform/default/dso_loader.cc:44] Successfully opened dynamic library libcufft.so.10\n",
      "2022-04-16 18:44:34.114987: I tensorflow/stream_executor/platform/default/dso_loader.cc:44] Successfully opened dynamic library libcurand.so.10\n",
      "2022-04-16 18:44:34.116319: I tensorflow/stream_executor/platform/default/dso_loader.cc:44] Successfully opened dynamic library libcusolver.so.10\n",
      "2022-04-16 18:44:34.117064: I tensorflow/stream_executor/platform/default/dso_loader.cc:44] Successfully opened dynamic library libcusparse.so.10\n",
      "2022-04-16 18:44:34.119955: I tensorflow/stream_executor/platform/default/dso_loader.cc:44] Successfully opened dynamic library libcudnn.so.7\n",
      "2022-04-16 18:44:34.125052: I tensorflow/core/common_runtime/gpu/gpu_device.cc:1697] Adding visible gpu devices: 0, 1, 2, 3\n"
     ]
    }
   ],
   "source": [
    "# set gpu devices for training\n",
    "gpu_devices = tf.config.experimental.list_physical_devices('GPU')\n",
    "tf.config.set_visible_devices(gpu_devices[2:3], 'GPU')"
   ]
  },
  {
   "cell_type": "markdown",
   "metadata": {},
   "source": [
    "- We set a very standard neural network with 1 input layer, 3 hidden layers, and 1 output layer."
   ]
  },
  {
   "cell_type": "code",
   "execution_count": 45,
   "metadata": {},
   "outputs": [
    {
     "name": "stderr",
     "output_type": "stream",
     "text": [
      "2022-04-16 18:44:34.137796: I tensorflow/core/platform/cpu_feature_guard.cc:142] Your CPU supports instructions that this TensorFlow binary was not compiled to use: AVX2 AVX512F FMA\n",
      "2022-04-16 18:44:34.150974: I tensorflow/core/platform/profile_utils/cpu_utils.cc:94] CPU Frequency: 3300000000 Hz\n",
      "2022-04-16 18:44:34.152446: I tensorflow/compiler/xla/service/service.cc:168] XLA service 0x559c9668b740 initialized for platform Host (this does not guarantee that XLA will be used). Devices:\n",
      "2022-04-16 18:44:34.152482: I tensorflow/compiler/xla/service/service.cc:176]   StreamExecutor device (0): Host, Default Version\n",
      "2022-04-16 18:44:34.258636: I tensorflow/compiler/xla/service/service.cc:168] XLA service 0x559c9606da40 initialized for platform CUDA (this does not guarantee that XLA will be used). Devices:\n",
      "2022-04-16 18:44:34.258686: I tensorflow/compiler/xla/service/service.cc:176]   StreamExecutor device (0): NVIDIA GeForce RTX 2080 Ti, Compute Capability 7.5\n",
      "2022-04-16 18:44:34.260657: I tensorflow/core/common_runtime/gpu/gpu_device.cc:1555] Found device 0 with properties: \n",
      "pciBusID: 0000:67:00.0 name: NVIDIA GeForce RTX 2080 Ti computeCapability: 7.5\n",
      "coreClock: 1.545GHz coreCount: 68 deviceMemorySize: 10.76GiB deviceMemoryBandwidth: 573.69GiB/s\n",
      "2022-04-16 18:44:34.260763: I tensorflow/stream_executor/platform/default/dso_loader.cc:44] Successfully opened dynamic library libcudart.so.10.1\n",
      "2022-04-16 18:44:34.260802: I tensorflow/stream_executor/platform/default/dso_loader.cc:44] Successfully opened dynamic library libcublas.so.10\n",
      "2022-04-16 18:44:34.260838: I tensorflow/stream_executor/platform/default/dso_loader.cc:44] Successfully opened dynamic library libcufft.so.10\n",
      "2022-04-16 18:44:34.260874: I tensorflow/stream_executor/platform/default/dso_loader.cc:44] Successfully opened dynamic library libcurand.so.10\n",
      "2022-04-16 18:44:34.260909: I tensorflow/stream_executor/platform/default/dso_loader.cc:44] Successfully opened dynamic library libcusolver.so.10\n",
      "2022-04-16 18:44:34.260944: I tensorflow/stream_executor/platform/default/dso_loader.cc:44] Successfully opened dynamic library libcusparse.so.10\n",
      "2022-04-16 18:44:34.260980: I tensorflow/stream_executor/platform/default/dso_loader.cc:44] Successfully opened dynamic library libcudnn.so.7\n",
      "2022-04-16 18:44:34.264234: I tensorflow/core/common_runtime/gpu/gpu_device.cc:1697] Adding visible gpu devices: 2\n",
      "2022-04-16 18:44:34.264337: I tensorflow/stream_executor/platform/default/dso_loader.cc:44] Successfully opened dynamic library libcudart.so.10.1\n",
      "2022-04-16 18:44:34.272775: I tensorflow/core/common_runtime/gpu/gpu_device.cc:1096] Device interconnect StreamExecutor with strength 1 edge matrix:\n",
      "2022-04-16 18:44:34.272794: I tensorflow/core/common_runtime/gpu/gpu_device.cc:1102]      2 \n",
      "2022-04-16 18:44:34.272803: I tensorflow/core/common_runtime/gpu/gpu_device.cc:1115] 2:   N \n",
      "2022-04-16 18:44:34.275087: I tensorflow/core/common_runtime/gpu/gpu_device.cc:1241] Created TensorFlow device (/job:localhost/replica:0/task:0/device:GPU:0 with 10321 MB memory) -> physical GPU (device: 2, name: NVIDIA GeForce RTX 2080 Ti, pci bus id: 0000:67:00.0, compute capability: 7.5)\n"
     ]
    },
    {
     "name": "stdout",
     "output_type": "stream",
     "text": [
      "Model: \"sequential\"\n",
      "_________________________________________________________________\n",
      "Layer (type)                 Output Shape              Param #   \n",
      "=================================================================\n",
      "dense (Dense)                (None, 67)                4556      \n",
      "_________________________________________________________________\n",
      "dense_1 (Dense)              (None, 256)               17408     \n",
      "_________________________________________________________________\n",
      "dense_2 (Dense)              (None, 256)               65792     \n",
      "_________________________________________________________________\n",
      "dense_3 (Dense)              (None, 256)               65792     \n",
      "_________________________________________________________________\n",
      "dense_4 (Dense)              (None, 1)                 257       \n",
      "=================================================================\n",
      "Total params: 153,805\n",
      "Trainable params: 153,805\n",
      "Non-trainable params: 0\n",
      "_________________________________________________________________\n"
     ]
    }
   ],
   "source": [
    "# set the NN_model\n",
    "NN_model = Sequential()\n",
    "\n",
    "# the input layer \n",
    "NN_model.add(Dense(67, kernel_initializer='normal',input_dim = train_features.shape[1], activation='relu'))\n",
    "\n",
    "# The hidden layers \n",
    "NN_model.add(Dense(256, kernel_initializer='normal',activation='relu'))\n",
    "NN_model.add(Dense(256, kernel_initializer='normal',activation='relu'))\n",
    "NN_model.add(Dense(256, kernel_initializer='normal',activation='relu'))\n",
    "\n",
    "# the output layer \n",
    "NN_model.add(Dense(1, kernel_initializer='normal',activation='linear'))\n",
    "\n",
    "# compile the network :\n",
    "NN_model.compile(loss='mean_absolute_error', optimizer='adam', metrics=['mean_absolute_error'])\n",
    "NN_model.summary()"
   ]
  },
  {
   "cell_type": "code",
   "execution_count": 46,
   "metadata": {
    "scrolled": true
   },
   "outputs": [
    {
     "name": "stderr",
     "output_type": "stream",
     "text": [
      "2022-04-16 18:44:34.977093: I tensorflow/stream_executor/platform/default/dso_loader.cc:44] Successfully opened dynamic library libcublas.so.10\n"
     ]
    },
    {
     "data": {
      "text/plain": [
       "<tensorflow.python.keras.callbacks.History at 0x7fd9d8021e10>"
      ]
     },
     "execution_count": 46,
     "metadata": {},
     "output_type": "execute_result"
    }
   ],
   "source": [
    "# train the model with the train set\n",
    "NN_model.fit(train_features, train_target, epochs=1500, batch_size=1024, validation_split = 0.2, verbose = 0)"
   ]
  },
  {
   "cell_type": "code",
   "execution_count": 47,
   "metadata": {},
   "outputs": [],
   "source": [
    "# predict the test set using NN_model\n",
    "predictions = NN_model.predict(test_features)\n",
    "predict_result = pd.DataFrame(predictions, columns = ['Salary'])\n",
    "test_result = test[['Salary']]"
   ]
  },
  {
   "cell_type": "code",
   "execution_count": 48,
   "metadata": {},
   "outputs": [
    {
     "name": "stdout",
     "output_type": "stream",
     "text": [
      "Root Mean Squared Error (RMSE) \t: 29254.808866082207\n",
      "Mean Absolute Error (MAE) \t: 16696.485509595437\n"
     ]
    }
   ],
   "source": [
    "# evaluate the model\n",
    "print(\"Root Mean Squared Error (RMSE) \\t:\", np.sqrt(mean_squared_error(test_result, predict_result)))\n",
    "print(\"Mean Absolute Error (MAE) \\t:\", mean_absolute_error(test_result, predict_result))"
   ]
  },
  {
   "cell_type": "markdown",
   "metadata": {},
   "source": [
    "- WE can see that Neural Network is a better model to predict the salary compared with the Regression Tree."
   ]
  },
  {
   "cell_type": "markdown",
   "metadata": {},
   "source": [
    "#### 3. Light GBM model"
   ]
  },
  {
   "cell_type": "markdown",
   "metadata": {},
   "source": [
    "- Light GBM is a fast, distributed, high-performance gradient boosting framework based on decision tree algorithm, used for ranking, classification and many other machine learning tasks."
   ]
  },
  {
   "cell_type": "code",
   "execution_count": 49,
   "metadata": {},
   "outputs": [],
   "source": [
    "from sklearn.model_selection import KFold\n",
    "import lightgbm as lgb\n",
    "import datetime\n",
    "import time"
   ]
  },
  {
   "cell_type": "code",
   "execution_count": 50,
   "metadata": {},
   "outputs": [],
   "source": [
    "# import train/test set\n",
    "train = pd.read_excel(\"train.xlsx\")\n",
    "test = pd.read_excel(\"test.xlsx\")\n",
    "target = train['Salary']\n",
    "del train['Salary']\n",
    "features = [c for c in train.columns if c not in ['Job_ID']]\n",
    "categorical_feats = ['Title', 'Levels']"
   ]
  },
  {
   "cell_type": "markdown",
   "metadata": {},
   "source": [
    "- We then set the hyperparameters of the LGBM model, these parameters are obtained by an `bayesian optimization`."
   ]
  },
  {
   "cell_type": "code",
   "execution_count": 51,
   "metadata": {},
   "outputs": [],
   "source": [
    "# set the hyperparameters of the LGBM model\n",
    "param = {'num_leavs' : 111,\n",
    "         'min_data_in_leaf' : 149,\n",
    "         'objective' : 'regression',\n",
    "         'max_depth' : 9,\n",
    "         'learning_rate' : 0.005,\n",
    "         'boosting' : 'gbdt',\n",
    "         'feature_fraction' : 0.7522,\n",
    "         'bagging_freq' : 1,\n",
    "         'bagging_fraction' : 0.7083,\n",
    "         'bagging_seed' : 11,\n",
    "         'metric' : 'rmse',\n",
    "         'lambda_l1' : 0.2634,\n",
    "         'random_state' : 133,\n",
    "         'verbosity' : -1\n",
    "        }"
   ]
  },
  {
   "cell_type": "markdown",
   "metadata": {},
   "source": [
    "- While training the model, we use a standard KFold split of the dataset in order to validate the results and to stop the training."
   ]
  },
  {
   "cell_type": "code",
   "execution_count": 52,
   "metadata": {},
   "outputs": [
    {
     "name": "stdout",
     "output_type": "stream",
     "text": [
      "fold n°0\n",
      "[LightGBM] [Warning] Unknown parameter: num_leavs\n",
      "Training until validation scores don't improve for 200 rounds\n",
      "[1000]\ttraining's rmse: 27295.1\tvalid_1's rmse: 38312.2\n"
     ]
    },
    {
     "name": "stderr",
     "output_type": "stream",
     "text": [
      "/home/jisijie/anaconda3/envs/bert/lib/python3.7/site-packages/lightgbm/engine.py:181: UserWarning: 'early_stopping_rounds' argument is deprecated and will be removed in a future release of LightGBM. Pass 'early_stopping()' callback via 'callbacks' argument instead.\n",
      "  _log_warning(\"'early_stopping_rounds' argument is deprecated and will be removed in a future release of LightGBM. \"\n",
      "/home/jisijie/anaconda3/envs/bert/lib/python3.7/site-packages/lightgbm/basic.py:2065: UserWarning: Using categorical_feature in Dataset.\n",
      "  _log_warning('Using categorical_feature in Dataset.')\n",
      "/home/jisijie/anaconda3/envs/bert/lib/python3.7/site-packages/lightgbm/engine.py:239: UserWarning: 'verbose_eval' argument is deprecated and will be removed in a future release of LightGBM. Pass 'log_evaluation()' callback via 'callbacks' argument instead.\n",
      "  _log_warning(\"'verbose_eval' argument is deprecated and will be removed in a future release of LightGBM. \"\n",
      "/home/jisijie/anaconda3/envs/bert/lib/python3.7/site-packages/lightgbm/basic.py:1780: UserWarning: Overriding the parameters from Reference Dataset.\n",
      "  _log_warning('Overriding the parameters from Reference Dataset.')\n",
      "/home/jisijie/anaconda3/envs/bert/lib/python3.7/site-packages/lightgbm/basic.py:1513: UserWarning: categorical_column in param dict is overridden.\n",
      "  _log_warning(f'{cat_alias} in param dict is overridden.')\n"
     ]
    },
    {
     "name": "stdout",
     "output_type": "stream",
     "text": [
      "[2000]\ttraining's rmse: 26791.1\tvalid_1's rmse: 38109\n",
      "[3000]\ttraining's rmse: 26486\tvalid_1's rmse: 37987.4\n",
      "[4000]\ttraining's rmse: 26137.8\tvalid_1's rmse: 37743.7\n",
      "[5000]\ttraining's rmse: 25788\tvalid_1's rmse: 37500.6\n",
      "[6000]\ttraining's rmse: 25404\tvalid_1's rmse: 37196.7\n",
      "[7000]\ttraining's rmse: 25069.8\tvalid_1's rmse: 36923.6\n",
      "[8000]\ttraining's rmse: 24820.8\tvalid_1's rmse: 36739.1\n",
      "[9000]\ttraining's rmse: 24627.4\tvalid_1's rmse: 36594.3\n",
      "[10000]\ttraining's rmse: 24476.7\tvalid_1's rmse: 36484.6\n",
      "Did not meet early stopping. Best iteration is:\n",
      "[10000]\ttraining's rmse: 24476.7\tvalid_1's rmse: 36484.6\n",
      "fold n°1\n",
      "[LightGBM] [Warning] Unknown parameter: num_leavs\n",
      "Training until validation scores don't improve for 200 rounds\n",
      "[1000]\ttraining's rmse: 30750.7\tvalid_1's rmse: 23763.9\n",
      "[2000]\ttraining's rmse: 29919.4\tvalid_1's rmse: 23296.8\n",
      "[3000]\ttraining's rmse: 29250.2\tvalid_1's rmse: 22783.4\n",
      "[4000]\ttraining's rmse: 28735.1\tvalid_1's rmse: 22358.8\n",
      "[5000]\ttraining's rmse: 28366.4\tvalid_1's rmse: 22125.7\n",
      "[6000]\ttraining's rmse: 28054\tvalid_1's rmse: 21936\n",
      "Early stopping, best iteration is:\n",
      "[6495]\ttraining's rmse: 27922.5\tvalid_1's rmse: 21843.9\n",
      "fold n°2\n",
      "[LightGBM] [Warning] Unknown parameter: num_leavs\n",
      "Training until validation scores don't improve for 200 rounds\n",
      "[1000]\ttraining's rmse: 30259\tvalid_1's rmse: 25983.8\n",
      "[2000]\ttraining's rmse: 29231.9\tvalid_1's rmse: 25100.7\n",
      "[3000]\ttraining's rmse: 28527\tvalid_1's rmse: 24688.7\n",
      "[4000]\ttraining's rmse: 28048.3\tvalid_1's rmse: 24546.9\n",
      "Early stopping, best iteration is:\n",
      "[4182]\ttraining's rmse: 27975.3\tvalid_1's rmse: 24524.3\n",
      "fold n°3\n",
      "[LightGBM] [Warning] Unknown parameter: num_leavs\n",
      "Training until validation scores don't improve for 200 rounds\n",
      "[1000]\ttraining's rmse: 29911.6\tvalid_1's rmse: 27684\n",
      "[2000]\ttraining's rmse: 28874.4\tvalid_1's rmse: 27239.7\n",
      "[3000]\ttraining's rmse: 28171.4\tvalid_1's rmse: 27046.5\n",
      "[4000]\ttraining's rmse: 27717.3\tvalid_1's rmse: 26916.7\n",
      "[5000]\ttraining's rmse: 27396\tvalid_1's rmse: 26788\n",
      "[6000]\ttraining's rmse: 27145.3\tvalid_1's rmse: 26711\n",
      "[7000]\ttraining's rmse: 26911.4\tvalid_1's rmse: 26606.8\n",
      "[8000]\ttraining's rmse: 26705.3\tvalid_1's rmse: 26505.7\n",
      "Early stopping, best iteration is:\n",
      "[8081]\ttraining's rmse: 26687.4\tvalid_1's rmse: 26490.8\n",
      "fold n°4\n",
      "[LightGBM] [Warning] Unknown parameter: num_leavs\n",
      "Training until validation scores don't improve for 200 rounds\n",
      "[1000]\ttraining's rmse: 28997.4\tvalid_1's rmse: 32327.4\n",
      "[2000]\ttraining's rmse: 28144.1\tvalid_1's rmse: 31513.3\n",
      "[3000]\ttraining's rmse: 27517.7\tvalid_1's rmse: 30849.1\n",
      "[4000]\ttraining's rmse: 27105.5\tvalid_1's rmse: 30448.8\n",
      "[5000]\ttraining's rmse: 26817.6\tvalid_1's rmse: 30204.9\n",
      "[6000]\ttraining's rmse: 26578.5\tvalid_1's rmse: 29971.5\n",
      "[7000]\ttraining's rmse: 26381.8\tvalid_1's rmse: 29787.2\n",
      "[8000]\ttraining's rmse: 26198.2\tvalid_1's rmse: 29623.7\n",
      "[9000]\ttraining's rmse: 26036.6\tvalid_1's rmse: 29436.2\n",
      "[10000]\ttraining's rmse: 25892.4\tvalid_1's rmse: 29273.9\n",
      "Did not meet early stopping. Best iteration is:\n",
      "[10000]\ttraining's rmse: 25892.4\tvalid_1's rmse: 29273.9\n",
      "CV score: 28171.33251\n"
     ]
    }
   ],
   "source": [
    "folds = KFold(n_splits=5, shuffle=True, random_state=15)\n",
    "oof = np.zeros(len(train))\n",
    "predictions = np.zeros(len(test))\n",
    "start = time.time()\n",
    "feature_importance_df = pd.DataFrame()\n",
    "\n",
    "for fold_, (trn_idx, val_idx) in enumerate(folds.split(train.values, target.values)):\n",
    "    print(\"fold n°{}\".format(fold_))\n",
    "    trn_data = lgb.Dataset(train.iloc[trn_idx][features],\n",
    "                           label=target.iloc[trn_idx],\n",
    "                           categorical_feature=categorical_feats\n",
    "                          )\n",
    "    val_data = lgb.Dataset(train.iloc[val_idx][features],\n",
    "                           label=target.iloc[val_idx],\n",
    "                           categorical_feature=categorical_feats\n",
    "                          )\n",
    "\n",
    "    num_round = 10000\n",
    "    clf = lgb.train(param,\n",
    "                    trn_data,\n",
    "                    num_round,\n",
    "                    valid_sets = [trn_data, val_data],\n",
    "                    verbose_eval=1000,\n",
    "                    early_stopping_rounds = 200)\n",
    "    \n",
    "    oof[val_idx] = clf.predict(train.iloc[val_idx][features], num_iteration=clf.best_iteration)\n",
    "    \n",
    "    fold_importance_df = pd.DataFrame()\n",
    "    fold_importance_df[\"feature\"] = features\n",
    "    fold_importance_df[\"importance\"] = clf.feature_importance()\n",
    "    fold_importance_df[\"fold\"] = fold_ + 1\n",
    "    feature_importance_df = pd.concat([feature_importance_df, fold_importance_df], axis=0)\n",
    "    \n",
    "    predictions += clf.predict(test[features], num_iteration=clf.best_iteration) / folds.n_splits\n",
    "\n",
    "print(\"CV score: {:<8.5f}\".format(mean_squared_error(oof, target)**0.5))"
   ]
  },
  {
   "cell_type": "code",
   "execution_count": 53,
   "metadata": {},
   "outputs": [
    {
     "name": "stdout",
     "output_type": "stream",
     "text": [
      "Root Mean Squared Error (RMSE) \t: 25052.966200269588\n",
      "Mean Absolute Error (MAE) \t: 15674.621955981362\n"
     ]
    }
   ],
   "source": [
    "print(\"Root Mean Squared Error (RMSE) \\t: {}\".format(mean_squared_error(predictions, test['Salary'])**0.5))\n",
    "print(\"Mean Absolute Error (MAE) \\t: {}\".format(mean_absolute_error(predictions, test['Salary'])))"
   ]
  },
  {
   "cell_type": "markdown",
   "metadata": {},
   "source": [
    "- Using LGBM model, we obtain a higher accuracy in predicting the salary. Accurate prediction data will help insight analysis."
   ]
  },
  {
   "cell_type": "markdown",
   "metadata": {},
   "source": [
    " "
   ]
  },
  {
   "cell_type": "markdown",
   "metadata": {},
   "source": [
    "---\n",
    "\n",
    "## 7. Insights Analysis"
   ]
  },
  {
   "cell_type": "markdown",
   "metadata": {},
   "source": [
    " "
   ]
  },
  {
   "cell_type": "markdown",
   "metadata": {},
   "source": [
    "### 1. Analyze the `importance` of features that can be of help in increasing the salary."
   ]
  },
  {
   "cell_type": "markdown",
   "metadata": {},
   "source": [
    "- Firstly we list the **Top-8** important features in influencing/predicting the salary."
   ]
  },
  {
   "cell_type": "code",
   "execution_count": 54,
   "metadata": {},
   "outputs": [
    {
     "data": {
      "image/png": "[encoded data removed]",
      "text/plain": [
       "<Figure size 1008x576 with 1 Axes>"
      ]
     },
     "metadata": {},
     "output_type": "display_data"
    }
   ],
   "source": [
    "cols = (feature_importance_df[[\"feature\", \"importance\"]]\n",
    "        .groupby(\"feature\")\n",
    "        .mean()\n",
    "        .sort_values(by=\"importance\", ascending=False)[3:11].index)\n",
    "\n",
    "best_features = feature_importance_df.loc[feature_importance_df.feature.isin(cols)]\n",
    "\n",
    "plt.figure(figsize=(14, 8))\n",
    "sns.barplot(x=\"importance\",\n",
    "            y=\"feature\",\n",
    "            data=best_features.sort_values(by=\"importance\",\n",
    "                                           ascending=False))\n",
    "plt.title('LightGBM Features (avg over folds)')\n",
    "plt.tight_layout()\n",
    "plt.savefig('lgbm_importances.png')"
   ]
  },
  {
   "cell_type": "markdown",
   "metadata": {},
   "source": [
    "- From the above diagram, we can find the degrees are the most significant factors affecting the salary.\n",
    "- Other factors, such as the different programing language, and the ability of machine learning, are also important for a job in data science."
   ]
  },
  {
   "cell_type": "markdown",
   "metadata": {},
   "source": [
    "- Then we try to find **Top-8** features with which the staff has a higher average salary."
   ]
  },
  {
   "cell_type": "code",
   "execution_count": 55,
   "metadata": {},
   "outputs": [],
   "source": [
    "count = df.shape\n",
    "df_avg = pd.DataFrame(features[2:], columns = ['feature'])\n",
    "avg = []\n",
    "for f in features[2:] :\n",
    "    avg.append(float(sum(df['Salary'][df[f] == 1])/df[df[f] == 1].shape[0]))\n",
    "df_avg['avg_salary'] = avg\n",
    "df_avg.sort_values(by=['avg_salary'], inplace = True, ascending=False)"
   ]
  },
  {
   "cell_type": "code",
   "execution_count": 56,
   "metadata": {},
   "outputs": [
    {
     "data": {
      "image/png": "[encoded data removed]",
      "text/plain": [
       "<Figure size 1080x360 with 1 Axes>"
      ]
     },
     "metadata": {},
     "output_type": "display_data"
    }
   ],
   "source": [
    "plt.figure(figsize=(15, 5))\n",
    "sns.set(font_scale = 1)\n",
    "sns.barplot(x = 'feature', y = 'avg_salary', data = df_avg[0:8])\n",
    "plt.show()"
   ]
  },
  {
   "cell_type": "markdown",
   "metadata": {},
   "source": [
    " "
   ]
  },
  {
   "cell_type": "markdown",
   "metadata": {},
   "source": [
    "### 2. Find the `anomalies` of salary among the staffs."
   ]
  },
  {
   "cell_type": "markdown",
   "metadata": {},
   "source": [
    "- Firstly, we calculate the Predict/Real ratios for the salary. Then plot the histogram of the ratios."
   ]
  },
  {
   "cell_type": "code",
   "execution_count": 57,
   "metadata": {},
   "outputs": [],
   "source": [
    "df_a = pd.DataFrame({\"Job_ID\" : test[\"Job_ID\"].values})\n",
    "df_a[\"real\"] = test['Salary']\n",
    "df_a[\"predict\"] = predictions\n",
    "df_a['ratio'] = df_a['predict'] / df_a['real']"
   ]
  },
  {
   "cell_type": "code",
   "execution_count": 58,
   "metadata": {},
   "outputs": [
    {
     "data": {
      "text/plain": [
       "<AxesSubplot:xlabel='ratio', ylabel='Count'>"
      ]
     },
     "execution_count": 58,
     "metadata": {},
     "output_type": "execute_result"
    },
    {
     "data": {
      "image/png": "[encoded data removed]",
      "text/plain": [
       "<Figure size 432x288 with 1 Axes>"
      ]
     },
     "metadata": {},
     "output_type": "display_data"
    }
   ],
   "source": [
    "sns.histplot(df_a['ratio'], binwidth = 0.05)"
   ]
  },
  {
   "cell_type": "markdown",
   "metadata": {},
   "source": [
    "- The histogram of ratios is similar to the normal distribution.\n",
    "- We set a 90% `confidential interval` for the ratios. And the ratio out of the interval will be identified as `anomaly`."
   ]
  },
  {
   "cell_type": "code",
   "execution_count": 59,
   "metadata": {},
   "outputs": [
    {
     "name": "stdout",
     "output_type": "stream",
     "text": [
      "5% percentile of ratios : 0.8292261102096298\n",
      "95% percentile of ratios : 1.2349846943032237\n",
      "The 90% confidential interval is [0.8292261102096298, 1.2349846943032237]\n"
     ]
    }
   ],
   "source": [
    "LL = df_a['ratio'].quantile(0.05)\n",
    "UL = df_a['ratio'].quantile(0.95)\n",
    "print(\"5% percentile of ratios : {}\".format(LL))\n",
    "print(\"95% percentile of ratios : {}\".format(UL))\n",
    "print(\"The 90% confidential interval is [{}, {}]\".format(LL, UL))"
   ]
  },
  {
   "cell_type": "markdown",
   "metadata": {},
   "source": [
    "- For the ratio under the lower limit, the company may pay more salary than they are actually capable of earning.\n",
    "- For the ratio above the upper limit, the company may pay less than they are actually capable of earning."
   ]
  },
  {
   "cell_type": "markdown",
   "metadata": {},
   "source": [
    "- Here we list all the anomalies."
   ]
  },
  {
   "cell_type": "code",
   "execution_count": 60,
   "metadata": {},
   "outputs": [
    {
     "data": {
      "text/html": [
       "<div>\n",
       "<style scoped>\n",
       "    .dataframe tbody tr th:only-of-type {\n",
       "        vertical-align: middle;\n",
       "    }\n",
       "\n",
       "    .dataframe tbody tr th {\n",
       "        vertical-align: top;\n",
       "    }\n",
       "\n",
       "    .dataframe thead th {\n",
       "        text-align: right;\n",
       "    }\n",
       "</style>\n",
       "<table border=\"1\" class=\"dataframe\">\n",
       "  <thead>\n",
       "    <tr style=\"text-align: right;\">\n",
       "      <th></th>\n",
       "      <th>Job_ID</th>\n",
       "      <th>real</th>\n",
       "      <th>predict</th>\n",
       "      <th>ratio</th>\n",
       "    </tr>\n",
       "  </thead>\n",
       "  <tbody>\n",
       "    <tr>\n",
       "      <th>8</th>\n",
       "      <td>1034</td>\n",
       "      <td>180000</td>\n",
       "      <td>134051.133201</td>\n",
       "      <td>0.744729</td>\n",
       "    </tr>\n",
       "    <tr>\n",
       "      <th>55</th>\n",
       "      <td>1086</td>\n",
       "      <td>85000</td>\n",
       "      <td>141457.660596</td>\n",
       "      <td>1.664208</td>\n",
       "    </tr>\n",
       "    <tr>\n",
       "      <th>71</th>\n",
       "      <td>1103</td>\n",
       "      <td>170000</td>\n",
       "      <td>140067.678405</td>\n",
       "      <td>0.823928</td>\n",
       "    </tr>\n",
       "    <tr>\n",
       "      <th>77</th>\n",
       "      <td>1109</td>\n",
       "      <td>203221</td>\n",
       "      <td>167140.997403</td>\n",
       "      <td>0.822459</td>\n",
       "    </tr>\n",
       "    <tr>\n",
       "      <th>80</th>\n",
       "      <td>1112</td>\n",
       "      <td>220000</td>\n",
       "      <td>177392.829869</td>\n",
       "      <td>0.806331</td>\n",
       "    </tr>\n",
       "    <tr>\n",
       "      <th>103</th>\n",
       "      <td>1137</td>\n",
       "      <td>110000</td>\n",
       "      <td>144020.913949</td>\n",
       "      <td>1.309281</td>\n",
       "    </tr>\n",
       "    <tr>\n",
       "      <th>104</th>\n",
       "      <td>1138</td>\n",
       "      <td>83000</td>\n",
       "      <td>132295.878851</td>\n",
       "      <td>1.593926</td>\n",
       "    </tr>\n",
       "    <tr>\n",
       "      <th>112</th>\n",
       "      <td>1146</td>\n",
       "      <td>210000</td>\n",
       "      <td>172665.549936</td>\n",
       "      <td>0.822217</td>\n",
       "    </tr>\n",
       "    <tr>\n",
       "      <th>116</th>\n",
       "      <td>1151</td>\n",
       "      <td>190000</td>\n",
       "      <td>137008.183554</td>\n",
       "      <td>0.721096</td>\n",
       "    </tr>\n",
       "    <tr>\n",
       "      <th>125</th>\n",
       "      <td>1160</td>\n",
       "      <td>130000</td>\n",
       "      <td>175071.178384</td>\n",
       "      <td>1.346701</td>\n",
       "    </tr>\n",
       "    <tr>\n",
       "      <th>134</th>\n",
       "      <td>1171</td>\n",
       "      <td>434000</td>\n",
       "      <td>190416.449139</td>\n",
       "      <td>0.438748</td>\n",
       "    </tr>\n",
       "    <tr>\n",
       "      <th>139</th>\n",
       "      <td>1176</td>\n",
       "      <td>120000</td>\n",
       "      <td>151121.267235</td>\n",
       "      <td>1.259344</td>\n",
       "    </tr>\n",
       "    <tr>\n",
       "      <th>140</th>\n",
       "      <td>1177</td>\n",
       "      <td>180000</td>\n",
       "      <td>127198.564985</td>\n",
       "      <td>0.706659</td>\n",
       "    </tr>\n",
       "    <tr>\n",
       "      <th>144</th>\n",
       "      <td>1181</td>\n",
       "      <td>210000</td>\n",
       "      <td>140007.698225</td>\n",
       "      <td>0.666703</td>\n",
       "    </tr>\n",
       "    <tr>\n",
       "      <th>165</th>\n",
       "      <td>1202</td>\n",
       "      <td>180000</td>\n",
       "      <td>146620.490814</td>\n",
       "      <td>0.814558</td>\n",
       "    </tr>\n",
       "    <tr>\n",
       "      <th>166</th>\n",
       "      <td>1203</td>\n",
       "      <td>87360</td>\n",
       "      <td>118887.400122</td>\n",
       "      <td>1.360891</td>\n",
       "    </tr>\n",
       "    <tr>\n",
       "      <th>169</th>\n",
       "      <td>1206</td>\n",
       "      <td>150000</td>\n",
       "      <td>118601.921129</td>\n",
       "      <td>0.790679</td>\n",
       "    </tr>\n",
       "    <tr>\n",
       "      <th>179</th>\n",
       "      <td>1216</td>\n",
       "      <td>59000</td>\n",
       "      <td>106584.594169</td>\n",
       "      <td>1.806519</td>\n",
       "    </tr>\n",
       "    <tr>\n",
       "      <th>193</th>\n",
       "      <td>1232</td>\n",
       "      <td>190000</td>\n",
       "      <td>121679.308679</td>\n",
       "      <td>0.640417</td>\n",
       "    </tr>\n",
       "    <tr>\n",
       "      <th>219</th>\n",
       "      <td>1265</td>\n",
       "      <td>130000</td>\n",
       "      <td>174619.360841</td>\n",
       "      <td>1.343226</td>\n",
       "    </tr>\n",
       "    <tr>\n",
       "      <th>227</th>\n",
       "      <td>1273</td>\n",
       "      <td>120000</td>\n",
       "      <td>152537.288289</td>\n",
       "      <td>1.271144</td>\n",
       "    </tr>\n",
       "    <tr>\n",
       "      <th>234</th>\n",
       "      <td>1280</td>\n",
       "      <td>86000</td>\n",
       "      <td>160571.638193</td>\n",
       "      <td>1.867112</td>\n",
       "    </tr>\n",
       "    <tr>\n",
       "      <th>236</th>\n",
       "      <td>1282</td>\n",
       "      <td>82000</td>\n",
       "      <td>119077.225431</td>\n",
       "      <td>1.452161</td>\n",
       "    </tr>\n",
       "  </tbody>\n",
       "</table>\n",
       "</div>"
      ],
      "text/plain": [
       "     Job_ID    real        predict     ratio\n",
       "8      1034  180000  134051.133201  0.744729\n",
       "55     1086   85000  141457.660596  1.664208\n",
       "71     1103  170000  140067.678405  0.823928\n",
       "77     1109  203221  167140.997403  0.822459\n",
       "80     1112  220000  177392.829869  0.806331\n",
       "103    1137  110000  144020.913949  1.309281\n",
       "104    1138   83000  132295.878851  1.593926\n",
       "112    1146  210000  172665.549936  0.822217\n",
       "116    1151  190000  137008.183554  0.721096\n",
       "125    1160  130000  175071.178384  1.346701\n",
       "134    1171  434000  190416.449139  0.438748\n",
       "139    1176  120000  151121.267235  1.259344\n",
       "140    1177  180000  127198.564985  0.706659\n",
       "144    1181  210000  140007.698225  0.666703\n",
       "165    1202  180000  146620.490814  0.814558\n",
       "166    1203   87360  118887.400122  1.360891\n",
       "169    1206  150000  118601.921129  0.790679\n",
       "179    1216   59000  106584.594169  1.806519\n",
       "193    1232  190000  121679.308679  0.640417\n",
       "219    1265  130000  174619.360841  1.343226\n",
       "227    1273  120000  152537.288289  1.271144\n",
       "234    1280   86000  160571.638193  1.867112\n",
       "236    1282   82000  119077.225431  1.452161"
      ]
     },
     "execution_count": 60,
     "metadata": {},
     "output_type": "execute_result"
    }
   ],
   "source": [
    "df_a = df_a[(df_a['ratio'] < LL) | (df_a['ratio'] > UL)]\n",
    "df_a"
   ]
  },
  {
   "cell_type": "markdown",
   "metadata": {},
   "source": [
    "---\n",
    "\n",
    "## 8. Conclusions"
   ]
  },
  {
   "cell_type": "markdown",
   "metadata": {},
   "source": [
    "### 1. Answer to our question\n",
    "\n",
    "#### Predict the salary\n",
    "- For the best performance model: RMSE is around 25,000, MAE is around 15,000.\n",
    "- The MAE value indicates the mean absolute error of our best model is around 15,000, which is acceptable since most salaries is between 10,000 and 20,000.\n",
    "- The higher RMSE means our model may not be quite accurate when predicting a extreme case (too high or low salary).\n",
    "\n",
    "#### Further insights\n",
    "- From the weights in the model, we can find the most important factors that may affect the salary. For the job seekers in data science field, these factors can have priorities to pursue.\n",
    "- The model can be useful for company/individual to check whether the salary is apporperiate. Thus make further changes.\n",
    "\n",
    "#### More applications\n",
    "- This method can be used for quantifying an employee's capability in any field with proper datasets, making the job market more accurate and scientific.\n"
   ]
  },
  {
   "cell_type": "markdown",
   "metadata": {},
   "source": [
    "### 2. New things we learned\n",
    "\n",
    "#### 1. Model choosing \n",
    "- The dataset requires us to predict numeric response variable using categorical predictors. Therefore, models learnt during the course cannot be applied.\n",
    "- Hence, we learned new models to solve the dillema encountered. Meanwhile, we constantly try to find a better model and tune the parameters to improve the accuracy.\n",
    "\n",
    "#### 2. Dataset preparation\n",
    "- Some columns in the dataset are too biased(e.g. *Job_Title*, *Level*). There are also columns with too many zeros.\n",
    "- After cleaning and preparing the dataset, the trained models are still not accurate enough.\n",
    "- Therefore, for a more accurate prediction, a more balanced dataset is required."
   ]
  }
 ],
 "metadata": {
  "kernelspec": {
   "display_name": "jupyter_tf",
   "language": "python",
   "name": "jupyter_tf"
  },
  "language_info": {
   "codemirror_mode": {
    "name": "ipython",
    "version": 3
   },
   "file_extension": ".py",
   "mimetype": "text/x-python",
   "name": "python",
   "nbconvert_exporter": "python",
   "pygments_lexer": "ipython3",
   "version": "3.7.11"
  }
 },
 "nbformat": 4,
 "nbformat_minor": 5
}
