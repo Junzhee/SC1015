{
 "cells": [
  {
   "cell_type": "markdown",
   "id": "e81aa612",
   "metadata": {},
   "source": [
    "# Data Science Job Postings and Salaries Analysis\n",
    "\n",
    "The two datasets used in the mini-project are\n",
    "- title_location_company_salary.xls\n",
    "- Job_skills_qualifications.xls"
   ]
  },
  {
   "cell_type": "markdown",
   "id": "15c1a8f8",
   "metadata": {},
   "source": [
    "---\n",
    "\n",
    "## 1.  Problem Definition\n",
    "\n",
    "Predict the **`salary`** of staffs using features in the two datasets.\n",
    "- if the prediction is accurate enough, we try to find the anomalies."
   ]
  },
  {
   "cell_type": "markdown",
   "id": "5e1470a7",
   "metadata": {},
   "source": [
    "---"
   ]
  },
  {
   "cell_type": "markdown",
   "id": "52b8b745",
   "metadata": {},
   "source": [
    "## 2. Dataset Preview"
   ]
  },
  {
   "cell_type": "markdown",
   "id": "045b0897",
   "metadata": {},
   "source": [
    " "
   ]
  },
  {
   "cell_type": "code",
   "execution_count": 1,
   "id": "cf9cdaa5",
   "metadata": {},
   "outputs": [],
   "source": [
    "import pandas as pd\n",
    "import numpy as np\n",
    "import matplotlib.pyplot as plt\n",
    "import seaborn as sns"
   ]
  },
  {
   "cell_type": "code",
   "execution_count": 2,
   "id": "d2d5fa1c",
   "metadata": {},
   "outputs": [],
   "source": [
    "df_salary = pd.read_excel(\"title_location_company_salary.xls\", converters = {'Salary' : int})\n",
    "df_skills = pd.read_excel(\"Job_skills_qualifications.xls\")"
   ]
  },
  {
   "cell_type": "code",
   "execution_count": 3,
   "id": "2bbaf1dc",
   "metadata": {},
   "outputs": [
    {
     "name": "stdout",
     "output_type": "stream",
     "text": [
      "<class 'pandas.core.frame.DataFrame'>\n",
      "RangeIndex: 1287 entries, 0 to 1286\n",
      "Data columns (total 7 columns):\n",
      " #   Column   Non-Null Count  Dtype \n",
      "---  ------   --------------  ----- \n",
      " 0   Job_ID   1287 non-null   int64 \n",
      " 1   Title    1287 non-null   object\n",
      " 2   Company  1285 non-null   object\n",
      " 3   City     1116 non-null   object\n",
      " 4   State    1287 non-null   object\n",
      " 5   Salary   1209 non-null   object\n",
      " 6   Levels   1287 non-null   object\n",
      "dtypes: int64(1), object(6)\n",
      "memory usage: 70.5+ KB\n"
     ]
    }
   ],
   "source": [
    "df_salary.info()"
   ]
  },
  {
   "cell_type": "code",
   "execution_count": 4,
   "id": "7c4f6ca3",
   "metadata": {},
   "outputs": [
    {
     "data": {
      "text/html": [
       "<div>\n",
       "<style scoped>\n",
       "    .dataframe tbody tr th:only-of-type {\n",
       "        vertical-align: middle;\n",
       "    }\n",
       "\n",
       "    .dataframe tbody tr th {\n",
       "        vertical-align: top;\n",
       "    }\n",
       "\n",
       "    .dataframe thead th {\n",
       "        text-align: right;\n",
       "    }\n",
       "</style>\n",
       "<table border=\"1\" class=\"dataframe\">\n",
       "  <thead>\n",
       "    <tr style=\"text-align: right;\">\n",
       "      <th></th>\n",
       "      <th>Job_ID</th>\n",
       "      <th>Title</th>\n",
       "      <th>Company</th>\n",
       "      <th>City</th>\n",
       "      <th>State</th>\n",
       "      <th>Salary</th>\n",
       "      <th>Levels</th>\n",
       "    </tr>\n",
       "  </thead>\n",
       "  <tbody>\n",
       "    <tr>\n",
       "      <th>0</th>\n",
       "      <td>0</td>\n",
       "      <td>Data Scientist</td>\n",
       "      <td>Numerdox</td>\n",
       "      <td>Sacramento</td>\n",
       "      <td>California</td>\n",
       "      <td>110000</td>\n",
       "      <td>Jr.</td>\n",
       "    </tr>\n",
       "    <tr>\n",
       "      <th>1</th>\n",
       "      <td>1</td>\n",
       "      <td>Data Analyst</td>\n",
       "      <td>Cepheid</td>\n",
       "      <td>Lodi</td>\n",
       "      <td>California</td>\n",
       "      <td>120000</td>\n",
       "      <td>Unknown</td>\n",
       "    </tr>\n",
       "    <tr>\n",
       "      <th>2</th>\n",
       "      <td>2</td>\n",
       "      <td>Data Scientist</td>\n",
       "      <td>Cepheid</td>\n",
       "      <td>Sunnyvale</td>\n",
       "      <td>California</td>\n",
       "      <td>150000</td>\n",
       "      <td>Staff</td>\n",
       "    </tr>\n",
       "    <tr>\n",
       "      <th>3</th>\n",
       "      <td>3</td>\n",
       "      <td>Data Scientist</td>\n",
       "      <td>Verana Health</td>\n",
       "      <td>San Francisco</td>\n",
       "      <td>California</td>\n",
       "      <td>150000</td>\n",
       "      <td>Unknown</td>\n",
       "    </tr>\n",
       "    <tr>\n",
       "      <th>4</th>\n",
       "      <td>4</td>\n",
       "      <td>Data Scientist</td>\n",
       "      <td>Tinder</td>\n",
       "      <td>San Francisco</td>\n",
       "      <td>California</td>\n",
       "      <td>130000</td>\n",
       "      <td>Jr.</td>\n",
       "    </tr>\n",
       "    <tr>\n",
       "      <th>5</th>\n",
       "      <td>5</td>\n",
       "      <td>Data Scientist</td>\n",
       "      <td>JPL/NASA</td>\n",
       "      <td>Pasadena</td>\n",
       "      <td>California</td>\n",
       "      <td>100000</td>\n",
       "      <td>Jr.</td>\n",
       "    </tr>\n",
       "    <tr>\n",
       "      <th>6</th>\n",
       "      <td>6</td>\n",
       "      <td>Data Scientist</td>\n",
       "      <td>IBM</td>\n",
       "      <td>San Jose</td>\n",
       "      <td>California</td>\n",
       "      <td>120000</td>\n",
       "      <td>Unknown</td>\n",
       "    </tr>\n",
       "    <tr>\n",
       "      <th>7</th>\n",
       "      <td>7</td>\n",
       "      <td>Data Scientist</td>\n",
       "      <td>Indeed</td>\n",
       "      <td>San Francisco</td>\n",
       "      <td>California</td>\n",
       "      <td>223000</td>\n",
       "      <td>Sr.</td>\n",
       "    </tr>\n",
       "    <tr>\n",
       "      <th>8</th>\n",
       "      <td>8</td>\n",
       "      <td>Data Scientist</td>\n",
       "      <td>Ezoic</td>\n",
       "      <td>Carlsbad</td>\n",
       "      <td>California</td>\n",
       "      <td>100000</td>\n",
       "      <td>Unknown</td>\n",
       "    </tr>\n",
       "    <tr>\n",
       "      <th>9</th>\n",
       "      <td>9</td>\n",
       "      <td>Data Scientist</td>\n",
       "      <td>City of Hope</td>\n",
       "      <td>NaN</td>\n",
       "      <td>California</td>\n",
       "      <td>NaN</td>\n",
       "      <td>Unknown</td>\n",
       "    </tr>\n",
       "  </tbody>\n",
       "</table>\n",
       "</div>"
      ],
      "text/plain": [
       "   Job_ID           Title        Company           City       State  Salary  \\\n",
       "0       0  Data Scientist       Numerdox     Sacramento  California  110000   \n",
       "1       1    Data Analyst        Cepheid           Lodi  California  120000   \n",
       "2       2  Data Scientist        Cepheid      Sunnyvale  California  150000   \n",
       "3       3  Data Scientist  Verana Health  San Francisco  California  150000   \n",
       "4       4  Data Scientist         Tinder  San Francisco  California  130000   \n",
       "5       5  Data Scientist       JPL/NASA       Pasadena  California  100000   \n",
       "6       6  Data Scientist            IBM       San Jose  California  120000   \n",
       "7       7  Data Scientist         Indeed  San Francisco  California  223000   \n",
       "8       8  Data Scientist          Ezoic       Carlsbad  California  100000   \n",
       "9       9  Data Scientist   City of Hope            NaN  California     NaN   \n",
       "\n",
       "    Levels  \n",
       "0      Jr.  \n",
       "1  Unknown  \n",
       "2    Staff  \n",
       "3  Unknown  \n",
       "4      Jr.  \n",
       "5      Jr.  \n",
       "6  Unknown  \n",
       "7      Sr.  \n",
       "8  Unknown  \n",
       "9  Unknown  "
      ]
     },
     "execution_count": 4,
     "metadata": {},
     "output_type": "execute_result"
    }
   ],
   "source": [
    "df_salary.head(10)"
   ]
  },
  {
   "cell_type": "markdown",
   "id": "2ed59b2d",
   "metadata": {},
   "source": [
    "- The **`df_salary`** table shows the index, job title, company, city, state, salary and level for each staff."
   ]
  },
  {
   "cell_type": "code",
   "execution_count": 5,
   "id": "c43e42c7",
   "metadata": {},
   "outputs": [
    {
     "name": "stdout",
     "output_type": "stream",
     "text": [
      "<class 'pandas.core.frame.DataFrame'>\n",
      "RangeIndex: 1287 entries, 0 to 1286\n",
      "Columns: 256 entries, Job_ID to Calibration\n",
      "dtypes: float64(255), int64(1)\n",
      "memory usage: 2.5 MB\n"
     ]
    }
   ],
   "source": [
    "df_skills.info()"
   ]
  },
  {
   "cell_type": "code",
   "execution_count": 6,
   "id": "faac16cf",
   "metadata": {},
   "outputs": [
    {
     "data": {
      "text/html": [
       "<div>\n",
       "<style scoped>\n",
       "    .dataframe tbody tr th:only-of-type {\n",
       "        vertical-align: middle;\n",
       "    }\n",
       "\n",
       "    .dataframe tbody tr th {\n",
       "        vertical-align: top;\n",
       "    }\n",
       "\n",
       "    .dataframe thead th {\n",
       "        text-align: right;\n",
       "    }\n",
       "</style>\n",
       "<table border=\"1\" class=\"dataframe\">\n",
       "  <thead>\n",
       "    <tr style=\"text-align: right;\">\n",
       "      <th></th>\n",
       "      <th>Job_ID</th>\n",
       "      <th>Analysis skills</th>\n",
       "      <th>Communication skills</th>\n",
       "      <th>Research</th>\n",
       "      <th>R</th>\n",
       "      <th>Machine learning</th>\n",
       "      <th>Bachelor's degree</th>\n",
       "      <th>Master's degree</th>\n",
       "      <th>Doctoral degree</th>\n",
       "      <th>Doctor of Philosophy</th>\n",
       "      <th>...</th>\n",
       "      <th>Scrum</th>\n",
       "      <th>VBA</th>\n",
       "      <th>Ceridian</th>\n",
       "      <th>MTA</th>\n",
       "      <th>New Relic</th>\n",
       "      <th>Sailpoint</th>\n",
       "      <th>DevOps</th>\n",
       "      <th>Backbone.js</th>\n",
       "      <th>Computer networking</th>\n",
       "      <th>Calibration</th>\n",
       "    </tr>\n",
       "  </thead>\n",
       "  <tbody>\n",
       "    <tr>\n",
       "      <th>0</th>\n",
       "      <td>0</td>\n",
       "      <td>1.0</td>\n",
       "      <td>1.0</td>\n",
       "      <td>1.0</td>\n",
       "      <td>1.0</td>\n",
       "      <td>1.0</td>\n",
       "      <td>1.0</td>\n",
       "      <td>1.0</td>\n",
       "      <td>1.0</td>\n",
       "      <td>1.0</td>\n",
       "      <td>...</td>\n",
       "      <td>0.0</td>\n",
       "      <td>0.0</td>\n",
       "      <td>0.0</td>\n",
       "      <td>0.0</td>\n",
       "      <td>0.0</td>\n",
       "      <td>0.0</td>\n",
       "      <td>0.0</td>\n",
       "      <td>0.0</td>\n",
       "      <td>0.0</td>\n",
       "      <td>0.0</td>\n",
       "    </tr>\n",
       "    <tr>\n",
       "      <th>1</th>\n",
       "      <td>1</td>\n",
       "      <td>0.0</td>\n",
       "      <td>0.0</td>\n",
       "      <td>0.0</td>\n",
       "      <td>1.0</td>\n",
       "      <td>0.0</td>\n",
       "      <td>1.0</td>\n",
       "      <td>1.0</td>\n",
       "      <td>0.0</td>\n",
       "      <td>0.0</td>\n",
       "      <td>...</td>\n",
       "      <td>0.0</td>\n",
       "      <td>0.0</td>\n",
       "      <td>0.0</td>\n",
       "      <td>0.0</td>\n",
       "      <td>0.0</td>\n",
       "      <td>0.0</td>\n",
       "      <td>0.0</td>\n",
       "      <td>0.0</td>\n",
       "      <td>0.0</td>\n",
       "      <td>0.0</td>\n",
       "    </tr>\n",
       "    <tr>\n",
       "      <th>2</th>\n",
       "      <td>2</td>\n",
       "      <td>0.0</td>\n",
       "      <td>0.0</td>\n",
       "      <td>0.0</td>\n",
       "      <td>0.0</td>\n",
       "      <td>1.0</td>\n",
       "      <td>1.0</td>\n",
       "      <td>1.0</td>\n",
       "      <td>1.0</td>\n",
       "      <td>0.0</td>\n",
       "      <td>...</td>\n",
       "      <td>0.0</td>\n",
       "      <td>0.0</td>\n",
       "      <td>0.0</td>\n",
       "      <td>0.0</td>\n",
       "      <td>0.0</td>\n",
       "      <td>0.0</td>\n",
       "      <td>0.0</td>\n",
       "      <td>0.0</td>\n",
       "      <td>0.0</td>\n",
       "      <td>0.0</td>\n",
       "    </tr>\n",
       "    <tr>\n",
       "      <th>3</th>\n",
       "      <td>3</td>\n",
       "      <td>0.0</td>\n",
       "      <td>1.0</td>\n",
       "      <td>0.0</td>\n",
       "      <td>1.0</td>\n",
       "      <td>0.0</td>\n",
       "      <td>0.0</td>\n",
       "      <td>1.0</td>\n",
       "      <td>0.0</td>\n",
       "      <td>0.0</td>\n",
       "      <td>...</td>\n",
       "      <td>0.0</td>\n",
       "      <td>0.0</td>\n",
       "      <td>0.0</td>\n",
       "      <td>0.0</td>\n",
       "      <td>0.0</td>\n",
       "      <td>0.0</td>\n",
       "      <td>0.0</td>\n",
       "      <td>0.0</td>\n",
       "      <td>0.0</td>\n",
       "      <td>0.0</td>\n",
       "    </tr>\n",
       "    <tr>\n",
       "      <th>4</th>\n",
       "      <td>4</td>\n",
       "      <td>0.0</td>\n",
       "      <td>0.0</td>\n",
       "      <td>0.0</td>\n",
       "      <td>0.0</td>\n",
       "      <td>0.0</td>\n",
       "      <td>0.0</td>\n",
       "      <td>0.0</td>\n",
       "      <td>1.0</td>\n",
       "      <td>1.0</td>\n",
       "      <td>...</td>\n",
       "      <td>0.0</td>\n",
       "      <td>0.0</td>\n",
       "      <td>0.0</td>\n",
       "      <td>0.0</td>\n",
       "      <td>0.0</td>\n",
       "      <td>0.0</td>\n",
       "      <td>0.0</td>\n",
       "      <td>0.0</td>\n",
       "      <td>0.0</td>\n",
       "      <td>0.0</td>\n",
       "    </tr>\n",
       "  </tbody>\n",
       "</table>\n",
       "<p>5 rows × 256 columns</p>\n",
       "</div>"
      ],
      "text/plain": [
       "   Job_ID  Analysis skills  Communication skills  Research    R  \\\n",
       "0       0              1.0                   1.0       1.0  1.0   \n",
       "1       1              0.0                   0.0       0.0  1.0   \n",
       "2       2              0.0                   0.0       0.0  0.0   \n",
       "3       3              0.0                   1.0       0.0  1.0   \n",
       "4       4              0.0                   0.0       0.0  0.0   \n",
       "\n",
       "   Machine learning  Bachelor's degree  Master's degree  Doctoral degree  \\\n",
       "0               1.0                1.0              1.0              1.0   \n",
       "1               0.0                1.0              1.0              0.0   \n",
       "2               1.0                1.0              1.0              1.0   \n",
       "3               0.0                0.0              1.0              0.0   \n",
       "4               0.0                0.0              0.0              1.0   \n",
       "\n",
       "   Doctor of Philosophy  ...  Scrum  VBA  Ceridian  MTA  New Relic  Sailpoint  \\\n",
       "0                   1.0  ...    0.0  0.0       0.0  0.0        0.0        0.0   \n",
       "1                   0.0  ...    0.0  0.0       0.0  0.0        0.0        0.0   \n",
       "2                   0.0  ...    0.0  0.0       0.0  0.0        0.0        0.0   \n",
       "3                   0.0  ...    0.0  0.0       0.0  0.0        0.0        0.0   \n",
       "4                   1.0  ...    0.0  0.0       0.0  0.0        0.0        0.0   \n",
       "\n",
       "   DevOps  Backbone.js  Computer networking  Calibration  \n",
       "0     0.0          0.0                  0.0          0.0  \n",
       "1     0.0          0.0                  0.0          0.0  \n",
       "2     0.0          0.0                  0.0          0.0  \n",
       "3     0.0          0.0                  0.0          0.0  \n",
       "4     0.0          0.0                  0.0          0.0  \n",
       "\n",
       "[5 rows x 256 columns]"
      ]
     },
     "execution_count": 6,
     "metadata": {},
     "output_type": "execute_result"
    }
   ],
   "source": [
    "df_skills.head(5)"
   ]
  },
  {
   "cell_type": "markdown",
   "id": "44608e97",
   "metadata": {},
   "source": [
    "- The **`df_skills`** table shows the skills status for each staff. `1` means `have` and `0` means `dont have`."
   ]
  },
  {
   "cell_type": "markdown",
   "id": "b4a9c58e",
   "metadata": {},
   "source": [
    " "
   ]
  },
  {
   "cell_type": "markdown",
   "id": "d662c68e",
   "metadata": {},
   "source": [
    "---\n",
    "\n",
    "## 3. Data Cleaning / Preparation\n"
   ]
  },
  {
   "cell_type": "markdown",
   "id": "6eb54dc1",
   "metadata": {},
   "source": [
    " "
   ]
  },
  {
   "cell_type": "markdown",
   "id": "df371709",
   "metadata": {},
   "source": [
    "1.  Delete the State column in the **`df_salary`** table, as `state` is always California."
   ]
  },
  {
   "cell_type": "code",
   "execution_count": 7,
   "id": "f36a5d4c",
   "metadata": {},
   "outputs": [],
   "source": [
    "df_salary = df_salary.drop(columns = ['State'])"
   ]
  },
  {
   "cell_type": "markdown",
   "id": "06cd9750",
   "metadata": {},
   "source": [
    " "
   ]
  },
  {
   "cell_type": "markdown",
   "id": "1b601561",
   "metadata": {},
   "source": [
    "2.  Drop the rows in which the `Salary` cell in **`df_salary`** table is empty or skills info is missing in **`df_skills`** table."
   ]
  },
  {
   "cell_type": "code",
   "execution_count": 8,
   "id": "0e3fd0e3",
   "metadata": {},
   "outputs": [],
   "source": [
    "df_salary['Salary'].fillna(-1, inplace = True)\n",
    "df_skills.fillna(-1, inplace = True)\n",
    "drop_rows = []\n",
    "count = df_salary.shape[0]\n",
    "for i in range(0, count) :\n",
    "    if (df_salary['Salary'][i] < 0) | (df_skills['R'][i] < 0) :\n",
    "        drop_rows.append(i)\n",
    "df_salary = df_salary.drop(drop_rows)\n",
    "df_skills = df_skills.drop(drop_rows)"
   ]
  },
  {
   "cell_type": "code",
   "execution_count": 9,
   "id": "3fbeb88e",
   "metadata": {},
   "outputs": [
    {
     "data": {
      "text/html": [
       "<div>\n",
       "<style scoped>\n",
       "    .dataframe tbody tr th:only-of-type {\n",
       "        vertical-align: middle;\n",
       "    }\n",
       "\n",
       "    .dataframe tbody tr th {\n",
       "        vertical-align: top;\n",
       "    }\n",
       "\n",
       "    .dataframe thead th {\n",
       "        text-align: right;\n",
       "    }\n",
       "</style>\n",
       "<table border=\"1\" class=\"dataframe\">\n",
       "  <thead>\n",
       "    <tr style=\"text-align: right;\">\n",
       "      <th></th>\n",
       "      <th>Job_ID</th>\n",
       "      <th>Title</th>\n",
       "      <th>Company</th>\n",
       "      <th>City</th>\n",
       "      <th>Salary</th>\n",
       "      <th>Levels</th>\n",
       "    </tr>\n",
       "  </thead>\n",
       "  <tbody>\n",
       "    <tr>\n",
       "      <th>0</th>\n",
       "      <td>0</td>\n",
       "      <td>Data Scientist</td>\n",
       "      <td>Numerdox</td>\n",
       "      <td>Sacramento</td>\n",
       "      <td>110000</td>\n",
       "      <td>Jr.</td>\n",
       "    </tr>\n",
       "    <tr>\n",
       "      <th>1</th>\n",
       "      <td>1</td>\n",
       "      <td>Data Analyst</td>\n",
       "      <td>Cepheid</td>\n",
       "      <td>Lodi</td>\n",
       "      <td>120000</td>\n",
       "      <td>Unknown</td>\n",
       "    </tr>\n",
       "    <tr>\n",
       "      <th>2</th>\n",
       "      <td>2</td>\n",
       "      <td>Data Scientist</td>\n",
       "      <td>Cepheid</td>\n",
       "      <td>Sunnyvale</td>\n",
       "      <td>150000</td>\n",
       "      <td>Staff</td>\n",
       "    </tr>\n",
       "    <tr>\n",
       "      <th>3</th>\n",
       "      <td>3</td>\n",
       "      <td>Data Scientist</td>\n",
       "      <td>Verana Health</td>\n",
       "      <td>San Francisco</td>\n",
       "      <td>150000</td>\n",
       "      <td>Unknown</td>\n",
       "    </tr>\n",
       "    <tr>\n",
       "      <th>4</th>\n",
       "      <td>4</td>\n",
       "      <td>Data Scientist</td>\n",
       "      <td>Tinder</td>\n",
       "      <td>San Francisco</td>\n",
       "      <td>130000</td>\n",
       "      <td>Jr.</td>\n",
       "    </tr>\n",
       "    <tr>\n",
       "      <th>5</th>\n",
       "      <td>5</td>\n",
       "      <td>Data Scientist</td>\n",
       "      <td>JPL/NASA</td>\n",
       "      <td>Pasadena</td>\n",
       "      <td>100000</td>\n",
       "      <td>Jr.</td>\n",
       "    </tr>\n",
       "    <tr>\n",
       "      <th>6</th>\n",
       "      <td>6</td>\n",
       "      <td>Data Scientist</td>\n",
       "      <td>IBM</td>\n",
       "      <td>San Jose</td>\n",
       "      <td>120000</td>\n",
       "      <td>Unknown</td>\n",
       "    </tr>\n",
       "    <tr>\n",
       "      <th>7</th>\n",
       "      <td>7</td>\n",
       "      <td>Data Scientist</td>\n",
       "      <td>Indeed</td>\n",
       "      <td>San Francisco</td>\n",
       "      <td>223000</td>\n",
       "      <td>Sr.</td>\n",
       "    </tr>\n",
       "    <tr>\n",
       "      <th>8</th>\n",
       "      <td>8</td>\n",
       "      <td>Data Scientist</td>\n",
       "      <td>Ezoic</td>\n",
       "      <td>Carlsbad</td>\n",
       "      <td>100000</td>\n",
       "      <td>Unknown</td>\n",
       "    </tr>\n",
       "    <tr>\n",
       "      <th>10</th>\n",
       "      <td>10</td>\n",
       "      <td>Data Scientist</td>\n",
       "      <td>Airtable</td>\n",
       "      <td>San Francisco</td>\n",
       "      <td>130000</td>\n",
       "      <td>Unknown</td>\n",
       "    </tr>\n",
       "  </tbody>\n",
       "</table>\n",
       "</div>"
      ],
      "text/plain": [
       "    Job_ID           Title        Company           City  Salary   Levels\n",
       "0        0  Data Scientist       Numerdox     Sacramento  110000      Jr.\n",
       "1        1    Data Analyst        Cepheid           Lodi  120000  Unknown\n",
       "2        2  Data Scientist        Cepheid      Sunnyvale  150000    Staff\n",
       "3        3  Data Scientist  Verana Health  San Francisco  150000  Unknown\n",
       "4        4  Data Scientist         Tinder  San Francisco  130000      Jr.\n",
       "5        5  Data Scientist       JPL/NASA       Pasadena  100000      Jr.\n",
       "6        6  Data Scientist            IBM       San Jose  120000  Unknown\n",
       "7        7  Data Scientist         Indeed  San Francisco  223000      Sr.\n",
       "8        8  Data Scientist          Ezoic       Carlsbad  100000  Unknown\n",
       "10      10  Data Scientist       Airtable  San Francisco  130000  Unknown"
      ]
     },
     "execution_count": 9,
     "metadata": {},
     "output_type": "execute_result"
    }
   ],
   "source": [
    "df_salary.head(10)"
   ]
  },
  {
   "cell_type": "markdown",
   "id": "f6b42217",
   "metadata": {},
   "source": [
    " "
   ]
  },
  {
   "cell_type": "markdown",
   "id": "04378fa6",
   "metadata": {},
   "source": [
    "3.  As some company and city cells in **`df_salary`** table are also empty, instead of dropping them, we replace them into `Unknown`."
   ]
  },
  {
   "cell_type": "code",
   "execution_count": 10,
   "id": "e7db2150",
   "metadata": {},
   "outputs": [],
   "source": [
    "df_salary['Company'].fillna('Unknown', inplace = True)\n",
    "df_salary['City'].fillna('Unknown', inplace = True)"
   ]
  },
  {
   "cell_type": "markdown",
   "id": "95b545c5",
   "metadata": {},
   "source": [
    " "
   ]
  },
  {
   "cell_type": "markdown",
   "id": "26cc05b0",
   "metadata": {},
   "source": [
    "4.  As there're too many skills listed in the **`df_skills`** table, so we decide to select some skills instead of all. \n",
    "To achieve the target, we build **`df_count`** table for each skill with its total count of all staffs."
   ]
  },
  {
   "cell_type": "code",
   "execution_count": 11,
   "id": "833ec50c",
   "metadata": {},
   "outputs": [
    {
     "name": "stdout",
     "output_type": "stream",
     "text": [
      "<class 'pandas.core.frame.DataFrame'>\n",
      "Int64Index: 1205 entries, 0 to 1286\n",
      "Columns: 256 entries, Job_ID to Calibration\n",
      "dtypes: float64(255), int64(1)\n",
      "memory usage: 2.4 MB\n"
     ]
    }
   ],
   "source": [
    "df_skills.info()"
   ]
  },
  {
   "cell_type": "code",
   "execution_count": 12,
   "id": "397195de",
   "metadata": {},
   "outputs": [],
   "source": [
    "skills = df_skills.columns[1:]"
   ]
  },
  {
   "cell_type": "code",
   "execution_count": 13,
   "id": "273756e6",
   "metadata": {},
   "outputs": [],
   "source": [
    "sum_count = []\n",
    "for i in skills:\n",
    "    sum_count.append(sum(df_skills[i]))"
   ]
  },
  {
   "cell_type": "code",
   "execution_count": 14,
   "id": "c0589eb2",
   "metadata": {},
   "outputs": [
    {
     "data": {
      "text/html": [
       "<div>\n",
       "<style scoped>\n",
       "    .dataframe tbody tr th:only-of-type {\n",
       "        vertical-align: middle;\n",
       "    }\n",
       "\n",
       "    .dataframe tbody tr th {\n",
       "        vertical-align: top;\n",
       "    }\n",
       "\n",
       "    .dataframe thead th {\n",
       "        text-align: right;\n",
       "    }\n",
       "</style>\n",
       "<table border=\"1\" class=\"dataframe\">\n",
       "  <thead>\n",
       "    <tr style=\"text-align: right;\">\n",
       "      <th></th>\n",
       "      <th>skills_count</th>\n",
       "    </tr>\n",
       "  </thead>\n",
       "  <tbody>\n",
       "    <tr>\n",
       "      <th>count</th>\n",
       "      <td>255.000000</td>\n",
       "    </tr>\n",
       "    <tr>\n",
       "      <th>mean</th>\n",
       "      <td>35.658824</td>\n",
       "    </tr>\n",
       "    <tr>\n",
       "      <th>std</th>\n",
       "      <td>95.830997</td>\n",
       "    </tr>\n",
       "    <tr>\n",
       "      <th>min</th>\n",
       "      <td>0.000000</td>\n",
       "    </tr>\n",
       "    <tr>\n",
       "      <th>25%</th>\n",
       "      <td>2.000000</td>\n",
       "    </tr>\n",
       "    <tr>\n",
       "      <th>50%</th>\n",
       "      <td>5.000000</td>\n",
       "    </tr>\n",
       "    <tr>\n",
       "      <th>75%</th>\n",
       "      <td>23.500000</td>\n",
       "    </tr>\n",
       "    <tr>\n",
       "      <th>max</th>\n",
       "      <td>655.000000</td>\n",
       "    </tr>\n",
       "  </tbody>\n",
       "</table>\n",
       "</div>"
      ],
      "text/plain": [
       "       skills_count\n",
       "count    255.000000\n",
       "mean      35.658824\n",
       "std       95.830997\n",
       "min        0.000000\n",
       "25%        2.000000\n",
       "50%        5.000000\n",
       "75%       23.500000\n",
       "max      655.000000"
      ]
     },
     "execution_count": 14,
     "metadata": {},
     "output_type": "execute_result"
    }
   ],
   "source": [
    "df_count = pd.DataFrame()\n",
    "df_count['skill'] = skills\n",
    "df_count['skills_count'] = sum_count\n",
    "df_count.describe()"
   ]
  },
  {
   "cell_type": "code",
   "execution_count": 15,
   "id": "899cf6b2",
   "metadata": {},
   "outputs": [
    {
     "data": {
      "text/plain": [
       "<AxesSubplot:xlabel='skills_count', ylabel='Count'>"
      ]
     },
     "execution_count": 15,
     "metadata": {},
     "output_type": "execute_result"
    },
    {
     "data": {
      "image/png": "[encoded data removed]",
      "text/plain": [
       "<Figure size 432x288 with 1 Axes>"
      ]
     },
     "metadata": {
      "needs_background": "light"
     },
     "output_type": "display_data"
    }
   ],
   "source": [
    "sns.histplot(data = df_count['skills_count'])"
   ]
  },
  {
   "cell_type": "markdown",
   "id": "810938e0",
   "metadata": {},
   "source": [
    "- Through the description and histogram of **`df_count`** table, we notice that the majority of skills' total count are less than `23.5` (75th percentile). Hence, we drop such skills and save the rest skills info into **`df_skills2`**."
   ]
  },
  {
   "cell_type": "code",
   "execution_count": 16,
   "id": "6a6da276",
   "metadata": {},
   "outputs": [],
   "source": [
    "df_count = df_count[df_count['skills_count'] > 23.5]"
   ]
  },
  {
   "cell_type": "code",
   "execution_count": 17,
   "id": "b72de16b",
   "metadata": {},
   "outputs": [
    {
     "data": {
      "text/plain": [
       "<AxesSubplot:ylabel='Count'>"
      ]
     },
     "execution_count": 17,
     "metadata": {},
     "output_type": "execute_result"
    },
    {
     "data": {
      "image/png": "[encoded data removed]",
      "text/plain": [
       "<Figure size 432x288 with 1 Axes>"
      ]
     },
     "metadata": {
      "needs_background": "light"
     },
     "output_type": "display_data"
    }
   ],
   "source": [
    "sns.histplot(data = df_count, binwidth = 50)"
   ]
  },
  {
   "cell_type": "markdown",
   "id": "eb51a831",
   "metadata": {},
   "source": [
    " "
   ]
  },
  {
   "cell_type": "code",
   "execution_count": 18,
   "id": "5647c4ac",
   "metadata": {},
   "outputs": [],
   "source": [
    "skills2 = list(df_count['skill'])\n",
    "df_skills2 = df_skills[skills2].astype(int)\n",
    "df_skills2['Job_ID'] = df_skills['Job_ID']"
   ]
  },
  {
   "cell_type": "markdown",
   "id": "a819213a",
   "metadata": {},
   "source": [
    " "
   ]
  },
  {
   "cell_type": "markdown",
   "id": "8513bbf5",
   "metadata": {},
   "source": [
    "4.  Combine two tables **`df_salary`** and **`df_skills2`** based on `Job_ID` into our final table **`df_staff`**."
   ]
  },
  {
   "cell_type": "code",
   "execution_count": 19,
   "id": "7b166d9e",
   "metadata": {},
   "outputs": [
    {
     "data": {
      "text/html": [
       "<div>\n",
       "<style scoped>\n",
       "    .dataframe tbody tr th:only-of-type {\n",
       "        vertical-align: middle;\n",
       "    }\n",
       "\n",
       "    .dataframe tbody tr th {\n",
       "        vertical-align: top;\n",
       "    }\n",
       "\n",
       "    .dataframe thead th {\n",
       "        text-align: right;\n",
       "    }\n",
       "</style>\n",
       "<table border=\"1\" class=\"dataframe\">\n",
       "  <thead>\n",
       "    <tr style=\"text-align: right;\">\n",
       "      <th></th>\n",
       "      <th>Job_ID</th>\n",
       "      <th>Title</th>\n",
       "      <th>Company</th>\n",
       "      <th>City</th>\n",
       "      <th>Salary</th>\n",
       "      <th>Levels</th>\n",
       "      <th>Analysis skills</th>\n",
       "      <th>Communication skills</th>\n",
       "      <th>Research</th>\n",
       "      <th>R</th>\n",
       "      <th>...</th>\n",
       "      <th>Torch</th>\n",
       "      <th>Azure</th>\n",
       "      <th>NoSQL</th>\n",
       "      <th>Master of Science</th>\n",
       "      <th>Windows</th>\n",
       "      <th>Scripting</th>\n",
       "      <th>Marketing</th>\n",
       "      <th>New Relic</th>\n",
       "      <th>DevOps</th>\n",
       "      <th>Computer networking</th>\n",
       "    </tr>\n",
       "  </thead>\n",
       "  <tbody>\n",
       "    <tr>\n",
       "      <th>0</th>\n",
       "      <td>0</td>\n",
       "      <td>Data Scientist</td>\n",
       "      <td>Numerdox</td>\n",
       "      <td>Sacramento</td>\n",
       "      <td>110000</td>\n",
       "      <td>Jr.</td>\n",
       "      <td>1</td>\n",
       "      <td>1</td>\n",
       "      <td>1</td>\n",
       "      <td>1</td>\n",
       "      <td>...</td>\n",
       "      <td>0</td>\n",
       "      <td>0</td>\n",
       "      <td>0</td>\n",
       "      <td>0</td>\n",
       "      <td>0</td>\n",
       "      <td>0</td>\n",
       "      <td>0</td>\n",
       "      <td>0</td>\n",
       "      <td>0</td>\n",
       "      <td>0</td>\n",
       "    </tr>\n",
       "    <tr>\n",
       "      <th>1</th>\n",
       "      <td>1</td>\n",
       "      <td>Data Analyst</td>\n",
       "      <td>Cepheid</td>\n",
       "      <td>Lodi</td>\n",
       "      <td>120000</td>\n",
       "      <td>Unknown</td>\n",
       "      <td>0</td>\n",
       "      <td>0</td>\n",
       "      <td>0</td>\n",
       "      <td>1</td>\n",
       "      <td>...</td>\n",
       "      <td>0</td>\n",
       "      <td>0</td>\n",
       "      <td>0</td>\n",
       "      <td>0</td>\n",
       "      <td>0</td>\n",
       "      <td>0</td>\n",
       "      <td>0</td>\n",
       "      <td>0</td>\n",
       "      <td>0</td>\n",
       "      <td>0</td>\n",
       "    </tr>\n",
       "    <tr>\n",
       "      <th>2</th>\n",
       "      <td>2</td>\n",
       "      <td>Data Scientist</td>\n",
       "      <td>Cepheid</td>\n",
       "      <td>Sunnyvale</td>\n",
       "      <td>150000</td>\n",
       "      <td>Staff</td>\n",
       "      <td>0</td>\n",
       "      <td>0</td>\n",
       "      <td>0</td>\n",
       "      <td>0</td>\n",
       "      <td>...</td>\n",
       "      <td>0</td>\n",
       "      <td>0</td>\n",
       "      <td>0</td>\n",
       "      <td>0</td>\n",
       "      <td>0</td>\n",
       "      <td>0</td>\n",
       "      <td>0</td>\n",
       "      <td>0</td>\n",
       "      <td>0</td>\n",
       "      <td>0</td>\n",
       "    </tr>\n",
       "    <tr>\n",
       "      <th>3</th>\n",
       "      <td>3</td>\n",
       "      <td>Data Scientist</td>\n",
       "      <td>Verana Health</td>\n",
       "      <td>San Francisco</td>\n",
       "      <td>150000</td>\n",
       "      <td>Unknown</td>\n",
       "      <td>0</td>\n",
       "      <td>1</td>\n",
       "      <td>0</td>\n",
       "      <td>1</td>\n",
       "      <td>...</td>\n",
       "      <td>0</td>\n",
       "      <td>0</td>\n",
       "      <td>0</td>\n",
       "      <td>0</td>\n",
       "      <td>0</td>\n",
       "      <td>0</td>\n",
       "      <td>0</td>\n",
       "      <td>0</td>\n",
       "      <td>0</td>\n",
       "      <td>0</td>\n",
       "    </tr>\n",
       "    <tr>\n",
       "      <th>4</th>\n",
       "      <td>4</td>\n",
       "      <td>Data Scientist</td>\n",
       "      <td>Tinder</td>\n",
       "      <td>San Francisco</td>\n",
       "      <td>130000</td>\n",
       "      <td>Jr.</td>\n",
       "      <td>0</td>\n",
       "      <td>0</td>\n",
       "      <td>0</td>\n",
       "      <td>0</td>\n",
       "      <td>...</td>\n",
       "      <td>0</td>\n",
       "      <td>0</td>\n",
       "      <td>0</td>\n",
       "      <td>0</td>\n",
       "      <td>0</td>\n",
       "      <td>0</td>\n",
       "      <td>0</td>\n",
       "      <td>0</td>\n",
       "      <td>0</td>\n",
       "      <td>0</td>\n",
       "    </tr>\n",
       "  </tbody>\n",
       "</table>\n",
       "<p>5 rows × 70 columns</p>\n",
       "</div>"
      ],
      "text/plain": [
       "   Job_ID           Title        Company           City  Salary   Levels  \\\n",
       "0       0  Data Scientist       Numerdox     Sacramento  110000      Jr.   \n",
       "1       1    Data Analyst        Cepheid           Lodi  120000  Unknown   \n",
       "2       2  Data Scientist        Cepheid      Sunnyvale  150000    Staff   \n",
       "3       3  Data Scientist  Verana Health  San Francisco  150000  Unknown   \n",
       "4       4  Data Scientist         Tinder  San Francisco  130000      Jr.   \n",
       "\n",
       "   Analysis skills  Communication skills  Research  R  ...  Torch  Azure  \\\n",
       "0                1                     1         1  1  ...      0      0   \n",
       "1                0                     0         0  1  ...      0      0   \n",
       "2                0                     0         0  0  ...      0      0   \n",
       "3                0                     1         0  1  ...      0      0   \n",
       "4                0                     0         0  0  ...      0      0   \n",
       "\n",
       "   NoSQL  Master of Science  Windows  Scripting  Marketing  New Relic  DevOps  \\\n",
       "0      0                  0        0          0          0          0       0   \n",
       "1      0                  0        0          0          0          0       0   \n",
       "2      0                  0        0          0          0          0       0   \n",
       "3      0                  0        0          0          0          0       0   \n",
       "4      0                  0        0          0          0          0       0   \n",
       "\n",
       "   Computer networking  \n",
       "0                    0  \n",
       "1                    0  \n",
       "2                    0  \n",
       "3                    0  \n",
       "4                    0  \n",
       "\n",
       "[5 rows x 70 columns]"
      ]
     },
     "execution_count": 19,
     "metadata": {},
     "output_type": "execute_result"
    }
   ],
   "source": [
    "df_staff = df_salary.merge(df_skills2)\n",
    "df_staff.head(5)"
   ]
  },
  {
   "cell_type": "markdown",
   "id": "c1b6351d",
   "metadata": {},
   "source": [
    "  "
   ]
  },
  {
   "cell_type": "markdown",
   "id": "9b05bf9c",
   "metadata": {},
   "source": [
    "5.  Save the tables into excel files."
   ]
  },
  {
   "cell_type": "code",
   "execution_count": 20,
   "id": "5d29402e",
   "metadata": {},
   "outputs": [],
   "source": [
    "df_salary.to_excel('Salary.xlsx', index = False)\n",
    "df_skills2.to_excel('Skills.xlsx', index = False)\n",
    "df_staff.to_excel('Staff.xlsx', index = False)"
   ]
  },
  {
   "cell_type": "markdown",
   "id": "d3b832c7",
   "metadata": {},
   "source": [
    " "
   ]
  },
  {
   "cell_type": "markdown",
   "id": "2c0279bf",
   "metadata": {},
   "source": [
    "---\n",
    "\n",
    "## 4. Data Analysis / Visualization"
   ]
  },
  {
   "cell_type": "markdown",
   "id": "2a52b345",
   "metadata": {},
   "source": [
    " "
   ]
  },
  {
   "cell_type": "markdown",
   "id": "9d411188",
   "metadata": {},
   "source": [
    "1. Check the number of unique levels for categorical data to determine suitable visualisation tool"
   ]
  },
  {
   "cell_type": "code",
   "execution_count": 21,
   "id": "8c196d14",
   "metadata": {},
   "outputs": [
    {
     "name": "stdout",
     "output_type": "stream",
     "text": [
      "Number of unqiue classes in Title : 13\n",
      "Number of unqiue classes in Company : 501\n",
      "Number of unqiue classes in City : 77\n",
      "Number of unqiue classes in Levels : 7\n"
     ]
    }
   ],
   "source": [
    "print(\"Number of unqiue classes in Title :\", len(df_staff[\"Title\"].unique()))\n",
    "print(\"Number of unqiue classes in Company :\", len(df_staff[\"Company\"].unique()))\n",
    "print(\"Number of unqiue classes in City :\", len(df_staff[\"City\"].unique()))\n",
    "print(\"Number of unqiue classes in Levels :\", len(df_staff[\"Levels\"].unique()))"
   ]
  },
  {
   "cell_type": "markdown",
   "id": "95fbb1a0",
   "metadata": {},
   "source": [
    " "
   ]
  },
  {
   "cell_type": "markdown",
   "id": "9a2aedf6",
   "metadata": {},
   "source": [
    "2. Visualisation for **`Job Titles`**"
   ]
  },
  {
   "cell_type": "code",
   "execution_count": 22,
   "id": "cc72bca0",
   "metadata": {},
   "outputs": [
    {
     "data": {
      "image/png": "[encoded data removed]",
      "text/plain": [
       "<Figure size 1296x1080 with 1 Axes>"
      ]
     },
     "metadata": {
      "needs_background": "light"
     },
     "output_type": "display_data"
    }
   ],
   "source": [
    "title_count = pd.DataFrame()\n",
    "title_count = df_staff.loc[:,'Title'].value_counts()\n",
    "title_count = title_count.to_frame()\n",
    "title_count['Job Title'] = title_count.index\n",
    "title_count = title_count.rename(columns = {'Title' : 'Count'})\n",
    "\n",
    "plt.figure(figsize=(18, 15))\n",
    "sns.set(font_scale = 1)\n",
    "sns.barplot(data = title_count, x = 'Count', y = 'Job Title')\n",
    "plt.show()"
   ]
  },
  {
   "cell_type": "markdown",
   "id": "b6cf8eb7",
   "metadata": {},
   "source": [
    "- In the countplot, the `Data Scientist` group is the most common occupation for our dataset by a significant margin, followed by `Machine Learning Engineer` and `Machine Learning Scientist`."
   ]
  },
  {
   "cell_type": "code",
   "execution_count": 23,
   "id": "110191ac",
   "metadata": {},
   "outputs": [
    {
     "data": {
      "text/plain": [
       "<AxesSubplot:xlabel='Salary', ylabel='Title'>"
      ]
     },
     "execution_count": 23,
     "metadata": {},
     "output_type": "execute_result"
    },
    {
     "data": {
      "image/png": "[encoded data removed]",
      "text/plain": [
       "<Figure size 1440x1080 with 1 Axes>"
      ]
     },
     "metadata": {},
     "output_type": "display_data"
    }
   ],
   "source": [
    "f, axes = plt.subplots(figsize=(20, 15))\n",
    "sns.boxplot(x = 'Salary', y = 'Title', data = df_staff)"
   ]
  },
  {
   "cell_type": "markdown",
   "id": "e02f793a",
   "metadata": {},
   "source": [
    " "
   ]
  },
  {
   "cell_type": "markdown",
   "id": "736572a5",
   "metadata": {},
   "source": [
    "3. Visualisation for **`Company`**"
   ]
  },
  {
   "cell_type": "code",
   "execution_count": 24,
   "id": "124d68ea",
   "metadata": {},
   "outputs": [
    {
     "data": {
      "text/html": [
       "<div>\n",
       "<style scoped>\n",
       "    .dataframe tbody tr th:only-of-type {\n",
       "        vertical-align: middle;\n",
       "    }\n",
       "\n",
       "    .dataframe tbody tr th {\n",
       "        vertical-align: top;\n",
       "    }\n",
       "\n",
       "    .dataframe thead th {\n",
       "        text-align: right;\n",
       "    }\n",
       "</style>\n",
       "<table border=\"1\" class=\"dataframe\">\n",
       "  <thead>\n",
       "    <tr style=\"text-align: right;\">\n",
       "      <th></th>\n",
       "      <th>Company</th>\n",
       "    </tr>\n",
       "  </thead>\n",
       "  <tbody>\n",
       "    <tr>\n",
       "      <th>count</th>\n",
       "      <td>501.000000</td>\n",
       "    </tr>\n",
       "    <tr>\n",
       "      <th>mean</th>\n",
       "      <td>2.405190</td>\n",
       "    </tr>\n",
       "    <tr>\n",
       "      <th>std</th>\n",
       "      <td>6.262387</td>\n",
       "    </tr>\n",
       "    <tr>\n",
       "      <th>min</th>\n",
       "      <td>1.000000</td>\n",
       "    </tr>\n",
       "    <tr>\n",
       "      <th>25%</th>\n",
       "      <td>1.000000</td>\n",
       "    </tr>\n",
       "    <tr>\n",
       "      <th>50%</th>\n",
       "      <td>1.000000</td>\n",
       "    </tr>\n",
       "    <tr>\n",
       "      <th>75%</th>\n",
       "      <td>2.000000</td>\n",
       "    </tr>\n",
       "    <tr>\n",
       "      <th>max</th>\n",
       "      <td>103.000000</td>\n",
       "    </tr>\n",
       "  </tbody>\n",
       "</table>\n",
       "</div>"
      ],
      "text/plain": [
       "          Company\n",
       "count  501.000000\n",
       "mean     2.405190\n",
       "std      6.262387\n",
       "min      1.000000\n",
       "25%      1.000000\n",
       "50%      1.000000\n",
       "75%      2.000000\n",
       "max    103.000000"
      ]
     },
     "execution_count": 24,
     "metadata": {},
     "output_type": "execute_result"
    }
   ],
   "source": [
    "company = pd.DataFrame(df_staff[\"Company\"].value_counts())\n",
    "company.describe()"
   ]
  },
  {
   "cell_type": "markdown",
   "id": "ea0622ee",
   "metadata": {},
   "source": [
    "- Every company has a mean of only 1 employee, with 75% of companies having 2 or fewer employees.\n",
    "- Due to the low sample size, company is not a suitable predictor for our model. It will be ignored."
   ]
  },
  {
   "cell_type": "code",
   "execution_count": 25,
   "id": "0293031b",
   "metadata": {},
   "outputs": [
    {
     "data": {
      "image/png": "[encoded data removed]",
      "text/plain": [
       "<Figure size 1296x720 with 1 Axes>"
      ]
     },
     "metadata": {},
     "output_type": "display_data"
    }
   ],
   "source": [
    "company_count = pd.DataFrame()\n",
    "company_count = df_staff.loc[:,'Company'].value_counts()\n",
    "company_count = company_count.to_frame()\n",
    "company_count['Company Name'] = company_count.index\n",
    "company_count = company_count.iloc[0:10 , :]\n",
    "company_count = company_count.rename(columns = {'Company' : 'Count'})\n",
    "\n",
    "plt.figure(figsize=(18, 10))\n",
    "sns.set(font_scale = 1)\n",
    "sns.barplot(data = company_count, x = 'Company Name', y = 'Count')\n",
    "plt.show()"
   ]
  },
  {
   "cell_type": "markdown",
   "id": "e39ed6b0",
   "metadata": {},
   "source": [
    "- Here, we show the `top-10` companies with largest count of staffs."
   ]
  },
  {
   "cell_type": "markdown",
   "id": "04739c39",
   "metadata": {},
   "source": [
    " "
   ]
  },
  {
   "cell_type": "markdown",
   "id": "edd2d778",
   "metadata": {},
   "source": [
    "4. Visualisation for **`City`**"
   ]
  },
  {
   "cell_type": "code",
   "execution_count": 26,
   "id": "401e4d35",
   "metadata": {},
   "outputs": [
    {
     "data": {
      "text/html": [
       "<div>\n",
       "<style scoped>\n",
       "    .dataframe tbody tr th:only-of-type {\n",
       "        vertical-align: middle;\n",
       "    }\n",
       "\n",
       "    .dataframe tbody tr th {\n",
       "        vertical-align: top;\n",
       "    }\n",
       "\n",
       "    .dataframe thead th {\n",
       "        text-align: right;\n",
       "    }\n",
       "</style>\n",
       "<table border=\"1\" class=\"dataframe\">\n",
       "  <thead>\n",
       "    <tr style=\"text-align: right;\">\n",
       "      <th></th>\n",
       "      <th>City</th>\n",
       "    </tr>\n",
       "  </thead>\n",
       "  <tbody>\n",
       "    <tr>\n",
       "      <th>count</th>\n",
       "      <td>77.000000</td>\n",
       "    </tr>\n",
       "    <tr>\n",
       "      <th>mean</th>\n",
       "      <td>15.649351</td>\n",
       "    </tr>\n",
       "    <tr>\n",
       "      <th>std</th>\n",
       "      <td>46.309532</td>\n",
       "    </tr>\n",
       "    <tr>\n",
       "      <th>min</th>\n",
       "      <td>1.000000</td>\n",
       "    </tr>\n",
       "    <tr>\n",
       "      <th>25%</th>\n",
       "      <td>1.000000</td>\n",
       "    </tr>\n",
       "    <tr>\n",
       "      <th>50%</th>\n",
       "      <td>3.000000</td>\n",
       "    </tr>\n",
       "    <tr>\n",
       "      <th>75%</th>\n",
       "      <td>6.000000</td>\n",
       "    </tr>\n",
       "    <tr>\n",
       "      <th>max</th>\n",
       "      <td>334.000000</td>\n",
       "    </tr>\n",
       "  </tbody>\n",
       "</table>\n",
       "</div>"
      ],
      "text/plain": [
       "             City\n",
       "count   77.000000\n",
       "mean    15.649351\n",
       "std     46.309532\n",
       "min      1.000000\n",
       "25%      1.000000\n",
       "50%      3.000000\n",
       "75%      6.000000\n",
       "max    334.000000"
      ]
     },
     "execution_count": 26,
     "metadata": {},
     "output_type": "execute_result"
    }
   ],
   "source": [
    "city = pd.DataFrame(df_staff[\"City\"].value_counts())\n",
    "city.describe()"
   ]
  },
  {
   "cell_type": "markdown",
   "id": "a93fb691",
   "metadata": {},
   "source": [
    "- Similary, every city has a mean of only 2 employees, with 75% of cities having 6 or fewer employees. \n",
    "- Due to the low sample size, company is not a suitable predictor for our model. It will be ignored."
   ]
  },
  {
   "cell_type": "code",
   "execution_count": 27,
   "id": "837498be",
   "metadata": {},
   "outputs": [
    {
     "data": {
      "image/png": "[encoded data removed]",
      "text/plain": [
       "<Figure size 1296x720 with 1 Axes>"
      ]
     },
     "metadata": {},
     "output_type": "display_data"
    }
   ],
   "source": [
    "city_count = pd.DataFrame()\n",
    "city_count = df_staff.loc[:,'City'].value_counts()\n",
    "city_count = city_count.to_frame()\n",
    "city_count['City Name'] = city_count.index\n",
    "city_count = city_count.iloc[0:10 , :]\n",
    "city_count = city_count.rename(columns = {'City' : 'Count'})\n",
    "\n",
    "plt.figure(figsize=(18, 10))\n",
    "sns.set(font_scale = 1)\n",
    "sns.barplot(data = city_count, x = 'City Name', y = 'Count')\n",
    "plt.show()"
   ]
  },
  {
   "cell_type": "markdown",
   "id": "ffe5e6ca",
   "metadata": {},
   "source": [
    "- Here, we show the `top-10` cities with largest count of workers."
   ]
  },
  {
   "cell_type": "markdown",
   "id": "ec9d1012",
   "metadata": {},
   "source": [
    " "
   ]
  },
  {
   "cell_type": "markdown",
   "id": "75882156",
   "metadata": {},
   "source": [
    "5. Visualisation for **`Levels`**"
   ]
  },
  {
   "cell_type": "code",
   "execution_count": 28,
   "id": "118693f3",
   "metadata": {},
   "outputs": [
    {
     "data": {
      "image/png": "[encoded data removed]",
      "text/plain": [
       "<Figure size 1440x720 with 1 Axes>"
      ]
     },
     "metadata": {},
     "output_type": "display_data"
    }
   ],
   "source": [
    "level_count = pd.DataFrame()\n",
    "level_count = df_staff.loc[:,'Levels'].value_counts()\n",
    "level_count = level_count.to_frame()\n",
    "level_count['Level Name'] = level_count.index\n",
    "level_count = level_count.rename(columns = {'Levels' : 'Count'})\n",
    "\n",
    "plt.figure(figsize=(20, 10))\n",
    "sns.set(font_scale = 1)\n",
    "sns.barplot(data = level_count, x = 'Level Name', y = 'Count')\n",
    "plt.show()"
   ]
  },
  {
   "cell_type": "markdown",
   "id": "71f5f46a",
   "metadata": {},
   "source": [
    "- The majority of levels are `Unknown`, which will then be predicted.\n",
    "- Except `Unknown`, the level `Sr.` is the most common experience level for our dataset by a significant margin."
   ]
  },
  {
   "cell_type": "code",
   "execution_count": 29,
   "id": "3db6e359",
   "metadata": {},
   "outputs": [
    {
     "data": {
      "image/png": "[encoded data removed]",
      "text/plain": [
       "<Figure size 1296x720 with 1 Axes>"
      ]
     },
     "metadata": {},
     "output_type": "display_data"
    }
   ],
   "source": [
    "plt.figure(figsize=(18, 10))\n",
    "sns.set(font_scale = 2)\n",
    "sns.boxplot(y = 'Levels', x = 'Salary', data = df_staff, width = 0.5, palette=\"Reds\")\n",
    "plt.show()"
   ]
  },
  {
   "cell_type": "markdown",
   "id": "80f56ddb",
   "metadata": {},
   "source": [
    " "
   ]
  },
  {
   "cell_type": "markdown",
   "id": "1360b24b",
   "metadata": {},
   "source": [
    "6. Visualisation for **`Salary`**"
   ]
  },
  {
   "cell_type": "code",
   "execution_count": 30,
   "id": "94b4f86f",
   "metadata": {},
   "outputs": [
    {
     "data": {
      "text/plain": [
       "<AxesSubplot:>"
      ]
     },
     "execution_count": 30,
     "metadata": {},
     "output_type": "execute_result"
    },
    {
     "data": {
      "image/png": "[encoded data removed]",
      "text/plain": [
       "<Figure size 1440x360 with 1 Axes>"
      ]
     },
     "metadata": {},
     "output_type": "display_data"
    }
   ],
   "source": [
    "f, axes = plt.subplots(figsize=(20, 5))\n",
    "sns.boxplot(data = df_staff[\"Salary\"], orient = \"h\")"
   ]
  },
  {
   "cell_type": "markdown",
   "id": "6d19be54",
   "metadata": {},
   "source": [
    "- The vast majority of data points fall within `[130000, 170000]`, and mean is `150000`.\n",
    "- However, there are 12 outliers which deviate significantly from the mean."
   ]
  },
  {
   "cell_type": "markdown",
   "id": "8a02b00e",
   "metadata": {},
   "source": [
    " "
   ]
  },
  {
   "cell_type": "markdown",
   "id": "76268461",
   "metadata": {},
   "source": [
    "7. Visualisation for **`Skills`**"
   ]
  },
  {
   "cell_type": "code",
   "execution_count": 31,
   "id": "a0c6527d",
   "metadata": {},
   "outputs": [
    {
     "data": {
      "image/png": "[encoded data removed]",
      "text/plain": [
       "<Figure size 1296x576 with 1 Axes>"
      ]
     },
     "metadata": {},
     "output_type": "display_data"
    }
   ],
   "source": [
    "df_factors = df_staff\n",
    "df_factors['count'] = df_factors.iloc[:,6:].sum(axis=1)\n",
    "plt.figure(figsize=(18, 8))\n",
    "sns.set(font_scale = 1)\n",
    "sns.boxplot(x = \"count\", y = \"Salary\", data=df_factors, showfliers = False)\n",
    "plt.show()"
   ]
  },
  {
   "cell_type": "markdown",
   "id": "0bef2f22",
   "metadata": {},
   "source": [
    "- Overall, with the increase of the count of skills, the salary of workers increases."
   ]
  },
  {
   "cell_type": "markdown",
   "id": "108ec5e1",
   "metadata": {},
   "source": [
    " "
   ]
  },
  {
   "cell_type": "markdown",
   "id": "a2adc29b",
   "metadata": {},
   "source": [
    "---\n",
    "\n",
    "## 5. Preparation for Machine Learning"
   ]
  },
  {
   "cell_type": "markdown",
   "id": "75d4bfbf",
   "metadata": {},
   "source": [
    " "
   ]
  },
  {
   "cell_type": "markdown",
   "id": "ba946941",
   "metadata": {},
   "source": [
    "1. Drop the **`Company`** and **`City`** which are not suitable predictors for our model."
   ]
  },
  {
   "cell_type": "code",
   "execution_count": 32,
   "id": "c6daaa3d",
   "metadata": {
    "scrolled": true
   },
   "outputs": [
    {
     "data": {
      "text/html": [
       "<div>\n",
       "<style scoped>\n",
       "    .dataframe tbody tr th:only-of-type {\n",
       "        vertical-align: middle;\n",
       "    }\n",
       "\n",
       "    .dataframe tbody tr th {\n",
       "        vertical-align: top;\n",
       "    }\n",
       "\n",
       "    .dataframe thead th {\n",
       "        text-align: right;\n",
       "    }\n",
       "</style>\n",
       "<table border=\"1\" class=\"dataframe\">\n",
       "  <thead>\n",
       "    <tr style=\"text-align: right;\">\n",
       "      <th></th>\n",
       "      <th>Job_ID</th>\n",
       "      <th>Title</th>\n",
       "      <th>Salary</th>\n",
       "      <th>Levels</th>\n",
       "      <th>Analysis skills</th>\n",
       "      <th>Communication skills</th>\n",
       "      <th>Research</th>\n",
       "      <th>R</th>\n",
       "      <th>Machine learning</th>\n",
       "      <th>Bachelor's degree</th>\n",
       "      <th>...</th>\n",
       "      <th>Azure</th>\n",
       "      <th>NoSQL</th>\n",
       "      <th>Master of Science</th>\n",
       "      <th>Windows</th>\n",
       "      <th>Scripting</th>\n",
       "      <th>Marketing</th>\n",
       "      <th>New Relic</th>\n",
       "      <th>DevOps</th>\n",
       "      <th>Computer networking</th>\n",
       "      <th>count</th>\n",
       "    </tr>\n",
       "  </thead>\n",
       "  <tbody>\n",
       "    <tr>\n",
       "      <th>0</th>\n",
       "      <td>0</td>\n",
       "      <td>Data Scientist</td>\n",
       "      <td>110000</td>\n",
       "      <td>Jr.</td>\n",
       "      <td>1</td>\n",
       "      <td>1</td>\n",
       "      <td>1</td>\n",
       "      <td>1</td>\n",
       "      <td>1</td>\n",
       "      <td>1</td>\n",
       "      <td>...</td>\n",
       "      <td>0</td>\n",
       "      <td>0</td>\n",
       "      <td>0</td>\n",
       "      <td>0</td>\n",
       "      <td>0</td>\n",
       "      <td>0</td>\n",
       "      <td>0</td>\n",
       "      <td>0</td>\n",
       "      <td>0</td>\n",
       "      <td>10</td>\n",
       "    </tr>\n",
       "    <tr>\n",
       "      <th>1</th>\n",
       "      <td>1</td>\n",
       "      <td>Data Analyst</td>\n",
       "      <td>120000</td>\n",
       "      <td>Unknown</td>\n",
       "      <td>0</td>\n",
       "      <td>0</td>\n",
       "      <td>0</td>\n",
       "      <td>1</td>\n",
       "      <td>0</td>\n",
       "      <td>1</td>\n",
       "      <td>...</td>\n",
       "      <td>0</td>\n",
       "      <td>0</td>\n",
       "      <td>0</td>\n",
       "      <td>0</td>\n",
       "      <td>0</td>\n",
       "      <td>0</td>\n",
       "      <td>0</td>\n",
       "      <td>0</td>\n",
       "      <td>0</td>\n",
       "      <td>5</td>\n",
       "    </tr>\n",
       "    <tr>\n",
       "      <th>2</th>\n",
       "      <td>2</td>\n",
       "      <td>Data Scientist</td>\n",
       "      <td>150000</td>\n",
       "      <td>Staff</td>\n",
       "      <td>0</td>\n",
       "      <td>0</td>\n",
       "      <td>0</td>\n",
       "      <td>0</td>\n",
       "      <td>1</td>\n",
       "      <td>1</td>\n",
       "      <td>...</td>\n",
       "      <td>0</td>\n",
       "      <td>0</td>\n",
       "      <td>0</td>\n",
       "      <td>0</td>\n",
       "      <td>0</td>\n",
       "      <td>0</td>\n",
       "      <td>0</td>\n",
       "      <td>0</td>\n",
       "      <td>0</td>\n",
       "      <td>7</td>\n",
       "    </tr>\n",
       "    <tr>\n",
       "      <th>3</th>\n",
       "      <td>3</td>\n",
       "      <td>Data Scientist</td>\n",
       "      <td>150000</td>\n",
       "      <td>Unknown</td>\n",
       "      <td>0</td>\n",
       "      <td>1</td>\n",
       "      <td>0</td>\n",
       "      <td>1</td>\n",
       "      <td>0</td>\n",
       "      <td>0</td>\n",
       "      <td>...</td>\n",
       "      <td>0</td>\n",
       "      <td>0</td>\n",
       "      <td>0</td>\n",
       "      <td>0</td>\n",
       "      <td>0</td>\n",
       "      <td>0</td>\n",
       "      <td>0</td>\n",
       "      <td>0</td>\n",
       "      <td>0</td>\n",
       "      <td>6</td>\n",
       "    </tr>\n",
       "    <tr>\n",
       "      <th>4</th>\n",
       "      <td>4</td>\n",
       "      <td>Data Scientist</td>\n",
       "      <td>130000</td>\n",
       "      <td>Jr.</td>\n",
       "      <td>0</td>\n",
       "      <td>0</td>\n",
       "      <td>0</td>\n",
       "      <td>0</td>\n",
       "      <td>0</td>\n",
       "      <td>0</td>\n",
       "      <td>...</td>\n",
       "      <td>0</td>\n",
       "      <td>0</td>\n",
       "      <td>0</td>\n",
       "      <td>0</td>\n",
       "      <td>0</td>\n",
       "      <td>0</td>\n",
       "      <td>0</td>\n",
       "      <td>0</td>\n",
       "      <td>0</td>\n",
       "      <td>5</td>\n",
       "    </tr>\n",
       "  </tbody>\n",
       "</table>\n",
       "<p>5 rows × 69 columns</p>\n",
       "</div>"
      ],
      "text/plain": [
       "   Job_ID           Title  Salary   Levels  Analysis skills  \\\n",
       "0       0  Data Scientist  110000      Jr.                1   \n",
       "1       1    Data Analyst  120000  Unknown                0   \n",
       "2       2  Data Scientist  150000    Staff                0   \n",
       "3       3  Data Scientist  150000  Unknown                0   \n",
       "4       4  Data Scientist  130000      Jr.                0   \n",
       "\n",
       "   Communication skills  Research  R  Machine learning  Bachelor's degree  \\\n",
       "0                     1         1  1                 1                  1   \n",
       "1                     0         0  1                 0                  1   \n",
       "2                     0         0  0                 1                  1   \n",
       "3                     1         0  1                 0                  0   \n",
       "4                     0         0  0                 0                  0   \n",
       "\n",
       "   ...  Azure  NoSQL  Master of Science  Windows  Scripting  Marketing  \\\n",
       "0  ...      0      0                  0        0          0          0   \n",
       "1  ...      0      0                  0        0          0          0   \n",
       "2  ...      0      0                  0        0          0          0   \n",
       "3  ...      0      0                  0        0          0          0   \n",
       "4  ...      0      0                  0        0          0          0   \n",
       "\n",
       "   New Relic  DevOps  Computer networking  count  \n",
       "0          0       0                    0     10  \n",
       "1          0       0                    0      5  \n",
       "2          0       0                    0      7  \n",
       "3          0       0                    0      6  \n",
       "4          0       0                    0      5  \n",
       "\n",
       "[5 rows x 69 columns]"
      ]
     },
     "execution_count": 32,
     "metadata": {},
     "output_type": "execute_result"
    }
   ],
   "source": [
    "df = df_staff\n",
    "df = df.drop(columns = ['Company', 'City'])\n",
    "df.head(5)"
   ]
  },
  {
   "cell_type": "markdown",
   "id": "3b0cdc04",
   "metadata": {},
   "source": [
    " "
   ]
  },
  {
   "cell_type": "markdown",
   "id": "a71bc0f6",
   "metadata": {},
   "source": [
    "2. Convert the **`Title`** and **`Levels`** from object to numeric data."
   ]
  },
  {
   "cell_type": "code",
   "execution_count": 33,
   "id": "867bce3d",
   "metadata": {},
   "outputs": [],
   "source": [
    "def change_obj_cols(se):\n",
    "    value = se.unique().tolist()\n",
    "    return se.map(pd.Series(range(len(value)), index = value)).values\n",
    "\n",
    "for col in ['Title', 'Levels']:\n",
    "    df[col] = change_obj_cols(df[col])"
   ]
  },
  {
   "cell_type": "code",
   "execution_count": 34,
   "id": "24ea5b36",
   "metadata": {},
   "outputs": [
    {
     "data": {
      "text/html": [
       "<div>\n",
       "<style scoped>\n",
       "    .dataframe tbody tr th:only-of-type {\n",
       "        vertical-align: middle;\n",
       "    }\n",
       "\n",
       "    .dataframe tbody tr th {\n",
       "        vertical-align: top;\n",
       "    }\n",
       "\n",
       "    .dataframe thead th {\n",
       "        text-align: right;\n",
       "    }\n",
       "</style>\n",
       "<table border=\"1\" class=\"dataframe\">\n",
       "  <thead>\n",
       "    <tr style=\"text-align: right;\">\n",
       "      <th></th>\n",
       "      <th>Job_ID</th>\n",
       "      <th>Title</th>\n",
       "      <th>Salary</th>\n",
       "      <th>Levels</th>\n",
       "      <th>Analysis skills</th>\n",
       "      <th>Communication skills</th>\n",
       "      <th>Research</th>\n",
       "      <th>R</th>\n",
       "      <th>Machine learning</th>\n",
       "      <th>Bachelor's degree</th>\n",
       "      <th>...</th>\n",
       "      <th>Azure</th>\n",
       "      <th>NoSQL</th>\n",
       "      <th>Master of Science</th>\n",
       "      <th>Windows</th>\n",
       "      <th>Scripting</th>\n",
       "      <th>Marketing</th>\n",
       "      <th>New Relic</th>\n",
       "      <th>DevOps</th>\n",
       "      <th>Computer networking</th>\n",
       "      <th>count</th>\n",
       "    </tr>\n",
       "  </thead>\n",
       "  <tbody>\n",
       "    <tr>\n",
       "      <th>0</th>\n",
       "      <td>0</td>\n",
       "      <td>0</td>\n",
       "      <td>110000</td>\n",
       "      <td>0</td>\n",
       "      <td>1</td>\n",
       "      <td>1</td>\n",
       "      <td>1</td>\n",
       "      <td>1</td>\n",
       "      <td>1</td>\n",
       "      <td>1</td>\n",
       "      <td>...</td>\n",
       "      <td>0</td>\n",
       "      <td>0</td>\n",
       "      <td>0</td>\n",
       "      <td>0</td>\n",
       "      <td>0</td>\n",
       "      <td>0</td>\n",
       "      <td>0</td>\n",
       "      <td>0</td>\n",
       "      <td>0</td>\n",
       "      <td>10</td>\n",
       "    </tr>\n",
       "    <tr>\n",
       "      <th>1</th>\n",
       "      <td>1</td>\n",
       "      <td>1</td>\n",
       "      <td>120000</td>\n",
       "      <td>1</td>\n",
       "      <td>0</td>\n",
       "      <td>0</td>\n",
       "      <td>0</td>\n",
       "      <td>1</td>\n",
       "      <td>0</td>\n",
       "      <td>1</td>\n",
       "      <td>...</td>\n",
       "      <td>0</td>\n",
       "      <td>0</td>\n",
       "      <td>0</td>\n",
       "      <td>0</td>\n",
       "      <td>0</td>\n",
       "      <td>0</td>\n",
       "      <td>0</td>\n",
       "      <td>0</td>\n",
       "      <td>0</td>\n",
       "      <td>5</td>\n",
       "    </tr>\n",
       "    <tr>\n",
       "      <th>2</th>\n",
       "      <td>2</td>\n",
       "      <td>0</td>\n",
       "      <td>150000</td>\n",
       "      <td>2</td>\n",
       "      <td>0</td>\n",
       "      <td>0</td>\n",
       "      <td>0</td>\n",
       "      <td>0</td>\n",
       "      <td>1</td>\n",
       "      <td>1</td>\n",
       "      <td>...</td>\n",
       "      <td>0</td>\n",
       "      <td>0</td>\n",
       "      <td>0</td>\n",
       "      <td>0</td>\n",
       "      <td>0</td>\n",
       "      <td>0</td>\n",
       "      <td>0</td>\n",
       "      <td>0</td>\n",
       "      <td>0</td>\n",
       "      <td>7</td>\n",
       "    </tr>\n",
       "    <tr>\n",
       "      <th>3</th>\n",
       "      <td>3</td>\n",
       "      <td>0</td>\n",
       "      <td>150000</td>\n",
       "      <td>1</td>\n",
       "      <td>0</td>\n",
       "      <td>1</td>\n",
       "      <td>0</td>\n",
       "      <td>1</td>\n",
       "      <td>0</td>\n",
       "      <td>0</td>\n",
       "      <td>...</td>\n",
       "      <td>0</td>\n",
       "      <td>0</td>\n",
       "      <td>0</td>\n",
       "      <td>0</td>\n",
       "      <td>0</td>\n",
       "      <td>0</td>\n",
       "      <td>0</td>\n",
       "      <td>0</td>\n",
       "      <td>0</td>\n",
       "      <td>6</td>\n",
       "    </tr>\n",
       "    <tr>\n",
       "      <th>4</th>\n",
       "      <td>4</td>\n",
       "      <td>0</td>\n",
       "      <td>130000</td>\n",
       "      <td>0</td>\n",
       "      <td>0</td>\n",
       "      <td>0</td>\n",
       "      <td>0</td>\n",
       "      <td>0</td>\n",
       "      <td>0</td>\n",
       "      <td>0</td>\n",
       "      <td>...</td>\n",
       "      <td>0</td>\n",
       "      <td>0</td>\n",
       "      <td>0</td>\n",
       "      <td>0</td>\n",
       "      <td>0</td>\n",
       "      <td>0</td>\n",
       "      <td>0</td>\n",
       "      <td>0</td>\n",
       "      <td>0</td>\n",
       "      <td>5</td>\n",
       "    </tr>\n",
       "  </tbody>\n",
       "</table>\n",
       "<p>5 rows × 69 columns</p>\n",
       "</div>"
      ],
      "text/plain": [
       "   Job_ID  Title  Salary  Levels  Analysis skills  Communication skills  \\\n",
       "0       0      0  110000       0                1                     1   \n",
       "1       1      1  120000       1                0                     0   \n",
       "2       2      0  150000       2                0                     0   \n",
       "3       3      0  150000       1                0                     1   \n",
       "4       4      0  130000       0                0                     0   \n",
       "\n",
       "   Research  R  Machine learning  Bachelor's degree  ...  Azure  NoSQL  \\\n",
       "0         1  1                 1                  1  ...      0      0   \n",
       "1         0  1                 0                  1  ...      0      0   \n",
       "2         0  0                 1                  1  ...      0      0   \n",
       "3         0  1                 0                  0  ...      0      0   \n",
       "4         0  0                 0                  0  ...      0      0   \n",
       "\n",
       "   Master of Science  Windows  Scripting  Marketing  New Relic  DevOps  \\\n",
       "0                  0        0          0          0          0       0   \n",
       "1                  0        0          0          0          0       0   \n",
       "2                  0        0          0          0          0       0   \n",
       "3                  0        0          0          0          0       0   \n",
       "4                  0        0          0          0          0       0   \n",
       "\n",
       "   Computer networking  count  \n",
       "0                    0     10  \n",
       "1                    0      5  \n",
       "2                    0      7  \n",
       "3                    0      6  \n",
       "4                    0      5  \n",
       "\n",
       "[5 rows x 69 columns]"
      ]
     },
     "execution_count": 34,
     "metadata": {},
     "output_type": "execute_result"
    }
   ],
   "source": [
    "df.head(5)"
   ]
  },
  {
   "cell_type": "markdown",
   "id": "a8c20c68",
   "metadata": {},
   "source": [
    " "
   ]
  },
  {
   "cell_type": "markdown",
   "id": "581d5163",
   "metadata": {},
   "source": [
    "3. Split the whole dataset into **`train`** and **`test`** datasets with the ratio 8 : 2."
   ]
  },
  {
   "cell_type": "code",
   "execution_count": 35,
   "id": "16eb73a5",
   "metadata": {},
   "outputs": [],
   "source": [
    "from sklearn.model_selection import train_test_split\n",
    "train, test = train_test_split(df, test_size = 0.2, random_state = 42, shuffle = False)"
   ]
  },
  {
   "cell_type": "markdown",
   "id": "a0744064",
   "metadata": {},
   "source": [
    " "
   ]
  },
  {
   "cell_type": "markdown",
   "id": "eaff2eb8",
   "metadata": {},
   "source": [
    "4. Save the tables into excel files."
   ]
  },
  {
   "cell_type": "code",
   "execution_count": 36,
   "id": "b40cd68d",
   "metadata": {},
   "outputs": [],
   "source": [
    "train.to_excel('train.xlsx', index = False)\n",
    "test.to_excel('test.xlsx', index = False)"
   ]
  }
 ],
 "metadata": {
  "kernelspec": {
   "display_name": "Python 3 (ipykernel)",
   "language": "python",
   "name": "python3"
  },
  "language_info": {
   "codemirror_mode": {
    "name": "ipython",
    "version": 3
   },
   "file_extension": ".py",
   "mimetype": "text/x-python",
   "name": "python",
   "nbconvert_exporter": "python",
   "pygments_lexer": "ipython3",
   "version": "3.9.7"
  }
 },
 "nbformat": 4,
 "nbformat_minor": 5
}
