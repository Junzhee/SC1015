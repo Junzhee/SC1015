{
 "cells": [
  {
   "cell_type": "code",
   "execution_count": 1,
   "id": "c6635aca",
   "metadata": {},
   "outputs": [],
   "source": [
    "import pandas as pd\n",
    "import numpy as np\n",
    "import matplotlib.pyplot as plt\n",
    "import seaborn as sb"
   ]
  },
  {
   "cell_type": "code",
   "execution_count": 2,
   "id": "3c443cae",
   "metadata": {
    "scrolled": false
   },
   "outputs": [
    {
     "data": {
      "text/html": [
       "<div>\n",
       "<style scoped>\n",
       "    .dataframe tbody tr th:only-of-type {\n",
       "        vertical-align: middle;\n",
       "    }\n",
       "\n",
       "    .dataframe tbody tr th {\n",
       "        vertical-align: top;\n",
       "    }\n",
       "\n",
       "    .dataframe thead th {\n",
       "        text-align: right;\n",
       "    }\n",
       "</style>\n",
       "<table border=\"1\" class=\"dataframe\">\n",
       "  <thead>\n",
       "    <tr style=\"text-align: right;\">\n",
       "      <th></th>\n",
       "      <th>Job_ID</th>\n",
       "      <th>Title</th>\n",
       "      <th>Company</th>\n",
       "      <th>City</th>\n",
       "      <th>Salary</th>\n",
       "      <th>Levels</th>\n",
       "      <th>Analysis skills</th>\n",
       "      <th>Communication skills</th>\n",
       "      <th>Research</th>\n",
       "      <th>R</th>\n",
       "      <th>...</th>\n",
       "      <th>Deep learning</th>\n",
       "      <th>System design</th>\n",
       "      <th>Elasticsearch</th>\n",
       "      <th>Pandas</th>\n",
       "      <th>Apache</th>\n",
       "      <th>Torch</th>\n",
       "      <th>NoSQL</th>\n",
       "      <th>Master of Science</th>\n",
       "      <th>Windows</th>\n",
       "      <th>Computer networking</th>\n",
       "    </tr>\n",
       "  </thead>\n",
       "  <tbody>\n",
       "    <tr>\n",
       "      <th>0</th>\n",
       "      <td>0</td>\n",
       "      <td>Data Scientist</td>\n",
       "      <td>Numerdox</td>\n",
       "      <td>Sacramento</td>\n",
       "      <td>110000</td>\n",
       "      <td>Jr.</td>\n",
       "      <td>1</td>\n",
       "      <td>1</td>\n",
       "      <td>1</td>\n",
       "      <td>1</td>\n",
       "      <td>...</td>\n",
       "      <td>0</td>\n",
       "      <td>0</td>\n",
       "      <td>0</td>\n",
       "      <td>0</td>\n",
       "      <td>0</td>\n",
       "      <td>0</td>\n",
       "      <td>0</td>\n",
       "      <td>0</td>\n",
       "      <td>0</td>\n",
       "      <td>0</td>\n",
       "    </tr>\n",
       "    <tr>\n",
       "      <th>1</th>\n",
       "      <td>2</td>\n",
       "      <td>Data Scientist</td>\n",
       "      <td>Cepheid</td>\n",
       "      <td>Sunnyvale</td>\n",
       "      <td>150000</td>\n",
       "      <td>Staff</td>\n",
       "      <td>0</td>\n",
       "      <td>0</td>\n",
       "      <td>0</td>\n",
       "      <td>0</td>\n",
       "      <td>...</td>\n",
       "      <td>0</td>\n",
       "      <td>0</td>\n",
       "      <td>0</td>\n",
       "      <td>0</td>\n",
       "      <td>0</td>\n",
       "      <td>0</td>\n",
       "      <td>0</td>\n",
       "      <td>0</td>\n",
       "      <td>0</td>\n",
       "      <td>0</td>\n",
       "    </tr>\n",
       "    <tr>\n",
       "      <th>2</th>\n",
       "      <td>4</td>\n",
       "      <td>Data Scientist</td>\n",
       "      <td>Tinder</td>\n",
       "      <td>San Francisco</td>\n",
       "      <td>130000</td>\n",
       "      <td>Jr.</td>\n",
       "      <td>0</td>\n",
       "      <td>0</td>\n",
       "      <td>0</td>\n",
       "      <td>0</td>\n",
       "      <td>...</td>\n",
       "      <td>0</td>\n",
       "      <td>0</td>\n",
       "      <td>0</td>\n",
       "      <td>0</td>\n",
       "      <td>0</td>\n",
       "      <td>0</td>\n",
       "      <td>0</td>\n",
       "      <td>0</td>\n",
       "      <td>0</td>\n",
       "      <td>0</td>\n",
       "    </tr>\n",
       "    <tr>\n",
       "      <th>3</th>\n",
       "      <td>5</td>\n",
       "      <td>Data Scientist</td>\n",
       "      <td>JPL/NASA</td>\n",
       "      <td>Pasadena</td>\n",
       "      <td>100000</td>\n",
       "      <td>Jr.</td>\n",
       "      <td>0</td>\n",
       "      <td>0</td>\n",
       "      <td>0</td>\n",
       "      <td>0</td>\n",
       "      <td>...</td>\n",
       "      <td>0</td>\n",
       "      <td>0</td>\n",
       "      <td>0</td>\n",
       "      <td>0</td>\n",
       "      <td>0</td>\n",
       "      <td>0</td>\n",
       "      <td>0</td>\n",
       "      <td>0</td>\n",
       "      <td>0</td>\n",
       "      <td>0</td>\n",
       "    </tr>\n",
       "    <tr>\n",
       "      <th>4</th>\n",
       "      <td>7</td>\n",
       "      <td>Data Scientist</td>\n",
       "      <td>Indeed</td>\n",
       "      <td>San Francisco</td>\n",
       "      <td>223000</td>\n",
       "      <td>Sr.</td>\n",
       "      <td>0</td>\n",
       "      <td>0</td>\n",
       "      <td>0</td>\n",
       "      <td>0</td>\n",
       "      <td>...</td>\n",
       "      <td>0</td>\n",
       "      <td>0</td>\n",
       "      <td>0</td>\n",
       "      <td>0</td>\n",
       "      <td>0</td>\n",
       "      <td>0</td>\n",
       "      <td>0</td>\n",
       "      <td>0</td>\n",
       "      <td>0</td>\n",
       "      <td>0</td>\n",
       "    </tr>\n",
       "  </tbody>\n",
       "</table>\n",
       "<p>5 rows × 42 columns</p>\n",
       "</div>"
      ],
      "text/plain": [
       "   Job_ID           Title   Company           City  Salary Levels  \\\n",
       "0       0  Data Scientist  Numerdox     Sacramento  110000    Jr.   \n",
       "1       2  Data Scientist   Cepheid      Sunnyvale  150000  Staff   \n",
       "2       4  Data Scientist    Tinder  San Francisco  130000    Jr.   \n",
       "3       5  Data Scientist  JPL/NASA       Pasadena  100000    Jr.   \n",
       "4       7  Data Scientist    Indeed  San Francisco  223000    Sr.   \n",
       "\n",
       "   Analysis skills  Communication skills  Research  R  ...  Deep learning  \\\n",
       "0                1                     1         1  1  ...              0   \n",
       "1                0                     0         0  0  ...              0   \n",
       "2                0                     0         0  0  ...              0   \n",
       "3                0                     0         0  0  ...              0   \n",
       "4                0                     0         0  0  ...              0   \n",
       "\n",
       "   System design  Elasticsearch  Pandas  Apache  Torch  NoSQL  \\\n",
       "0              0              0       0       0      0      0   \n",
       "1              0              0       0       0      0      0   \n",
       "2              0              0       0       0      0      0   \n",
       "3              0              0       0       0      0      0   \n",
       "4              0              0       0       0      0      0   \n",
       "\n",
       "   Master of Science  Windows  Computer networking  \n",
       "0                  0        0                    0  \n",
       "1                  0        0                    0  \n",
       "2                  0        0                    0  \n",
       "3                  0        0                    0  \n",
       "4                  0        0                    0  \n",
       "\n",
       "[5 rows x 42 columns]"
      ]
     },
     "execution_count": 2,
     "metadata": {},
     "output_type": "execute_result"
    }
   ],
   "source": [
    "df = pd.read_excel(\"Levels.xlsx\")\n",
    "df.head()"
   ]
  },
  {
   "cell_type": "markdown",
   "id": "1e44a1e6",
   "metadata": {},
   "source": [
    "### Univariate analysis"
   ]
  },
  {
   "cell_type": "code",
   "execution_count": 24,
   "id": "7b4f1d46",
   "metadata": {
    "scrolled": false
   },
   "outputs": [
    {
     "name": "stdout",
     "output_type": "stream",
     "text": [
      "Number of unqiue classes in Title : 9\n",
      "Number of unqiue classes in Company : 277\n",
      "Number of unqiue classes in City : 48\n",
      "Number of unqiue classes in Levels : 6\n"
     ]
    }
   ],
   "source": [
    "#check the number of unique levels for categorical data to determine suitable visualisation tool\n",
    "\n",
    "print(\"Number of unqiue classes in Title :\", len(df[\"Title\"].unique()))\n",
    "print(\"Number of unqiue classes in Company :\", len(df[\"Company\"].unique()))\n",
    "print(\"Number of unqiue classes in City :\", len(df[\"City\"].unique()))\n",
    "print(\"Number of unqiue classes in Levels :\", len(df[\"Levels\"].unique()))"
   ]
  },
  {
   "cell_type": "markdown",
   "id": "e72dab4a",
   "metadata": {},
   "source": [
    "As there is a large number of unique companies and cities, not suitable to display countplot of entire data"
   ]
  },
  {
   "cell_type": "code",
   "execution_count": 33,
   "id": "996ce45a",
   "metadata": {},
   "outputs": [
    {
     "data": {
      "text/html": [
       "<div>\n",
       "<style scoped>\n",
       "    .dataframe tbody tr th:only-of-type {\n",
       "        vertical-align: middle;\n",
       "    }\n",
       "\n",
       "    .dataframe tbody tr th {\n",
       "        vertical-align: top;\n",
       "    }\n",
       "\n",
       "    .dataframe thead th {\n",
       "        text-align: right;\n",
       "    }\n",
       "</style>\n",
       "<table border=\"1\" class=\"dataframe\">\n",
       "  <thead>\n",
       "    <tr style=\"text-align: right;\">\n",
       "      <th></th>\n",
       "      <th>Company</th>\n",
       "    </tr>\n",
       "  </thead>\n",
       "  <tbody>\n",
       "    <tr>\n",
       "      <th>count</th>\n",
       "      <td>277.000000</td>\n",
       "    </tr>\n",
       "    <tr>\n",
       "      <th>mean</th>\n",
       "      <td>2.393502</td>\n",
       "    </tr>\n",
       "    <tr>\n",
       "      <th>std</th>\n",
       "      <td>6.714711</td>\n",
       "    </tr>\n",
       "    <tr>\n",
       "      <th>min</th>\n",
       "      <td>1.000000</td>\n",
       "    </tr>\n",
       "    <tr>\n",
       "      <th>25%</th>\n",
       "      <td>1.000000</td>\n",
       "    </tr>\n",
       "    <tr>\n",
       "      <th>50%</th>\n",
       "      <td>1.000000</td>\n",
       "    </tr>\n",
       "    <tr>\n",
       "      <th>75%</th>\n",
       "      <td>2.000000</td>\n",
       "    </tr>\n",
       "    <tr>\n",
       "      <th>max</th>\n",
       "      <td>94.000000</td>\n",
       "    </tr>\n",
       "  </tbody>\n",
       "</table>\n",
       "</div>"
      ],
      "text/plain": [
       "          Company\n",
       "count  277.000000\n",
       "mean     2.393502\n",
       "std      6.714711\n",
       "min      1.000000\n",
       "25%      1.000000\n",
       "50%      1.000000\n",
       "75%      2.000000\n",
       "max     94.000000"
      ]
     },
     "execution_count": 33,
     "metadata": {},
     "output_type": "execute_result"
    }
   ],
   "source": [
    "#visualising company\n",
    "\n",
    "company = pd.DataFrame(df[\"Company\"].value_counts())\n",
    "company.describe()"
   ]
  },
  {
   "cell_type": "markdown",
   "id": "29d27185",
   "metadata": {},
   "source": [
    "Every company has a mean of only 1 employee, with 75% of companies having 2 or fewer employees.   \n",
    "Due to the low sample size, company is not a suitable predictor for our model. It will be ignored."
   ]
  },
  {
   "cell_type": "code",
   "execution_count": 34,
   "id": "d4880ce8",
   "metadata": {
    "scrolled": true
   },
   "outputs": [
    {
     "data": {
      "text/html": [
       "<div>\n",
       "<style scoped>\n",
       "    .dataframe tbody tr th:only-of-type {\n",
       "        vertical-align: middle;\n",
       "    }\n",
       "\n",
       "    .dataframe tbody tr th {\n",
       "        vertical-align: top;\n",
       "    }\n",
       "\n",
       "    .dataframe thead th {\n",
       "        text-align: right;\n",
       "    }\n",
       "</style>\n",
       "<table border=\"1\" class=\"dataframe\">\n",
       "  <thead>\n",
       "    <tr style=\"text-align: right;\">\n",
       "      <th></th>\n",
       "      <th>City</th>\n",
       "    </tr>\n",
       "  </thead>\n",
       "  <tbody>\n",
       "    <tr>\n",
       "      <th>count</th>\n",
       "      <td>48.000000</td>\n",
       "    </tr>\n",
       "    <tr>\n",
       "      <th>mean</th>\n",
       "      <td>13.812500</td>\n",
       "    </tr>\n",
       "    <tr>\n",
       "      <th>std</th>\n",
       "      <td>33.657003</td>\n",
       "    </tr>\n",
       "    <tr>\n",
       "      <th>min</th>\n",
       "      <td>1.000000</td>\n",
       "    </tr>\n",
       "    <tr>\n",
       "      <th>25%</th>\n",
       "      <td>1.000000</td>\n",
       "    </tr>\n",
       "    <tr>\n",
       "      <th>50%</th>\n",
       "      <td>2.000000</td>\n",
       "    </tr>\n",
       "    <tr>\n",
       "      <th>75%</th>\n",
       "      <td>9.000000</td>\n",
       "    </tr>\n",
       "    <tr>\n",
       "      <th>max</th>\n",
       "      <td>195.000000</td>\n",
       "    </tr>\n",
       "  </tbody>\n",
       "</table>\n",
       "</div>"
      ],
      "text/plain": [
       "             City\n",
       "count   48.000000\n",
       "mean    13.812500\n",
       "std     33.657003\n",
       "min      1.000000\n",
       "25%      1.000000\n",
       "50%      2.000000\n",
       "75%      9.000000\n",
       "max    195.000000"
      ]
     },
     "execution_count": 34,
     "metadata": {},
     "output_type": "execute_result"
    }
   ],
   "source": [
    "#visualising city\n",
    "\n",
    "city = pd.DataFrame(df[\"City\"].value_counts())\n",
    "city.describe()"
   ]
  },
  {
   "cell_type": "markdown",
   "id": "52ba728f",
   "metadata": {},
   "source": [
    "Similary, every city has a mean of only 2 employees, with 75% of cities having 9 or fewer employees.\n",
    "Due to the low sample size, company is not a suitable predictor for our model. It will be ignored."
   ]
  },
  {
   "cell_type": "code",
   "execution_count": 40,
   "id": "c7b41884",
   "metadata": {
    "scrolled": false
   },
   "outputs": [
    {
     "data": {
      "text/plain": [
       "<AxesSubplot:xlabel='count', ylabel='Levels'>"
      ]
     },
     "execution_count": 40,
     "metadata": {},
     "output_type": "execute_result"
    },
    {
     "data": {
      "image/png": "[encoded data removed]",
      "text/plain": [
       "<Figure size 1440x720 with 2 Axes>"
      ]
     },
     "metadata": {
      "needs_background": "light"
     },
     "output_type": "display_data"
    }
   ],
   "source": [
    "#visualising other categorical data\n",
    "\n",
    "f, axes = plt.subplots(1, 2, figsize=(20, 10))\n",
    "sb.countplot(y = \"Title\", data = df, ax = axes[0])\n",
    "sb.countplot(y = \"Levels\", data = df, ax = axes[1])"
   ]
  },
  {
   "cell_type": "markdown",
   "id": "44c85c74",
   "metadata": {},
   "source": [
    "For the variable 'titles', data scientist is the most common occupation for our dataset by a significant margin.   \n",
    "For the variable 'levels', Sr. is the most common experience level for our datasetby a significant margin.\n",
    "\n",
    "Possible point for recommendations: the skew in our data may affect our model. Conduct further studies on a more rounded dataset."
   ]
  },
  {
   "cell_type": "code",
   "execution_count": 47,
   "id": "5963fd70",
   "metadata": {},
   "outputs": [
    {
     "data": {
      "text/html": [
       "<div>\n",
       "<style scoped>\n",
       "    .dataframe tbody tr th:only-of-type {\n",
       "        vertical-align: middle;\n",
       "    }\n",
       "\n",
       "    .dataframe tbody tr th {\n",
       "        vertical-align: top;\n",
       "    }\n",
       "\n",
       "    .dataframe thead th {\n",
       "        text-align: right;\n",
       "    }\n",
       "</style>\n",
       "<table border=\"1\" class=\"dataframe\">\n",
       "  <thead>\n",
       "    <tr style=\"text-align: right;\">\n",
       "      <th></th>\n",
       "      <th>Salary</th>\n",
       "    </tr>\n",
       "  </thead>\n",
       "  <tbody>\n",
       "    <tr>\n",
       "      <th>count</th>\n",
       "      <td>663.000000</td>\n",
       "    </tr>\n",
       "    <tr>\n",
       "      <th>mean</th>\n",
       "      <td>157632.235294</td>\n",
       "    </tr>\n",
       "    <tr>\n",
       "      <th>std</th>\n",
       "      <td>27362.644473</td>\n",
       "    </tr>\n",
       "    <tr>\n",
       "      <th>min</th>\n",
       "      <td>59000.000000</td>\n",
       "    </tr>\n",
       "    <tr>\n",
       "      <th>25%</th>\n",
       "      <td>140000.000000</td>\n",
       "    </tr>\n",
       "    <tr>\n",
       "      <th>50%</th>\n",
       "      <td>160000.000000</td>\n",
       "    </tr>\n",
       "    <tr>\n",
       "      <th>75%</th>\n",
       "      <td>170000.000000</td>\n",
       "    </tr>\n",
       "    <tr>\n",
       "      <th>max</th>\n",
       "      <td>350000.000000</td>\n",
       "    </tr>\n",
       "  </tbody>\n",
       "</table>\n",
       "</div>"
      ],
      "text/plain": [
       "              Salary\n",
       "count     663.000000\n",
       "mean   157632.235294\n",
       "std     27362.644473\n",
       "min     59000.000000\n",
       "25%    140000.000000\n",
       "50%    160000.000000\n",
       "75%    170000.000000\n",
       "max    350000.000000"
      ]
     },
     "execution_count": 47,
     "metadata": {},
     "output_type": "execute_result"
    }
   ],
   "source": [
    "#visualising salary\n",
    "\n",
    "salary = pd.DataFrame(df[\"Salary\"])\n",
    "salary.describe()"
   ]
  },
  {
   "cell_type": "code",
   "execution_count": 48,
   "id": "549f7704",
   "metadata": {
    "scrolled": false
   },
   "outputs": [
    {
     "data": {
      "text/plain": [
       "<AxesSubplot:>"
      ]
     },
     "execution_count": 48,
     "metadata": {},
     "output_type": "execute_result"
    },
    {
     "data": {
      "image/png": "[encoded data removed]",
      "text/plain": [
       "<Figure size 2160x720 with 1 Axes>"
      ]
     },
     "metadata": {
      "needs_background": "light"
     },
     "output_type": "display_data"
    }
   ],
   "source": [
    "f, axes = plt.subplots(figsize=(30, 10))\n",
    "sb.boxplot(data = df[\"Salary\"], orient = \"h\")"
   ]
  },
  {
   "cell_type": "markdown",
   "id": "97d622fe",
   "metadata": {},
   "source": [
    "The vast majority of data points fall within 25% of the mean.   \n",
    "However, there are 13 outliers which deviate significantly from the mean. May consider removing them from train set."
   ]
  },
  {
   "cell_type": "markdown",
   "id": "24a3fd2c",
   "metadata": {},
   "source": [
    "### Bivariate analysis"
   ]
  },
  {
   "cell_type": "code",
   "execution_count": 53,
   "id": "4917f0d9",
   "metadata": {},
   "outputs": [
    {
     "data": {
      "text/plain": [
       "<AxesSubplot:xlabel='Salary', ylabel='Title'>"
      ]
     },
     "execution_count": 53,
     "metadata": {},
     "output_type": "execute_result"
    },
    {
     "data": {
      "image/png": "[encoded data removed]",
      "text/plain": [
       "<Figure size 1440x720 with 1 Axes>"
      ]
     },
     "metadata": {
      "needs_background": "light"
     },
     "output_type": "display_data"
    }
   ],
   "source": [
    "# Salary distribution for different job titles\n",
    "\n",
    "plt.figure(figsize=(20,10))\n",
    "sb.boxplot(x='Salary', y='Title', data=df)"
   ]
  },
  {
   "cell_type": "markdown",
   "id": "2385096a",
   "metadata": {},
   "source": [
    "Statistian has the lowest mean salary, with the rest having comparable mean salaries.   \n",
    "Machine learning scientists and data engineers have every high variance. "
   ]
  },
  {
   "cell_type": "code",
   "execution_count": null,
   "id": "0b6bf727",
   "metadata": {},
   "outputs": [],
   "source": []
  }
 ],
 "metadata": {
  "kernelspec": {
   "display_name": "Python 3 (ipykernel)",
   "language": "python",
   "name": "python3"
  },
  "language_info": {
   "codemirror_mode": {
    "name": "ipython",
    "version": 3
   },
   "file_extension": ".py",
   "mimetype": "text/x-python",
   "name": "python",
   "nbconvert_exporter": "python",
   "pygments_lexer": "ipython3",
   "version": "3.9.7"
  }
 },
 "nbformat": 4,
 "nbformat_minor": 5
}
